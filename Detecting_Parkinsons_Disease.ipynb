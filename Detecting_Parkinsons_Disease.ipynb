{
  "nbformat": 4,
  "nbformat_minor": 0,
  "metadata": {
    "colab": {
      "name": "Detecting Parkinsons Disease",
      "provenance": [],
      "toc_visible": true,
      "authorship_tag": "ABX9TyPUocV7zX5hu8mVz04ZEEH+",
      "include_colab_link": true
    },
    "kernelspec": {
      "name": "python3",
      "display_name": "Python 3"
    },
    "language_info": {
      "name": "python"
    }
  },
  "cells": [
    {
      "cell_type": "markdown",
      "metadata": {
        "id": "view-in-github",
        "colab_type": "text"
      },
      "source": [
        "<a href=\"https://colab.research.google.com/github/Raanank10/Detecting-Parkinson-s-Disease/blob/080821/Detecting_Parkinsons_Disease.ipynb\" target=\"_parent\"><img src=\"https://colab.research.google.com/assets/colab-badge.svg\" alt=\"Open In Colab\"/></a>"
      ]
    },
    {
      "cell_type": "markdown",
      "metadata": {
        "id": "HeQAVPfFRZL7"
      },
      "source": [
        "# Detecting Parkinsons Disease"
      ]
    },
    {
      "cell_type": "code",
      "metadata": {
        "id": "FkLgBwtR84BB"
      },
      "source": [
        "# General Tools\n",
        "import numpy as np\n",
        "import scipy as sp\n",
        "import pandas as pd\n",
        "import missingno as msno\n",
        "\n",
        "# SK Learn\n",
        "from sklearn.impute import SimpleImputer\n",
        "from sklearn.tree import DecisionTreeClassifier\n",
        "from sklearn.neighbors import KNeighborsClassifier\n",
        "from sklearn.preprocessing import MinMaxScaler\n",
        "from sklearn.linear_model import LogisticRegression\n",
        "from sklearn import preprocessing\n",
        "from sklearn.preprocessing import OrdinalEncoder\n",
        "from sklearn.ensemble import RandomForestClassifier\n",
        "from sklearn.metrics import precision_recall_curve\n",
        "from sklearn.metrics import precision_score, recall_score, f1_score\n",
        "from sklearn.metrics import accuracy_score , confusion_matrix, roc_auc_score, roc_curve\n",
        "from sklearn.metrics import log_loss\n",
        "from sklearn.metrics import classification_report \n",
        "from sklearn.model_selection import train_test_split, GridSearchCV\n",
        "from sklearn.feature_selection import SelectKBest, chi2, f_classif, mutual_info_classif\n",
        "from sklearn.model_selection import cross_val_score\n",
        "from sklearn.model_selection import StratifiedShuffleSplit\n",
        "\n",
        "# XGBoost\n",
        "import xgboost as xgb\n",
        "from xgboost import XGBClassifier\n",
        "\n",
        "\n",
        "# Trees Visualization\n",
        "import pydot\n",
        "from sklearn.tree import export_graphviz\n",
        "from sklearn.externals.six import StringIO\n",
        "\n",
        "# Misc\n",
        "import warnings\n",
        "from sys import modules\n",
        "from time import time\n",
        "from platform import python_version\n",
        "import re\n",
        "\n",
        "# Visualization\n",
        "import matplotlib.pyplot as plt\n",
        "import plotly.express as px\n",
        "import seaborn as sns\n",
        "\n",
        "# IPython\n",
        "from IPython.display import Image, display\n",
        "\n",
        "# Confuguration\n",
        "warnings.filterwarnings('ignore')\n",
        "%matplotlib inline"
      ],
      "execution_count": 629,
      "outputs": []
    },
    {
      "cell_type": "markdown",
      "metadata": {
        "id": "TnUxXFKeQ3af"
      },
      "source": [
        "# Load Data"
      ]
    },
    {
      "cell_type": "code",
      "metadata": {
        "colab": {
          "base_uri": "https://localhost:8080/",
          "height": 224
        },
        "id": "vmZZI-TF86-H",
        "outputId": "63fc1212-287b-4554-a2bf-1af861ad3167"
      },
      "source": [
        "url = 'https://raw.githubusercontent.com/Raanank10/Detecting-Parkinson-s-Disease/main/parkinsons.csv'\n",
        "\n",
        "data = pd.read_csv(url)\n",
        "data.head()"
      ],
      "execution_count": 630,
      "outputs": [
        {
          "output_type": "execute_result",
          "data": {
            "text/html": [
              "<div>\n",
              "<style scoped>\n",
              "    .dataframe tbody tr th:only-of-type {\n",
              "        vertical-align: middle;\n",
              "    }\n",
              "\n",
              "    .dataframe tbody tr th {\n",
              "        vertical-align: top;\n",
              "    }\n",
              "\n",
              "    .dataframe thead th {\n",
              "        text-align: right;\n",
              "    }\n",
              "</style>\n",
              "<table border=\"1\" class=\"dataframe\">\n",
              "  <thead>\n",
              "    <tr style=\"text-align: right;\">\n",
              "      <th></th>\n",
              "      <th>name</th>\n",
              "      <th>MDVP:Fo(Hz)</th>\n",
              "      <th>MDVP:Fhi(Hz)</th>\n",
              "      <th>MDVP:Flo(Hz)</th>\n",
              "      <th>MDVP:Jitter(%)</th>\n",
              "      <th>MDVP:Jitter(Abs)</th>\n",
              "      <th>MDVP:RAP</th>\n",
              "      <th>MDVP:PPQ</th>\n",
              "      <th>Jitter:DDP</th>\n",
              "      <th>MDVP:Shimmer</th>\n",
              "      <th>MDVP:Shimmer(dB)</th>\n",
              "      <th>Shimmer:APQ3</th>\n",
              "      <th>Shimmer:APQ5</th>\n",
              "      <th>MDVP:APQ</th>\n",
              "      <th>Shimmer:DDA</th>\n",
              "      <th>NHR</th>\n",
              "      <th>HNR</th>\n",
              "      <th>status</th>\n",
              "      <th>RPDE</th>\n",
              "      <th>DFA</th>\n",
              "      <th>spread1</th>\n",
              "      <th>spread2</th>\n",
              "      <th>D2</th>\n",
              "      <th>PPE</th>\n",
              "    </tr>\n",
              "  </thead>\n",
              "  <tbody>\n",
              "    <tr>\n",
              "      <th>0</th>\n",
              "      <td>phon_R01_S01_1</td>\n",
              "      <td>119.992</td>\n",
              "      <td>157.302</td>\n",
              "      <td>74.997</td>\n",
              "      <td>0.00784</td>\n",
              "      <td>0.00007</td>\n",
              "      <td>0.00370</td>\n",
              "      <td>0.00554</td>\n",
              "      <td>0.01109</td>\n",
              "      <td>0.04374</td>\n",
              "      <td>0.426</td>\n",
              "      <td>0.02182</td>\n",
              "      <td>0.03130</td>\n",
              "      <td>0.02971</td>\n",
              "      <td>0.06545</td>\n",
              "      <td>0.02211</td>\n",
              "      <td>21.033</td>\n",
              "      <td>1</td>\n",
              "      <td>0.414783</td>\n",
              "      <td>0.815285</td>\n",
              "      <td>-4.813031</td>\n",
              "      <td>0.266482</td>\n",
              "      <td>2.301442</td>\n",
              "      <td>0.284654</td>\n",
              "    </tr>\n",
              "    <tr>\n",
              "      <th>1</th>\n",
              "      <td>phon_R01_S01_2</td>\n",
              "      <td>122.400</td>\n",
              "      <td>148.650</td>\n",
              "      <td>113.819</td>\n",
              "      <td>0.00968</td>\n",
              "      <td>0.00008</td>\n",
              "      <td>0.00465</td>\n",
              "      <td>0.00696</td>\n",
              "      <td>0.01394</td>\n",
              "      <td>0.06134</td>\n",
              "      <td>0.626</td>\n",
              "      <td>0.03134</td>\n",
              "      <td>0.04518</td>\n",
              "      <td>0.04368</td>\n",
              "      <td>0.09403</td>\n",
              "      <td>0.01929</td>\n",
              "      <td>19.085</td>\n",
              "      <td>1</td>\n",
              "      <td>0.458359</td>\n",
              "      <td>0.819521</td>\n",
              "      <td>-4.075192</td>\n",
              "      <td>0.335590</td>\n",
              "      <td>2.486855</td>\n",
              "      <td>0.368674</td>\n",
              "    </tr>\n",
              "    <tr>\n",
              "      <th>2</th>\n",
              "      <td>phon_R01_S01_3</td>\n",
              "      <td>116.682</td>\n",
              "      <td>131.111</td>\n",
              "      <td>111.555</td>\n",
              "      <td>0.01050</td>\n",
              "      <td>0.00009</td>\n",
              "      <td>0.00544</td>\n",
              "      <td>0.00781</td>\n",
              "      <td>0.01633</td>\n",
              "      <td>0.05233</td>\n",
              "      <td>0.482</td>\n",
              "      <td>0.02757</td>\n",
              "      <td>0.03858</td>\n",
              "      <td>0.03590</td>\n",
              "      <td>0.08270</td>\n",
              "      <td>0.01309</td>\n",
              "      <td>20.651</td>\n",
              "      <td>1</td>\n",
              "      <td>0.429895</td>\n",
              "      <td>0.825288</td>\n",
              "      <td>-4.443179</td>\n",
              "      <td>0.311173</td>\n",
              "      <td>2.342259</td>\n",
              "      <td>0.332634</td>\n",
              "    </tr>\n",
              "    <tr>\n",
              "      <th>3</th>\n",
              "      <td>phon_R01_S01_4</td>\n",
              "      <td>116.676</td>\n",
              "      <td>137.871</td>\n",
              "      <td>111.366</td>\n",
              "      <td>0.00997</td>\n",
              "      <td>0.00009</td>\n",
              "      <td>0.00502</td>\n",
              "      <td>0.00698</td>\n",
              "      <td>0.01505</td>\n",
              "      <td>0.05492</td>\n",
              "      <td>0.517</td>\n",
              "      <td>0.02924</td>\n",
              "      <td>0.04005</td>\n",
              "      <td>0.03772</td>\n",
              "      <td>0.08771</td>\n",
              "      <td>0.01353</td>\n",
              "      <td>20.644</td>\n",
              "      <td>1</td>\n",
              "      <td>0.434969</td>\n",
              "      <td>0.819235</td>\n",
              "      <td>-4.117501</td>\n",
              "      <td>0.334147</td>\n",
              "      <td>2.405554</td>\n",
              "      <td>0.368975</td>\n",
              "    </tr>\n",
              "    <tr>\n",
              "      <th>4</th>\n",
              "      <td>phon_R01_S01_5</td>\n",
              "      <td>116.014</td>\n",
              "      <td>141.781</td>\n",
              "      <td>110.655</td>\n",
              "      <td>0.01284</td>\n",
              "      <td>0.00011</td>\n",
              "      <td>0.00655</td>\n",
              "      <td>0.00908</td>\n",
              "      <td>0.01966</td>\n",
              "      <td>0.06425</td>\n",
              "      <td>0.584</td>\n",
              "      <td>0.03490</td>\n",
              "      <td>0.04825</td>\n",
              "      <td>0.04465</td>\n",
              "      <td>0.10470</td>\n",
              "      <td>0.01767</td>\n",
              "      <td>19.649</td>\n",
              "      <td>1</td>\n",
              "      <td>0.417356</td>\n",
              "      <td>0.823484</td>\n",
              "      <td>-3.747787</td>\n",
              "      <td>0.234513</td>\n",
              "      <td>2.332180</td>\n",
              "      <td>0.410335</td>\n",
              "    </tr>\n",
              "  </tbody>\n",
              "</table>\n",
              "</div>"
            ],
            "text/plain": [
              "             name  MDVP:Fo(Hz)  MDVP:Fhi(Hz)  ...   spread2        D2       PPE\n",
              "0  phon_R01_S01_1      119.992       157.302  ...  0.266482  2.301442  0.284654\n",
              "1  phon_R01_S01_2      122.400       148.650  ...  0.335590  2.486855  0.368674\n",
              "2  phon_R01_S01_3      116.682       131.111  ...  0.311173  2.342259  0.332634\n",
              "3  phon_R01_S01_4      116.676       137.871  ...  0.334147  2.405554  0.368975\n",
              "4  phon_R01_S01_5      116.014       141.781  ...  0.234513  2.332180  0.410335\n",
              "\n",
              "[5 rows x 24 columns]"
            ]
          },
          "metadata": {
            "tags": []
          },
          "execution_count": 630
        }
      ]
    },
    {
      "cell_type": "code",
      "metadata": {
        "id": "VOAWLeYXCjoV"
      },
      "source": [
        "trainSize = 0.80\n",
        "randState = 990"
      ],
      "execution_count": 631,
      "outputs": []
    },
    {
      "cell_type": "markdown",
      "metadata": {
        "id": "gUbK0kyWDDTY"
      },
      "source": [
        "# EDA"
      ]
    },
    {
      "cell_type": "code",
      "metadata": {
        "colab": {
          "base_uri": "https://localhost:8080/"
        },
        "id": "1jLAmfz_CtFr",
        "outputId": "e638acc7-0461-4638-a259-9f0d76f92629"
      },
      "source": [
        "data.info()"
      ],
      "execution_count": 632,
      "outputs": [
        {
          "output_type": "stream",
          "text": [
            "<class 'pandas.core.frame.DataFrame'>\n",
            "RangeIndex: 195 entries, 0 to 194\n",
            "Data columns (total 24 columns):\n",
            " #   Column            Non-Null Count  Dtype  \n",
            "---  ------            --------------  -----  \n",
            " 0   name              195 non-null    object \n",
            " 1   MDVP:Fo(Hz)       195 non-null    float64\n",
            " 2   MDVP:Fhi(Hz)      195 non-null    float64\n",
            " 3   MDVP:Flo(Hz)      195 non-null    float64\n",
            " 4   MDVP:Jitter(%)    195 non-null    float64\n",
            " 5   MDVP:Jitter(Abs)  195 non-null    float64\n",
            " 6   MDVP:RAP          195 non-null    float64\n",
            " 7   MDVP:PPQ          195 non-null    float64\n",
            " 8   Jitter:DDP        195 non-null    float64\n",
            " 9   MDVP:Shimmer      195 non-null    float64\n",
            " 10  MDVP:Shimmer(dB)  195 non-null    float64\n",
            " 11  Shimmer:APQ3      195 non-null    float64\n",
            " 12  Shimmer:APQ5      195 non-null    float64\n",
            " 13  MDVP:APQ          195 non-null    float64\n",
            " 14  Shimmer:DDA       195 non-null    float64\n",
            " 15  NHR               195 non-null    float64\n",
            " 16  HNR               195 non-null    float64\n",
            " 17  status            195 non-null    int64  \n",
            " 18  RPDE              195 non-null    float64\n",
            " 19  DFA               195 non-null    float64\n",
            " 20  spread1           195 non-null    float64\n",
            " 21  spread2           195 non-null    float64\n",
            " 22  D2                195 non-null    float64\n",
            " 23  PPE               195 non-null    float64\n",
            "dtypes: float64(22), int64(1), object(1)\n",
            "memory usage: 36.7+ KB\n"
          ],
          "name": "stdout"
        }
      ]
    },
    {
      "cell_type": "markdown",
      "metadata": {
        "id": "p_IrO5t2DJIt"
      },
      "source": [
        "## Data Cleaning"
      ]
    },
    {
      "cell_type": "code",
      "metadata": {
        "colab": {
          "base_uri": "https://localhost:8080/"
        },
        "id": "54haOLkFDGMN",
        "outputId": "4bf93248-b866-40f1-ac1f-ece24f19ab8e"
      },
      "source": [
        "data.nunique()"
      ],
      "execution_count": 633,
      "outputs": [
        {
          "output_type": "execute_result",
          "data": {
            "text/plain": [
              "name                195\n",
              "MDVP:Fo(Hz)         195\n",
              "MDVP:Fhi(Hz)        195\n",
              "MDVP:Flo(Hz)        195\n",
              "MDVP:Jitter(%)      173\n",
              "MDVP:Jitter(Abs)     19\n",
              "MDVP:RAP            155\n",
              "MDVP:PPQ            165\n",
              "Jitter:DDP          180\n",
              "MDVP:Shimmer        188\n",
              "MDVP:Shimmer(dB)    149\n",
              "Shimmer:APQ3        184\n",
              "Shimmer:APQ5        189\n",
              "MDVP:APQ            189\n",
              "Shimmer:DDA         189\n",
              "NHR                 185\n",
              "HNR                 195\n",
              "status                2\n",
              "RPDE                195\n",
              "DFA                 195\n",
              "spread1             195\n",
              "spread2             194\n",
              "D2                  195\n",
              "PPE                 195\n",
              "dtype: int64"
            ]
          },
          "metadata": {
            "tags": []
          },
          "execution_count": 633
        }
      ]
    },
    {
      "cell_type": "code",
      "metadata": {
        "colab": {
          "base_uri": "https://localhost:8080/"
        },
        "id": "sGw0lWsuDQtr",
        "outputId": "941208d2-acc6-4dba-8b05-f0d43f4bf58f"
      },
      "source": [
        "unique_data = data.drop_duplicates(inplace=False)\n",
        "unique_data.info()\n"
      ],
      "execution_count": 634,
      "outputs": [
        {
          "output_type": "stream",
          "text": [
            "<class 'pandas.core.frame.DataFrame'>\n",
            "Int64Index: 195 entries, 0 to 194\n",
            "Data columns (total 24 columns):\n",
            " #   Column            Non-Null Count  Dtype  \n",
            "---  ------            --------------  -----  \n",
            " 0   name              195 non-null    object \n",
            " 1   MDVP:Fo(Hz)       195 non-null    float64\n",
            " 2   MDVP:Fhi(Hz)      195 non-null    float64\n",
            " 3   MDVP:Flo(Hz)      195 non-null    float64\n",
            " 4   MDVP:Jitter(%)    195 non-null    float64\n",
            " 5   MDVP:Jitter(Abs)  195 non-null    float64\n",
            " 6   MDVP:RAP          195 non-null    float64\n",
            " 7   MDVP:PPQ          195 non-null    float64\n",
            " 8   Jitter:DDP        195 non-null    float64\n",
            " 9   MDVP:Shimmer      195 non-null    float64\n",
            " 10  MDVP:Shimmer(dB)  195 non-null    float64\n",
            " 11  Shimmer:APQ3      195 non-null    float64\n",
            " 12  Shimmer:APQ5      195 non-null    float64\n",
            " 13  MDVP:APQ          195 non-null    float64\n",
            " 14  Shimmer:DDA       195 non-null    float64\n",
            " 15  NHR               195 non-null    float64\n",
            " 16  HNR               195 non-null    float64\n",
            " 17  status            195 non-null    int64  \n",
            " 18  RPDE              195 non-null    float64\n",
            " 19  DFA               195 non-null    float64\n",
            " 20  spread1           195 non-null    float64\n",
            " 21  spread2           195 non-null    float64\n",
            " 22  D2                195 non-null    float64\n",
            " 23  PPE               195 non-null    float64\n",
            "dtypes: float64(22), int64(1), object(1)\n",
            "memory usage: 38.1+ KB\n"
          ],
          "name": "stdout"
        }
      ]
    },
    {
      "cell_type": "code",
      "metadata": {
        "colab": {
          "base_uri": "https://localhost:8080/",
          "height": 316
        },
        "id": "Zmi2tCwwO4Pi",
        "outputId": "7660fb25-0964-4921-ab93-a45a4f3a2add"
      },
      "source": [
        "data.describe()"
      ],
      "execution_count": 635,
      "outputs": [
        {
          "output_type": "execute_result",
          "data": {
            "text/html": [
              "<div>\n",
              "<style scoped>\n",
              "    .dataframe tbody tr th:only-of-type {\n",
              "        vertical-align: middle;\n",
              "    }\n",
              "\n",
              "    .dataframe tbody tr th {\n",
              "        vertical-align: top;\n",
              "    }\n",
              "\n",
              "    .dataframe thead th {\n",
              "        text-align: right;\n",
              "    }\n",
              "</style>\n",
              "<table border=\"1\" class=\"dataframe\">\n",
              "  <thead>\n",
              "    <tr style=\"text-align: right;\">\n",
              "      <th></th>\n",
              "      <th>MDVP:Fo(Hz)</th>\n",
              "      <th>MDVP:Fhi(Hz)</th>\n",
              "      <th>MDVP:Flo(Hz)</th>\n",
              "      <th>MDVP:Jitter(%)</th>\n",
              "      <th>MDVP:Jitter(Abs)</th>\n",
              "      <th>MDVP:RAP</th>\n",
              "      <th>MDVP:PPQ</th>\n",
              "      <th>Jitter:DDP</th>\n",
              "      <th>MDVP:Shimmer</th>\n",
              "      <th>MDVP:Shimmer(dB)</th>\n",
              "      <th>Shimmer:APQ3</th>\n",
              "      <th>Shimmer:APQ5</th>\n",
              "      <th>MDVP:APQ</th>\n",
              "      <th>Shimmer:DDA</th>\n",
              "      <th>NHR</th>\n",
              "      <th>HNR</th>\n",
              "      <th>status</th>\n",
              "      <th>RPDE</th>\n",
              "      <th>DFA</th>\n",
              "      <th>spread1</th>\n",
              "      <th>spread2</th>\n",
              "      <th>D2</th>\n",
              "      <th>PPE</th>\n",
              "    </tr>\n",
              "  </thead>\n",
              "  <tbody>\n",
              "    <tr>\n",
              "      <th>count</th>\n",
              "      <td>195.000000</td>\n",
              "      <td>195.000000</td>\n",
              "      <td>195.000000</td>\n",
              "      <td>195.000000</td>\n",
              "      <td>195.000000</td>\n",
              "      <td>195.000000</td>\n",
              "      <td>195.000000</td>\n",
              "      <td>195.000000</td>\n",
              "      <td>195.000000</td>\n",
              "      <td>195.000000</td>\n",
              "      <td>195.000000</td>\n",
              "      <td>195.000000</td>\n",
              "      <td>195.000000</td>\n",
              "      <td>195.000000</td>\n",
              "      <td>195.000000</td>\n",
              "      <td>195.000000</td>\n",
              "      <td>195.000000</td>\n",
              "      <td>195.000000</td>\n",
              "      <td>195.000000</td>\n",
              "      <td>195.000000</td>\n",
              "      <td>195.000000</td>\n",
              "      <td>195.000000</td>\n",
              "      <td>195.000000</td>\n",
              "    </tr>\n",
              "    <tr>\n",
              "      <th>mean</th>\n",
              "      <td>154.228641</td>\n",
              "      <td>197.104918</td>\n",
              "      <td>116.324631</td>\n",
              "      <td>0.006220</td>\n",
              "      <td>0.000044</td>\n",
              "      <td>0.003306</td>\n",
              "      <td>0.003446</td>\n",
              "      <td>0.009920</td>\n",
              "      <td>0.029709</td>\n",
              "      <td>0.282251</td>\n",
              "      <td>0.015664</td>\n",
              "      <td>0.017878</td>\n",
              "      <td>0.024081</td>\n",
              "      <td>0.046993</td>\n",
              "      <td>0.024847</td>\n",
              "      <td>21.885974</td>\n",
              "      <td>0.753846</td>\n",
              "      <td>0.498536</td>\n",
              "      <td>0.718099</td>\n",
              "      <td>-5.684397</td>\n",
              "      <td>0.226510</td>\n",
              "      <td>2.381826</td>\n",
              "      <td>0.206552</td>\n",
              "    </tr>\n",
              "    <tr>\n",
              "      <th>std</th>\n",
              "      <td>41.390065</td>\n",
              "      <td>91.491548</td>\n",
              "      <td>43.521413</td>\n",
              "      <td>0.004848</td>\n",
              "      <td>0.000035</td>\n",
              "      <td>0.002968</td>\n",
              "      <td>0.002759</td>\n",
              "      <td>0.008903</td>\n",
              "      <td>0.018857</td>\n",
              "      <td>0.194877</td>\n",
              "      <td>0.010153</td>\n",
              "      <td>0.012024</td>\n",
              "      <td>0.016947</td>\n",
              "      <td>0.030459</td>\n",
              "      <td>0.040418</td>\n",
              "      <td>4.425764</td>\n",
              "      <td>0.431878</td>\n",
              "      <td>0.103942</td>\n",
              "      <td>0.055336</td>\n",
              "      <td>1.090208</td>\n",
              "      <td>0.083406</td>\n",
              "      <td>0.382799</td>\n",
              "      <td>0.090119</td>\n",
              "    </tr>\n",
              "    <tr>\n",
              "      <th>min</th>\n",
              "      <td>88.333000</td>\n",
              "      <td>102.145000</td>\n",
              "      <td>65.476000</td>\n",
              "      <td>0.001680</td>\n",
              "      <td>0.000007</td>\n",
              "      <td>0.000680</td>\n",
              "      <td>0.000920</td>\n",
              "      <td>0.002040</td>\n",
              "      <td>0.009540</td>\n",
              "      <td>0.085000</td>\n",
              "      <td>0.004550</td>\n",
              "      <td>0.005700</td>\n",
              "      <td>0.007190</td>\n",
              "      <td>0.013640</td>\n",
              "      <td>0.000650</td>\n",
              "      <td>8.441000</td>\n",
              "      <td>0.000000</td>\n",
              "      <td>0.256570</td>\n",
              "      <td>0.574282</td>\n",
              "      <td>-7.964984</td>\n",
              "      <td>0.006274</td>\n",
              "      <td>1.423287</td>\n",
              "      <td>0.044539</td>\n",
              "    </tr>\n",
              "    <tr>\n",
              "      <th>25%</th>\n",
              "      <td>117.572000</td>\n",
              "      <td>134.862500</td>\n",
              "      <td>84.291000</td>\n",
              "      <td>0.003460</td>\n",
              "      <td>0.000020</td>\n",
              "      <td>0.001660</td>\n",
              "      <td>0.001860</td>\n",
              "      <td>0.004985</td>\n",
              "      <td>0.016505</td>\n",
              "      <td>0.148500</td>\n",
              "      <td>0.008245</td>\n",
              "      <td>0.009580</td>\n",
              "      <td>0.013080</td>\n",
              "      <td>0.024735</td>\n",
              "      <td>0.005925</td>\n",
              "      <td>19.198000</td>\n",
              "      <td>1.000000</td>\n",
              "      <td>0.421306</td>\n",
              "      <td>0.674758</td>\n",
              "      <td>-6.450096</td>\n",
              "      <td>0.174351</td>\n",
              "      <td>2.099125</td>\n",
              "      <td>0.137451</td>\n",
              "    </tr>\n",
              "    <tr>\n",
              "      <th>50%</th>\n",
              "      <td>148.790000</td>\n",
              "      <td>175.829000</td>\n",
              "      <td>104.315000</td>\n",
              "      <td>0.004940</td>\n",
              "      <td>0.000030</td>\n",
              "      <td>0.002500</td>\n",
              "      <td>0.002690</td>\n",
              "      <td>0.007490</td>\n",
              "      <td>0.022970</td>\n",
              "      <td>0.221000</td>\n",
              "      <td>0.012790</td>\n",
              "      <td>0.013470</td>\n",
              "      <td>0.018260</td>\n",
              "      <td>0.038360</td>\n",
              "      <td>0.011660</td>\n",
              "      <td>22.085000</td>\n",
              "      <td>1.000000</td>\n",
              "      <td>0.495954</td>\n",
              "      <td>0.722254</td>\n",
              "      <td>-5.720868</td>\n",
              "      <td>0.218885</td>\n",
              "      <td>2.361532</td>\n",
              "      <td>0.194052</td>\n",
              "    </tr>\n",
              "    <tr>\n",
              "      <th>75%</th>\n",
              "      <td>182.769000</td>\n",
              "      <td>224.205500</td>\n",
              "      <td>140.018500</td>\n",
              "      <td>0.007365</td>\n",
              "      <td>0.000060</td>\n",
              "      <td>0.003835</td>\n",
              "      <td>0.003955</td>\n",
              "      <td>0.011505</td>\n",
              "      <td>0.037885</td>\n",
              "      <td>0.350000</td>\n",
              "      <td>0.020265</td>\n",
              "      <td>0.022380</td>\n",
              "      <td>0.029400</td>\n",
              "      <td>0.060795</td>\n",
              "      <td>0.025640</td>\n",
              "      <td>25.075500</td>\n",
              "      <td>1.000000</td>\n",
              "      <td>0.587562</td>\n",
              "      <td>0.761881</td>\n",
              "      <td>-5.046192</td>\n",
              "      <td>0.279234</td>\n",
              "      <td>2.636456</td>\n",
              "      <td>0.252980</td>\n",
              "    </tr>\n",
              "    <tr>\n",
              "      <th>max</th>\n",
              "      <td>260.105000</td>\n",
              "      <td>592.030000</td>\n",
              "      <td>239.170000</td>\n",
              "      <td>0.033160</td>\n",
              "      <td>0.000260</td>\n",
              "      <td>0.021440</td>\n",
              "      <td>0.019580</td>\n",
              "      <td>0.064330</td>\n",
              "      <td>0.119080</td>\n",
              "      <td>1.302000</td>\n",
              "      <td>0.056470</td>\n",
              "      <td>0.079400</td>\n",
              "      <td>0.137780</td>\n",
              "      <td>0.169420</td>\n",
              "      <td>0.314820</td>\n",
              "      <td>33.047000</td>\n",
              "      <td>1.000000</td>\n",
              "      <td>0.685151</td>\n",
              "      <td>0.825288</td>\n",
              "      <td>-2.434031</td>\n",
              "      <td>0.450493</td>\n",
              "      <td>3.671155</td>\n",
              "      <td>0.527367</td>\n",
              "    </tr>\n",
              "  </tbody>\n",
              "</table>\n",
              "</div>"
            ],
            "text/plain": [
              "       MDVP:Fo(Hz)  MDVP:Fhi(Hz)  ...          D2         PPE\n",
              "count   195.000000    195.000000  ...  195.000000  195.000000\n",
              "mean    154.228641    197.104918  ...    2.381826    0.206552\n",
              "std      41.390065     91.491548  ...    0.382799    0.090119\n",
              "min      88.333000    102.145000  ...    1.423287    0.044539\n",
              "25%     117.572000    134.862500  ...    2.099125    0.137451\n",
              "50%     148.790000    175.829000  ...    2.361532    0.194052\n",
              "75%     182.769000    224.205500  ...    2.636456    0.252980\n",
              "max     260.105000    592.030000  ...    3.671155    0.527367\n",
              "\n",
              "[8 rows x 23 columns]"
            ]
          },
          "metadata": {
            "tags": []
          },
          "execution_count": 635
        }
      ]
    },
    {
      "cell_type": "code",
      "metadata": {
        "id": "-hz9viLFAFJZ"
      },
      "source": [
        "#DataFlair - Get the features and labels\n",
        "features = data.loc[:,data.columns!='status'].values[:,1:]\n",
        "labels = data.loc[:,'status'].values"
      ],
      "execution_count": 636,
      "outputs": []
    },
    {
      "cell_type": "code",
      "metadata": {
        "colab": {
          "base_uri": "https://localhost:8080/",
          "height": 652
        },
        "id": "Zq4DZGbuER1F",
        "outputId": "8bc8ce00-c91e-4078-8f47-44daef411539"
      },
      "source": [
        "msno.bar(data, figsize=(20, 8))"
      ],
      "execution_count": 637,
      "outputs": [
        {
          "output_type": "execute_result",
          "data": {
            "text/plain": [
              "<matplotlib.axes._subplots.AxesSubplot at 0x7f1933f4ed90>"
            ]
          },
          "metadata": {
            "tags": []
          },
          "execution_count": 637
        },
        {
          "output_type": "display_data",
          "data": {
            "image/png": "[encoded data removed]",
            "text/plain": [
              "<Figure size 1440x576 with 3 Axes>"
            ]
          },
          "metadata": {
            "tags": [],
            "needs_background": "light"
          }
        }
      ]
    },
    {
      "cell_type": "markdown",
      "metadata": {
        "id": "Q2IS_XOYIE1j"
      },
      "source": [
        "## Preprocessing"
      ]
    },
    {
      "cell_type": "code",
      "metadata": {
        "colab": {
          "base_uri": "https://localhost:8080/",
          "height": 779
        },
        "id": "2KkCzfmSICU7",
        "outputId": "26d7d6e3-fb85-4a86-be60-74fde3b12c35"
      },
      "source": [
        "data.corr()"
      ],
      "execution_count": 638,
      "outputs": [
        {
          "output_type": "execute_result",
          "data": {
            "text/html": [
              "<div>\n",
              "<style scoped>\n",
              "    .dataframe tbody tr th:only-of-type {\n",
              "        vertical-align: middle;\n",
              "    }\n",
              "\n",
              "    .dataframe tbody tr th {\n",
              "        vertical-align: top;\n",
              "    }\n",
              "\n",
              "    .dataframe thead th {\n",
              "        text-align: right;\n",
              "    }\n",
              "</style>\n",
              "<table border=\"1\" class=\"dataframe\">\n",
              "  <thead>\n",
              "    <tr style=\"text-align: right;\">\n",
              "      <th></th>\n",
              "      <th>MDVP:Fo(Hz)</th>\n",
              "      <th>MDVP:Fhi(Hz)</th>\n",
              "      <th>MDVP:Flo(Hz)</th>\n",
              "      <th>MDVP:Jitter(%)</th>\n",
              "      <th>MDVP:Jitter(Abs)</th>\n",
              "      <th>MDVP:RAP</th>\n",
              "      <th>MDVP:PPQ</th>\n",
              "      <th>Jitter:DDP</th>\n",
              "      <th>MDVP:Shimmer</th>\n",
              "      <th>MDVP:Shimmer(dB)</th>\n",
              "      <th>Shimmer:APQ3</th>\n",
              "      <th>Shimmer:APQ5</th>\n",
              "      <th>MDVP:APQ</th>\n",
              "      <th>Shimmer:DDA</th>\n",
              "      <th>NHR</th>\n",
              "      <th>HNR</th>\n",
              "      <th>status</th>\n",
              "      <th>RPDE</th>\n",
              "      <th>DFA</th>\n",
              "      <th>spread1</th>\n",
              "      <th>spread2</th>\n",
              "      <th>D2</th>\n",
              "      <th>PPE</th>\n",
              "    </tr>\n",
              "  </thead>\n",
              "  <tbody>\n",
              "    <tr>\n",
              "      <th>MDVP:Fo(Hz)</th>\n",
              "      <td>1.000000</td>\n",
              "      <td>0.400985</td>\n",
              "      <td>0.596546</td>\n",
              "      <td>-0.118003</td>\n",
              "      <td>-0.382027</td>\n",
              "      <td>-0.076194</td>\n",
              "      <td>-0.112165</td>\n",
              "      <td>-0.076213</td>\n",
              "      <td>-0.098374</td>\n",
              "      <td>-0.073742</td>\n",
              "      <td>-0.094717</td>\n",
              "      <td>-0.070682</td>\n",
              "      <td>-0.077774</td>\n",
              "      <td>-0.094732</td>\n",
              "      <td>-0.021981</td>\n",
              "      <td>0.059144</td>\n",
              "      <td>-0.383535</td>\n",
              "      <td>-0.383894</td>\n",
              "      <td>-0.446013</td>\n",
              "      <td>-0.413738</td>\n",
              "      <td>-0.249450</td>\n",
              "      <td>0.177980</td>\n",
              "      <td>-0.372356</td>\n",
              "    </tr>\n",
              "    <tr>\n",
              "      <th>MDVP:Fhi(Hz)</th>\n",
              "      <td>0.400985</td>\n",
              "      <td>1.000000</td>\n",
              "      <td>0.084951</td>\n",
              "      <td>0.102086</td>\n",
              "      <td>-0.029198</td>\n",
              "      <td>0.097177</td>\n",
              "      <td>0.091126</td>\n",
              "      <td>0.097150</td>\n",
              "      <td>0.002281</td>\n",
              "      <td>0.043465</td>\n",
              "      <td>-0.003743</td>\n",
              "      <td>-0.009997</td>\n",
              "      <td>0.004937</td>\n",
              "      <td>-0.003733</td>\n",
              "      <td>0.163766</td>\n",
              "      <td>-0.024893</td>\n",
              "      <td>-0.166136</td>\n",
              "      <td>-0.112404</td>\n",
              "      <td>-0.343097</td>\n",
              "      <td>-0.076658</td>\n",
              "      <td>-0.002954</td>\n",
              "      <td>0.176323</td>\n",
              "      <td>-0.069543</td>\n",
              "    </tr>\n",
              "    <tr>\n",
              "      <th>MDVP:Flo(Hz)</th>\n",
              "      <td>0.596546</td>\n",
              "      <td>0.084951</td>\n",
              "      <td>1.000000</td>\n",
              "      <td>-0.139919</td>\n",
              "      <td>-0.277815</td>\n",
              "      <td>-0.100519</td>\n",
              "      <td>-0.095828</td>\n",
              "      <td>-0.100488</td>\n",
              "      <td>-0.144543</td>\n",
              "      <td>-0.119089</td>\n",
              "      <td>-0.150747</td>\n",
              "      <td>-0.101095</td>\n",
              "      <td>-0.107293</td>\n",
              "      <td>-0.150737</td>\n",
              "      <td>-0.108670</td>\n",
              "      <td>0.210851</td>\n",
              "      <td>-0.380200</td>\n",
              "      <td>-0.400143</td>\n",
              "      <td>-0.050406</td>\n",
              "      <td>-0.394857</td>\n",
              "      <td>-0.243829</td>\n",
              "      <td>-0.100629</td>\n",
              "      <td>-0.340071</td>\n",
              "    </tr>\n",
              "    <tr>\n",
              "      <th>MDVP:Jitter(%)</th>\n",
              "      <td>-0.118003</td>\n",
              "      <td>0.102086</td>\n",
              "      <td>-0.139919</td>\n",
              "      <td>1.000000</td>\n",
              "      <td>0.935714</td>\n",
              "      <td>0.990276</td>\n",
              "      <td>0.974256</td>\n",
              "      <td>0.990276</td>\n",
              "      <td>0.769063</td>\n",
              "      <td>0.804289</td>\n",
              "      <td>0.746625</td>\n",
              "      <td>0.725561</td>\n",
              "      <td>0.758255</td>\n",
              "      <td>0.746635</td>\n",
              "      <td>0.906959</td>\n",
              "      <td>-0.728165</td>\n",
              "      <td>0.278220</td>\n",
              "      <td>0.360673</td>\n",
              "      <td>0.098572</td>\n",
              "      <td>0.693577</td>\n",
              "      <td>0.385123</td>\n",
              "      <td>0.433434</td>\n",
              "      <td>0.721543</td>\n",
              "    </tr>\n",
              "    <tr>\n",
              "      <th>MDVP:Jitter(Abs)</th>\n",
              "      <td>-0.382027</td>\n",
              "      <td>-0.029198</td>\n",
              "      <td>-0.277815</td>\n",
              "      <td>0.935714</td>\n",
              "      <td>1.000000</td>\n",
              "      <td>0.922911</td>\n",
              "      <td>0.897778</td>\n",
              "      <td>0.922913</td>\n",
              "      <td>0.703322</td>\n",
              "      <td>0.716601</td>\n",
              "      <td>0.697153</td>\n",
              "      <td>0.648961</td>\n",
              "      <td>0.648793</td>\n",
              "      <td>0.697170</td>\n",
              "      <td>0.834972</td>\n",
              "      <td>-0.656810</td>\n",
              "      <td>0.338653</td>\n",
              "      <td>0.441839</td>\n",
              "      <td>0.175036</td>\n",
              "      <td>0.735779</td>\n",
              "      <td>0.388543</td>\n",
              "      <td>0.310694</td>\n",
              "      <td>0.748162</td>\n",
              "    </tr>\n",
              "    <tr>\n",
              "      <th>MDVP:RAP</th>\n",
              "      <td>-0.076194</td>\n",
              "      <td>0.097177</td>\n",
              "      <td>-0.100519</td>\n",
              "      <td>0.990276</td>\n",
              "      <td>0.922911</td>\n",
              "      <td>1.000000</td>\n",
              "      <td>0.957317</td>\n",
              "      <td>1.000000</td>\n",
              "      <td>0.759581</td>\n",
              "      <td>0.790652</td>\n",
              "      <td>0.744912</td>\n",
              "      <td>0.709927</td>\n",
              "      <td>0.737455</td>\n",
              "      <td>0.744919</td>\n",
              "      <td>0.919521</td>\n",
              "      <td>-0.721543</td>\n",
              "      <td>0.266668</td>\n",
              "      <td>0.342140</td>\n",
              "      <td>0.064083</td>\n",
              "      <td>0.648328</td>\n",
              "      <td>0.324407</td>\n",
              "      <td>0.426605</td>\n",
              "      <td>0.670999</td>\n",
              "    </tr>\n",
              "    <tr>\n",
              "      <th>MDVP:PPQ</th>\n",
              "      <td>-0.112165</td>\n",
              "      <td>0.091126</td>\n",
              "      <td>-0.095828</td>\n",
              "      <td>0.974256</td>\n",
              "      <td>0.897778</td>\n",
              "      <td>0.957317</td>\n",
              "      <td>1.000000</td>\n",
              "      <td>0.957319</td>\n",
              "      <td>0.797826</td>\n",
              "      <td>0.839239</td>\n",
              "      <td>0.763580</td>\n",
              "      <td>0.786780</td>\n",
              "      <td>0.804139</td>\n",
              "      <td>0.763592</td>\n",
              "      <td>0.844604</td>\n",
              "      <td>-0.731510</td>\n",
              "      <td>0.288698</td>\n",
              "      <td>0.333274</td>\n",
              "      <td>0.196301</td>\n",
              "      <td>0.716489</td>\n",
              "      <td>0.407605</td>\n",
              "      <td>0.412524</td>\n",
              "      <td>0.769647</td>\n",
              "    </tr>\n",
              "    <tr>\n",
              "      <th>Jitter:DDP</th>\n",
              "      <td>-0.076213</td>\n",
              "      <td>0.097150</td>\n",
              "      <td>-0.100488</td>\n",
              "      <td>0.990276</td>\n",
              "      <td>0.922913</td>\n",
              "      <td>1.000000</td>\n",
              "      <td>0.957319</td>\n",
              "      <td>1.000000</td>\n",
              "      <td>0.759555</td>\n",
              "      <td>0.790621</td>\n",
              "      <td>0.744894</td>\n",
              "      <td>0.709907</td>\n",
              "      <td>0.737439</td>\n",
              "      <td>0.744901</td>\n",
              "      <td>0.919548</td>\n",
              "      <td>-0.721494</td>\n",
              "      <td>0.266646</td>\n",
              "      <td>0.342079</td>\n",
              "      <td>0.064026</td>\n",
              "      <td>0.648328</td>\n",
              "      <td>0.324377</td>\n",
              "      <td>0.426556</td>\n",
              "      <td>0.671005</td>\n",
              "    </tr>\n",
              "    <tr>\n",
              "      <th>MDVP:Shimmer</th>\n",
              "      <td>-0.098374</td>\n",
              "      <td>0.002281</td>\n",
              "      <td>-0.144543</td>\n",
              "      <td>0.769063</td>\n",
              "      <td>0.703322</td>\n",
              "      <td>0.759581</td>\n",
              "      <td>0.797826</td>\n",
              "      <td>0.759555</td>\n",
              "      <td>1.000000</td>\n",
              "      <td>0.987258</td>\n",
              "      <td>0.987625</td>\n",
              "      <td>0.982835</td>\n",
              "      <td>0.950083</td>\n",
              "      <td>0.987626</td>\n",
              "      <td>0.722194</td>\n",
              "      <td>-0.835271</td>\n",
              "      <td>0.367430</td>\n",
              "      <td>0.447424</td>\n",
              "      <td>0.159954</td>\n",
              "      <td>0.654734</td>\n",
              "      <td>0.452025</td>\n",
              "      <td>0.507088</td>\n",
              "      <td>0.693771</td>\n",
              "    </tr>\n",
              "    <tr>\n",
              "      <th>MDVP:Shimmer(dB)</th>\n",
              "      <td>-0.073742</td>\n",
              "      <td>0.043465</td>\n",
              "      <td>-0.119089</td>\n",
              "      <td>0.804289</td>\n",
              "      <td>0.716601</td>\n",
              "      <td>0.790652</td>\n",
              "      <td>0.839239</td>\n",
              "      <td>0.790621</td>\n",
              "      <td>0.987258</td>\n",
              "      <td>1.000000</td>\n",
              "      <td>0.963198</td>\n",
              "      <td>0.973751</td>\n",
              "      <td>0.960977</td>\n",
              "      <td>0.963202</td>\n",
              "      <td>0.744477</td>\n",
              "      <td>-0.827805</td>\n",
              "      <td>0.350697</td>\n",
              "      <td>0.410684</td>\n",
              "      <td>0.165157</td>\n",
              "      <td>0.652547</td>\n",
              "      <td>0.454314</td>\n",
              "      <td>0.512233</td>\n",
              "      <td>0.695058</td>\n",
              "    </tr>\n",
              "    <tr>\n",
              "      <th>Shimmer:APQ3</th>\n",
              "      <td>-0.094717</td>\n",
              "      <td>-0.003743</td>\n",
              "      <td>-0.150747</td>\n",
              "      <td>0.746625</td>\n",
              "      <td>0.697153</td>\n",
              "      <td>0.744912</td>\n",
              "      <td>0.763580</td>\n",
              "      <td>0.744894</td>\n",
              "      <td>0.987625</td>\n",
              "      <td>0.963198</td>\n",
              "      <td>1.000000</td>\n",
              "      <td>0.960070</td>\n",
              "      <td>0.896645</td>\n",
              "      <td>1.000000</td>\n",
              "      <td>0.716207</td>\n",
              "      <td>-0.827123</td>\n",
              "      <td>0.347617</td>\n",
              "      <td>0.435242</td>\n",
              "      <td>0.151124</td>\n",
              "      <td>0.610967</td>\n",
              "      <td>0.402243</td>\n",
              "      <td>0.467265</td>\n",
              "      <td>0.645377</td>\n",
              "    </tr>\n",
              "    <tr>\n",
              "      <th>Shimmer:APQ5</th>\n",
              "      <td>-0.070682</td>\n",
              "      <td>-0.009997</td>\n",
              "      <td>-0.101095</td>\n",
              "      <td>0.725561</td>\n",
              "      <td>0.648961</td>\n",
              "      <td>0.709927</td>\n",
              "      <td>0.786780</td>\n",
              "      <td>0.709907</td>\n",
              "      <td>0.982835</td>\n",
              "      <td>0.973751</td>\n",
              "      <td>0.960070</td>\n",
              "      <td>1.000000</td>\n",
              "      <td>0.949146</td>\n",
              "      <td>0.960072</td>\n",
              "      <td>0.658080</td>\n",
              "      <td>-0.813753</td>\n",
              "      <td>0.351148</td>\n",
              "      <td>0.399903</td>\n",
              "      <td>0.213873</td>\n",
              "      <td>0.646809</td>\n",
              "      <td>0.457195</td>\n",
              "      <td>0.502174</td>\n",
              "      <td>0.702456</td>\n",
              "    </tr>\n",
              "    <tr>\n",
              "      <th>MDVP:APQ</th>\n",
              "      <td>-0.077774</td>\n",
              "      <td>0.004937</td>\n",
              "      <td>-0.107293</td>\n",
              "      <td>0.758255</td>\n",
              "      <td>0.648793</td>\n",
              "      <td>0.737455</td>\n",
              "      <td>0.804139</td>\n",
              "      <td>0.737439</td>\n",
              "      <td>0.950083</td>\n",
              "      <td>0.960977</td>\n",
              "      <td>0.896645</td>\n",
              "      <td>0.949146</td>\n",
              "      <td>1.000000</td>\n",
              "      <td>0.896647</td>\n",
              "      <td>0.694019</td>\n",
              "      <td>-0.800407</td>\n",
              "      <td>0.364316</td>\n",
              "      <td>0.451379</td>\n",
              "      <td>0.157276</td>\n",
              "      <td>0.673158</td>\n",
              "      <td>0.502188</td>\n",
              "      <td>0.536869</td>\n",
              "      <td>0.721694</td>\n",
              "    </tr>\n",
              "    <tr>\n",
              "      <th>Shimmer:DDA</th>\n",
              "      <td>-0.094732</td>\n",
              "      <td>-0.003733</td>\n",
              "      <td>-0.150737</td>\n",
              "      <td>0.746635</td>\n",
              "      <td>0.697170</td>\n",
              "      <td>0.744919</td>\n",
              "      <td>0.763592</td>\n",
              "      <td>0.744901</td>\n",
              "      <td>0.987626</td>\n",
              "      <td>0.963202</td>\n",
              "      <td>1.000000</td>\n",
              "      <td>0.960072</td>\n",
              "      <td>0.896647</td>\n",
              "      <td>1.000000</td>\n",
              "      <td>0.716215</td>\n",
              "      <td>-0.827130</td>\n",
              "      <td>0.347608</td>\n",
              "      <td>0.435237</td>\n",
              "      <td>0.151132</td>\n",
              "      <td>0.610971</td>\n",
              "      <td>0.402223</td>\n",
              "      <td>0.467261</td>\n",
              "      <td>0.645389</td>\n",
              "    </tr>\n",
              "    <tr>\n",
              "      <th>NHR</th>\n",
              "      <td>-0.021981</td>\n",
              "      <td>0.163766</td>\n",
              "      <td>-0.108670</td>\n",
              "      <td>0.906959</td>\n",
              "      <td>0.834972</td>\n",
              "      <td>0.919521</td>\n",
              "      <td>0.844604</td>\n",
              "      <td>0.919548</td>\n",
              "      <td>0.722194</td>\n",
              "      <td>0.744477</td>\n",
              "      <td>0.716207</td>\n",
              "      <td>0.658080</td>\n",
              "      <td>0.694019</td>\n",
              "      <td>0.716215</td>\n",
              "      <td>1.000000</td>\n",
              "      <td>-0.714072</td>\n",
              "      <td>0.189429</td>\n",
              "      <td>0.370890</td>\n",
              "      <td>-0.131882</td>\n",
              "      <td>0.540865</td>\n",
              "      <td>0.318099</td>\n",
              "      <td>0.470949</td>\n",
              "      <td>0.552591</td>\n",
              "    </tr>\n",
              "    <tr>\n",
              "      <th>HNR</th>\n",
              "      <td>0.059144</td>\n",
              "      <td>-0.024893</td>\n",
              "      <td>0.210851</td>\n",
              "      <td>-0.728165</td>\n",
              "      <td>-0.656810</td>\n",
              "      <td>-0.721543</td>\n",
              "      <td>-0.731510</td>\n",
              "      <td>-0.721494</td>\n",
              "      <td>-0.835271</td>\n",
              "      <td>-0.827805</td>\n",
              "      <td>-0.827123</td>\n",
              "      <td>-0.813753</td>\n",
              "      <td>-0.800407</td>\n",
              "      <td>-0.827130</td>\n",
              "      <td>-0.714072</td>\n",
              "      <td>1.000000</td>\n",
              "      <td>-0.361515</td>\n",
              "      <td>-0.598736</td>\n",
              "      <td>-0.008665</td>\n",
              "      <td>-0.673210</td>\n",
              "      <td>-0.431564</td>\n",
              "      <td>-0.601401</td>\n",
              "      <td>-0.692876</td>\n",
              "    </tr>\n",
              "    <tr>\n",
              "      <th>status</th>\n",
              "      <td>-0.383535</td>\n",
              "      <td>-0.166136</td>\n",
              "      <td>-0.380200</td>\n",
              "      <td>0.278220</td>\n",
              "      <td>0.338653</td>\n",
              "      <td>0.266668</td>\n",
              "      <td>0.288698</td>\n",
              "      <td>0.266646</td>\n",
              "      <td>0.367430</td>\n",
              "      <td>0.350697</td>\n",
              "      <td>0.347617</td>\n",
              "      <td>0.351148</td>\n",
              "      <td>0.364316</td>\n",
              "      <td>0.347608</td>\n",
              "      <td>0.189429</td>\n",
              "      <td>-0.361515</td>\n",
              "      <td>1.000000</td>\n",
              "      <td>0.308567</td>\n",
              "      <td>0.231739</td>\n",
              "      <td>0.564838</td>\n",
              "      <td>0.454842</td>\n",
              "      <td>0.340232</td>\n",
              "      <td>0.531039</td>\n",
              "    </tr>\n",
              "    <tr>\n",
              "      <th>RPDE</th>\n",
              "      <td>-0.383894</td>\n",
              "      <td>-0.112404</td>\n",
              "      <td>-0.400143</td>\n",
              "      <td>0.360673</td>\n",
              "      <td>0.441839</td>\n",
              "      <td>0.342140</td>\n",
              "      <td>0.333274</td>\n",
              "      <td>0.342079</td>\n",
              "      <td>0.447424</td>\n",
              "      <td>0.410684</td>\n",
              "      <td>0.435242</td>\n",
              "      <td>0.399903</td>\n",
              "      <td>0.451379</td>\n",
              "      <td>0.435237</td>\n",
              "      <td>0.370890</td>\n",
              "      <td>-0.598736</td>\n",
              "      <td>0.308567</td>\n",
              "      <td>1.000000</td>\n",
              "      <td>-0.110950</td>\n",
              "      <td>0.591117</td>\n",
              "      <td>0.479905</td>\n",
              "      <td>0.236931</td>\n",
              "      <td>0.545886</td>\n",
              "    </tr>\n",
              "    <tr>\n",
              "      <th>DFA</th>\n",
              "      <td>-0.446013</td>\n",
              "      <td>-0.343097</td>\n",
              "      <td>-0.050406</td>\n",
              "      <td>0.098572</td>\n",
              "      <td>0.175036</td>\n",
              "      <td>0.064083</td>\n",
              "      <td>0.196301</td>\n",
              "      <td>0.064026</td>\n",
              "      <td>0.159954</td>\n",
              "      <td>0.165157</td>\n",
              "      <td>0.151124</td>\n",
              "      <td>0.213873</td>\n",
              "      <td>0.157276</td>\n",
              "      <td>0.151132</td>\n",
              "      <td>-0.131882</td>\n",
              "      <td>-0.008665</td>\n",
              "      <td>0.231739</td>\n",
              "      <td>-0.110950</td>\n",
              "      <td>1.000000</td>\n",
              "      <td>0.195668</td>\n",
              "      <td>0.166548</td>\n",
              "      <td>-0.165381</td>\n",
              "      <td>0.270445</td>\n",
              "    </tr>\n",
              "    <tr>\n",
              "      <th>spread1</th>\n",
              "      <td>-0.413738</td>\n",
              "      <td>-0.076658</td>\n",
              "      <td>-0.394857</td>\n",
              "      <td>0.693577</td>\n",
              "      <td>0.735779</td>\n",
              "      <td>0.648328</td>\n",
              "      <td>0.716489</td>\n",
              "      <td>0.648328</td>\n",
              "      <td>0.654734</td>\n",
              "      <td>0.652547</td>\n",
              "      <td>0.610967</td>\n",
              "      <td>0.646809</td>\n",
              "      <td>0.673158</td>\n",
              "      <td>0.610971</td>\n",
              "      <td>0.540865</td>\n",
              "      <td>-0.673210</td>\n",
              "      <td>0.564838</td>\n",
              "      <td>0.591117</td>\n",
              "      <td>0.195668</td>\n",
              "      <td>1.000000</td>\n",
              "      <td>0.652358</td>\n",
              "      <td>0.495123</td>\n",
              "      <td>0.962435</td>\n",
              "    </tr>\n",
              "    <tr>\n",
              "      <th>spread2</th>\n",
              "      <td>-0.249450</td>\n",
              "      <td>-0.002954</td>\n",
              "      <td>-0.243829</td>\n",
              "      <td>0.385123</td>\n",
              "      <td>0.388543</td>\n",
              "      <td>0.324407</td>\n",
              "      <td>0.407605</td>\n",
              "      <td>0.324377</td>\n",
              "      <td>0.452025</td>\n",
              "      <td>0.454314</td>\n",
              "      <td>0.402243</td>\n",
              "      <td>0.457195</td>\n",
              "      <td>0.502188</td>\n",
              "      <td>0.402223</td>\n",
              "      <td>0.318099</td>\n",
              "      <td>-0.431564</td>\n",
              "      <td>0.454842</td>\n",
              "      <td>0.479905</td>\n",
              "      <td>0.166548</td>\n",
              "      <td>0.652358</td>\n",
              "      <td>1.000000</td>\n",
              "      <td>0.523532</td>\n",
              "      <td>0.644711</td>\n",
              "    </tr>\n",
              "    <tr>\n",
              "      <th>D2</th>\n",
              "      <td>0.177980</td>\n",
              "      <td>0.176323</td>\n",
              "      <td>-0.100629</td>\n",
              "      <td>0.433434</td>\n",
              "      <td>0.310694</td>\n",
              "      <td>0.426605</td>\n",
              "      <td>0.412524</td>\n",
              "      <td>0.426556</td>\n",
              "      <td>0.507088</td>\n",
              "      <td>0.512233</td>\n",
              "      <td>0.467265</td>\n",
              "      <td>0.502174</td>\n",
              "      <td>0.536869</td>\n",
              "      <td>0.467261</td>\n",
              "      <td>0.470949</td>\n",
              "      <td>-0.601401</td>\n",
              "      <td>0.340232</td>\n",
              "      <td>0.236931</td>\n",
              "      <td>-0.165381</td>\n",
              "      <td>0.495123</td>\n",
              "      <td>0.523532</td>\n",
              "      <td>1.000000</td>\n",
              "      <td>0.480585</td>\n",
              "    </tr>\n",
              "    <tr>\n",
              "      <th>PPE</th>\n",
              "      <td>-0.372356</td>\n",
              "      <td>-0.069543</td>\n",
              "      <td>-0.340071</td>\n",
              "      <td>0.721543</td>\n",
              "      <td>0.748162</td>\n",
              "      <td>0.670999</td>\n",
              "      <td>0.769647</td>\n",
              "      <td>0.671005</td>\n",
              "      <td>0.693771</td>\n",
              "      <td>0.695058</td>\n",
              "      <td>0.645377</td>\n",
              "      <td>0.702456</td>\n",
              "      <td>0.721694</td>\n",
              "      <td>0.645389</td>\n",
              "      <td>0.552591</td>\n",
              "      <td>-0.692876</td>\n",
              "      <td>0.531039</td>\n",
              "      <td>0.545886</td>\n",
              "      <td>0.270445</td>\n",
              "      <td>0.962435</td>\n",
              "      <td>0.644711</td>\n",
              "      <td>0.480585</td>\n",
              "      <td>1.000000</td>\n",
              "    </tr>\n",
              "  </tbody>\n",
              "</table>\n",
              "</div>"
            ],
            "text/plain": [
              "                  MDVP:Fo(Hz)  MDVP:Fhi(Hz)  ...        D2       PPE\n",
              "MDVP:Fo(Hz)          1.000000      0.400985  ...  0.177980 -0.372356\n",
              "MDVP:Fhi(Hz)         0.400985      1.000000  ...  0.176323 -0.069543\n",
              "MDVP:Flo(Hz)         0.596546      0.084951  ... -0.100629 -0.340071\n",
              "MDVP:Jitter(%)      -0.118003      0.102086  ...  0.433434  0.721543\n",
              "MDVP:Jitter(Abs)    -0.382027     -0.029198  ...  0.310694  0.748162\n",
              "MDVP:RAP            -0.076194      0.097177  ...  0.426605  0.670999\n",
              "MDVP:PPQ            -0.112165      0.091126  ...  0.412524  0.769647\n",
              "Jitter:DDP          -0.076213      0.097150  ...  0.426556  0.671005\n",
              "MDVP:Shimmer        -0.098374      0.002281  ...  0.507088  0.693771\n",
              "MDVP:Shimmer(dB)    -0.073742      0.043465  ...  0.512233  0.695058\n",
              "Shimmer:APQ3        -0.094717     -0.003743  ...  0.467265  0.645377\n",
              "Shimmer:APQ5        -0.070682     -0.009997  ...  0.502174  0.702456\n",
              "MDVP:APQ            -0.077774      0.004937  ...  0.536869  0.721694\n",
              "Shimmer:DDA         -0.094732     -0.003733  ...  0.467261  0.645389\n",
              "NHR                 -0.021981      0.163766  ...  0.470949  0.552591\n",
              "HNR                  0.059144     -0.024893  ... -0.601401 -0.692876\n",
              "status              -0.383535     -0.166136  ...  0.340232  0.531039\n",
              "RPDE                -0.383894     -0.112404  ...  0.236931  0.545886\n",
              "DFA                 -0.446013     -0.343097  ... -0.165381  0.270445\n",
              "spread1             -0.413738     -0.076658  ...  0.495123  0.962435\n",
              "spread2             -0.249450     -0.002954  ...  0.523532  0.644711\n",
              "D2                   0.177980      0.176323  ...  1.000000  0.480585\n",
              "PPE                 -0.372356     -0.069543  ...  0.480585  1.000000\n",
              "\n",
              "[23 rows x 23 columns]"
            ]
          },
          "metadata": {
            "tags": []
          },
          "execution_count": 638
        }
      ]
    },
    {
      "cell_type": "code",
      "metadata": {
        "colab": {
          "base_uri": "https://localhost:8080/",
          "height": 604
        },
        "id": "NTklq33oO6qu",
        "outputId": "539c2511-e03c-4ce6-d075-eb538468056a"
      },
      "source": [
        "plt.figure(figsize=(16,8))\n",
        "plt.title(\"Relationship Between The Features of The status\")\n",
        "sns.heatmap(data.corr().abs(), annot=True, linewidths = 2, linecolor = \"white\")"
      ],
      "execution_count": 639,
      "outputs": [
        {
          "output_type": "execute_result",
          "data": {
            "text/plain": [
              "<matplotlib.axes._subplots.AxesSubplot at 0x7f1932d61a90>"
            ]
          },
          "metadata": {
            "tags": []
          },
          "execution_count": 639
        },
        {
          "output_type": "display_data",
          "data": {
            "image/png": "[encoded data removed]",
            "text/plain": [
              "<Figure size 1152x576 with 2 Axes>"
            ]
          },
          "metadata": {
            "tags": [],
            "needs_background": "light"
          }
        }
      ]
    },
    {
      "cell_type": "code",
      "metadata": {
        "colab": {
          "base_uri": "https://localhost:8080/",
          "height": 542
        },
        "id": "MGrH16oMP7Vl",
        "outputId": "cd6dffae-a8a8-41f0-fae1-0ef35b57168b"
      },
      "source": [
        "fig = px.histogram(data, x='spread1', title='Distribution of spread1', marginal='box',color='status' )\n",
        "fig.update_layout(bargap=0.1)\n",
        "fig.show()"
      ],
      "execution_count": 640,
      "outputs": [
        {
          "output_type": "display_data",
          "data": {
            "text/html": [
              "<html>\n",
              "<head><meta charset=\"utf-8\" /></head>\n",
              "<body>\n",
              "    <div>\n",
              "            <script src=\"https://cdnjs.cloudflare.com/ajax/libs/mathjax/2.7.5/MathJax.js?config=TeX-AMS-MML_SVG\"></script><script type=\"text/javascript\">if (window.MathJax) {MathJax.Hub.Config({SVG: {font: \"STIX-Web\"}});}</script>\n",
              "                <script type=\"text/javascript\">window.PlotlyConfig = {MathJaxConfig: 'local'};</script>\n",
              "        <script src=\"https://cdn.plot.ly/plotly-latest.min.js\"></script>    \n",
              "            <div id=\"c7b6868d-fafc-4640-beb6-2c808b6ba8a6\" class=\"plotly-graph-div\" style=\"height:525px; width:100%;\"></div>\n",
              "            <script type=\"text/javascript\">\n",
              "                \n",
              "                    window.PLOTLYENV=window.PLOTLYENV || {};\n",
              "                    \n",
              "                if (document.getElementById(\"c7b6868d-fafc-4640-beb6-2c808b6ba8a6\")) {\n",
              "                    Plotly.newPlot(\n",
              "                        'c7b6868d-fafc-4640-beb6-2c808b6ba8a6',\n",
              "                        [{\"alignmentgroup\": \"True\", \"bingroup\": \"x\", \"hoverlabel\": {\"namelength\": 0}, \"hovertemplate\": \"status=1<br>spread1=%{x}<br>count=%{y}\", \"legendgroup\": \"status=1\", \"marker\": {\"color\": \"#636efa\"}, \"name\": \"status=1\", \"offsetgroup\": \"status=1\", \"orientation\": \"v\", \"showlegend\": true, \"type\": \"histogram\", \"x\": [-4.813031, -4.0751919999999995, -4.443179, -4.117501, -3.747787, -4.2428669999999995, -5.634322, -6.167603, -5.498678, -5.011879, -5.24977, -4.960234, -6.547148, -5.660216999999999, -6.105098, -5.340115, -5.44004, -2.93107, -3.9490790000000002, -4.554466000000001, -4.095442, -5.18696, -4.330956, -5.248776, -5.557447, -5.571843, -6.183590000000001, -6.27169, -7.120925, -6.6357289999999995, -6.149653, -6.006414, -6.452058, -6.006647, -6.647378999999999, -7.044105, -4.649573, -4.333543, -4.438453, -4.60826, -4.476755000000001, -4.609161, -5.409423, -5.324574, -5.86975, -6.261141, -5.720868, -5.207985, -5.7918199999999995, -5.3891290000000005, -5.313359999999999, -5.477592, -5.775966, -5.3910290000000005, -5.1152120000000005, -4.913885, -4.441519, -5.132032, -5.022288, -6.025367, -5.288912, -5.657899, -6.366916000000001, -5.515071, -5.783272, -4.379411, -4.508984, -6.411497, -5.952058, -6.152551, -6.251425, -6.247076, -6.41744, -4.020042, -5.159169, -3.7603480000000005, -3.7005440000000003, -4.20273, -3.269487, -6.878392999999999, -7.1115759999999995, -6.997403, -6.9812009999999995, -6.600022999999999, -6.739151, -5.845098999999999, -5.258319999999999, -6.471426999999999, -4.876336, -5.96304, -6.729713, -4.673241, -6.051233, -4.597834, -4.913137, -5.5171730000000005, -6.186128, -4.711007, -5.418787, -5.44514, -5.944191, -5.594275, -5.540351, -5.825257, -6.890021000000001, -5.892061, -6.135296, -6.112667, -5.436135, -6.448134, -5.301321, -5.3336190000000006, -4.378916, -4.6548940000000005, -5.634576, -5.866357, -4.796844999999999, -5.410336, -5.585259, -5.8986730000000005, -6.132663, -5.456811, -3.297668, -4.276605, -3.377325, -4.892494999999999, -4.484303, -2.434031, -2.839756, -4.865194, -4.239028, -3.5837220000000003, -5.4351, -3.4444779999999997, -5.0700959999999995, -5.498456, -5.185987, -5.283009, -5.529833, -5.617124, -2.929379, -6.486822, -6.311987, -5.7112050000000005, -6.261446, -5.704053, -6.27717], \"xaxis\": \"x\", \"yaxis\": \"y\"}, {\"alignmentgroup\": \"True\", \"hoverlabel\": {\"namelength\": 0}, \"hovertemplate\": \"status=1<br>spread1=%{x}\", \"legendgroup\": \"status=1\", \"marker\": {\"color\": \"#636efa\"}, \"name\": \"status=1\", \"notched\": true, \"offsetgroup\": \"status=1\", \"showlegend\": false, \"type\": \"box\", \"x\": [-4.813031, -4.0751919999999995, -4.443179, -4.117501, -3.747787, -4.2428669999999995, -5.634322, -6.167603, -5.498678, -5.011879, -5.24977, -4.960234, -6.547148, -5.660216999999999, -6.105098, -5.340115, -5.44004, -2.93107, -3.9490790000000002, -4.554466000000001, -4.095442, -5.18696, -4.330956, -5.248776, -5.557447, -5.571843, -6.183590000000001, -6.27169, -7.120925, -6.6357289999999995, -6.149653, -6.006414, -6.452058, -6.006647, -6.647378999999999, -7.044105, -4.649573, -4.333543, -4.438453, -4.60826, -4.476755000000001, -4.609161, -5.409423, -5.324574, -5.86975, -6.261141, -5.720868, -5.207985, -5.7918199999999995, -5.3891290000000005, -5.313359999999999, -5.477592, -5.775966, -5.3910290000000005, -5.1152120000000005, -4.913885, -4.441519, -5.132032, -5.022288, -6.025367, -5.288912, -5.657899, -6.366916000000001, -5.515071, -5.783272, -4.379411, -4.508984, -6.411497, -5.952058, -6.152551, -6.251425, -6.247076, -6.41744, -4.020042, -5.159169, -3.7603480000000005, -3.7005440000000003, -4.20273, -3.269487, -6.878392999999999, -7.1115759999999995, -6.997403, -6.9812009999999995, -6.600022999999999, -6.739151, -5.845098999999999, -5.258319999999999, -6.471426999999999, -4.876336, -5.96304, -6.729713, -4.673241, -6.051233, -4.597834, -4.913137, -5.5171730000000005, -6.186128, -4.711007, -5.418787, -5.44514, -5.944191, -5.594275, -5.540351, -5.825257, -6.890021000000001, -5.892061, -6.135296, -6.112667, -5.436135, -6.448134, -5.301321, -5.3336190000000006, -4.378916, -4.6548940000000005, -5.634576, -5.866357, -4.796844999999999, -5.410336, -5.585259, -5.8986730000000005, -6.132663, -5.456811, -3.297668, -4.276605, -3.377325, -4.892494999999999, -4.484303, -2.434031, -2.839756, -4.865194, -4.239028, -3.5837220000000003, -5.4351, -3.4444779999999997, -5.0700959999999995, -5.498456, -5.185987, -5.283009, -5.529833, -5.617124, -2.929379, -6.486822, -6.311987, -5.7112050000000005, -6.261446, -5.704053, -6.27717], \"xaxis\": \"x2\", \"yaxis\": \"y2\"}, {\"alignmentgroup\": \"True\", \"bingroup\": \"x\", \"hoverlabel\": {\"namelength\": 0}, \"hovertemplate\": \"status=0<br>spread1=%{x}<br>count=%{y}\", \"legendgroup\": \"status=0\", \"marker\": {\"color\": \"#EF553B\"}, \"name\": \"status=0\", \"offsetgroup\": \"status=0\", \"orientation\": \"v\", \"showlegend\": true, \"type\": \"histogram\", \"x\": [-7.3483, -7.682587, -7.067931, -7.695734, -7.964983999999999, -7.777685000000001, -7.31055, -6.793547, -7.057869, -6.99582, -7.156076, -7.31951, -6.439398000000001, -6.482096, -6.6504710000000005, -6.689151, -7.072419, -6.836811, -7.040508, -7.293800999999999, -6.966321000000001, -7.24562, -7.496264, -7.314236999999999, -6.816086, -7.018057000000001, -7.5179339999999995, -5.736781, -7.169701, -7.3045, -6.323531, -6.085567, -5.943501, -6.0125589999999995, -5.966779, -6.016891, -5.61907, -5.198864, -5.5925839999999996, -6.431119, -6.359018, -6.710219, -6.934474000000001, -6.5385860000000005, -6.195325, -6.787197, -6.7445770000000005, -5.724056], \"xaxis\": \"x\", \"yaxis\": \"y\"}, {\"alignmentgroup\": \"True\", \"hoverlabel\": {\"namelength\": 0}, \"hovertemplate\": \"status=0<br>spread1=%{x}\", \"legendgroup\": \"status=0\", \"marker\": {\"color\": \"#EF553B\"}, \"name\": \"status=0\", \"notched\": true, \"offsetgroup\": \"status=0\", \"showlegend\": false, \"type\": \"box\", \"x\": [-7.3483, -7.682587, -7.067931, -7.695734, -7.964983999999999, -7.777685000000001, -7.31055, -6.793547, -7.057869, -6.99582, -7.156076, -7.31951, -6.439398000000001, -6.482096, -6.6504710000000005, -6.689151, -7.072419, -6.836811, -7.040508, -7.293800999999999, -6.966321000000001, -7.24562, -7.496264, -7.314236999999999, -6.816086, -7.018057000000001, -7.5179339999999995, -5.736781, -7.169701, -7.3045, -6.323531, -6.085567, -5.943501, -6.0125589999999995, -5.966779, -6.016891, -5.61907, -5.198864, -5.5925839999999996, -6.431119, -6.359018, -6.710219, -6.934474000000001, -6.5385860000000005, -6.195325, -6.787197, -6.7445770000000005, -5.724056], \"xaxis\": \"x2\", \"yaxis\": \"y2\"}],\n",
              "                        {\"bargap\": 0.1, \"barmode\": \"relative\", \"legend\": {\"tracegroupgap\": 0}, \"template\": {\"data\": {\"bar\": [{\"error_x\": {\"color\": \"#2a3f5f\"}, \"error_y\": {\"color\": \"#2a3f5f\"}, \"marker\": {\"line\": {\"color\": \"#E5ECF6\", \"width\": 0.5}}, \"type\": \"bar\"}], \"barpolar\": [{\"marker\": {\"line\": {\"color\": \"#E5ECF6\", \"width\": 0.5}}, \"type\": \"barpolar\"}], \"carpet\": [{\"aaxis\": {\"endlinecolor\": \"#2a3f5f\", \"gridcolor\": \"white\", \"linecolor\": \"white\", \"minorgridcolor\": \"white\", \"startlinecolor\": \"#2a3f5f\"}, \"baxis\": {\"endlinecolor\": \"#2a3f5f\", \"gridcolor\": \"white\", \"linecolor\": \"white\", \"minorgridcolor\": \"white\", \"startlinecolor\": \"#2a3f5f\"}, \"type\": \"carpet\"}], \"choropleth\": [{\"colorbar\": {\"outlinewidth\": 0, \"ticks\": \"\"}, \"type\": \"choropleth\"}], \"contour\": [{\"colorbar\": {\"outlinewidth\": 0, \"ticks\": \"\"}, \"colorscale\": [[0.0, \"#0d0887\"], [0.1111111111111111, \"#46039f\"], [0.2222222222222222, \"#7201a8\"], [0.3333333333333333, \"#9c179e\"], [0.4444444444444444, \"#bd3786\"], [0.5555555555555556, \"#d8576b\"], [0.6666666666666666, \"#ed7953\"], [0.7777777777777778, \"#fb9f3a\"], [0.8888888888888888, \"#fdca26\"], [1.0, \"#f0f921\"]], \"type\": \"contour\"}], \"contourcarpet\": [{\"colorbar\": {\"outlinewidth\": 0, \"ticks\": \"\"}, \"type\": \"contourcarpet\"}], \"heatmap\": [{\"colorbar\": {\"outlinewidth\": 0, \"ticks\": \"\"}, \"colorscale\": [[0.0, \"#0d0887\"], [0.1111111111111111, \"#46039f\"], [0.2222222222222222, \"#7201a8\"], [0.3333333333333333, \"#9c179e\"], [0.4444444444444444, \"#bd3786\"], [0.5555555555555556, \"#d8576b\"], [0.6666666666666666, \"#ed7953\"], [0.7777777777777778, \"#fb9f3a\"], [0.8888888888888888, \"#fdca26\"], [1.0, \"#f0f921\"]], \"type\": \"heatmap\"}], \"heatmapgl\": [{\"colorbar\": {\"outlinewidth\": 0, \"ticks\": \"\"}, \"colorscale\": [[0.0, \"#0d0887\"], [0.1111111111111111, \"#46039f\"], [0.2222222222222222, \"#7201a8\"], [0.3333333333333333, \"#9c179e\"], [0.4444444444444444, \"#bd3786\"], [0.5555555555555556, \"#d8576b\"], [0.6666666666666666, \"#ed7953\"], [0.7777777777777778, \"#fb9f3a\"], [0.8888888888888888, \"#fdca26\"], [1.0, \"#f0f921\"]], \"type\": \"heatmapgl\"}], \"histogram\": [{\"marker\": {\"colorbar\": {\"outlinewidth\": 0, \"ticks\": \"\"}}, \"type\": \"histogram\"}], \"histogram2d\": [{\"colorbar\": {\"outlinewidth\": 0, \"ticks\": \"\"}, \"colorscale\": [[0.0, \"#0d0887\"], [0.1111111111111111, \"#46039f\"], [0.2222222222222222, \"#7201a8\"], [0.3333333333333333, \"#9c179e\"], [0.4444444444444444, \"#bd3786\"], [0.5555555555555556, \"#d8576b\"], [0.6666666666666666, \"#ed7953\"], [0.7777777777777778, \"#fb9f3a\"], [0.8888888888888888, \"#fdca26\"], [1.0, \"#f0f921\"]], \"type\": \"histogram2d\"}], \"histogram2dcontour\": [{\"colorbar\": {\"outlinewidth\": 0, \"ticks\": \"\"}, \"colorscale\": [[0.0, \"#0d0887\"], [0.1111111111111111, \"#46039f\"], [0.2222222222222222, \"#7201a8\"], [0.3333333333333333, \"#9c179e\"], [0.4444444444444444, \"#bd3786\"], [0.5555555555555556, \"#d8576b\"], [0.6666666666666666, \"#ed7953\"], [0.7777777777777778, \"#fb9f3a\"], [0.8888888888888888, \"#fdca26\"], [1.0, \"#f0f921\"]], \"type\": \"histogram2dcontour\"}], \"mesh3d\": [{\"colorbar\": {\"outlinewidth\": 0, \"ticks\": \"\"}, \"type\": \"mesh3d\"}], \"parcoords\": [{\"line\": {\"colorbar\": {\"outlinewidth\": 0, \"ticks\": \"\"}}, \"type\": \"parcoords\"}], \"pie\": [{\"automargin\": true, \"type\": \"pie\"}], \"scatter\": [{\"marker\": {\"colorbar\": {\"outlinewidth\": 0, \"ticks\": \"\"}}, \"type\": \"scatter\"}], \"scatter3d\": [{\"line\": {\"colorbar\": {\"outlinewidth\": 0, \"ticks\": \"\"}}, \"marker\": {\"colorbar\": {\"outlinewidth\": 0, \"ticks\": \"\"}}, \"type\": \"scatter3d\"}], \"scattercarpet\": [{\"marker\": {\"colorbar\": {\"outlinewidth\": 0, \"ticks\": \"\"}}, \"type\": \"scattercarpet\"}], \"scattergeo\": [{\"marker\": {\"colorbar\": {\"outlinewidth\": 0, \"ticks\": \"\"}}, \"type\": \"scattergeo\"}], \"scattergl\": [{\"marker\": {\"colorbar\": {\"outlinewidth\": 0, \"ticks\": \"\"}}, \"type\": \"scattergl\"}], \"scattermapbox\": [{\"marker\": {\"colorbar\": {\"outlinewidth\": 0, \"ticks\": \"\"}}, \"type\": \"scattermapbox\"}], \"scatterpolar\": [{\"marker\": {\"colorbar\": {\"outlinewidth\": 0, \"ticks\": \"\"}}, \"type\": \"scatterpolar\"}], \"scatterpolargl\": [{\"marker\": {\"colorbar\": {\"outlinewidth\": 0, \"ticks\": \"\"}}, \"type\": \"scatterpolargl\"}], \"scatterternary\": [{\"marker\": {\"colorbar\": {\"outlinewidth\": 0, \"ticks\": \"\"}}, \"type\": \"scatterternary\"}], \"surface\": [{\"colorbar\": {\"outlinewidth\": 0, \"ticks\": \"\"}, \"colorscale\": [[0.0, \"#0d0887\"], [0.1111111111111111, \"#46039f\"], [0.2222222222222222, \"#7201a8\"], [0.3333333333333333, \"#9c179e\"], [0.4444444444444444, \"#bd3786\"], [0.5555555555555556, \"#d8576b\"], [0.6666666666666666, \"#ed7953\"], [0.7777777777777778, \"#fb9f3a\"], [0.8888888888888888, \"#fdca26\"], [1.0, \"#f0f921\"]], \"type\": \"surface\"}], \"table\": [{\"cells\": {\"fill\": {\"color\": \"#EBF0F8\"}, \"line\": {\"color\": \"white\"}}, \"header\": {\"fill\": {\"color\": \"#C8D4E3\"}, \"line\": {\"color\": \"white\"}}, \"type\": \"table\"}]}, \"layout\": {\"annotationdefaults\": {\"arrowcolor\": \"#2a3f5f\", \"arrowhead\": 0, \"arrowwidth\": 1}, \"coloraxis\": {\"colorbar\": {\"outlinewidth\": 0, \"ticks\": \"\"}}, \"colorscale\": {\"diverging\": [[0, \"#8e0152\"], [0.1, \"#c51b7d\"], [0.2, \"#de77ae\"], [0.3, \"#f1b6da\"], [0.4, \"#fde0ef\"], [0.5, \"#f7f7f7\"], [0.6, \"#e6f5d0\"], [0.7, \"#b8e186\"], [0.8, \"#7fbc41\"], [0.9, \"#4d9221\"], [1, \"#276419\"]], \"sequential\": [[0.0, \"#0d0887\"], [0.1111111111111111, \"#46039f\"], [0.2222222222222222, \"#7201a8\"], [0.3333333333333333, \"#9c179e\"], [0.4444444444444444, \"#bd3786\"], [0.5555555555555556, \"#d8576b\"], [0.6666666666666666, \"#ed7953\"], [0.7777777777777778, \"#fb9f3a\"], [0.8888888888888888, \"#fdca26\"], [1.0, \"#f0f921\"]], \"sequentialminus\": [[0.0, \"#0d0887\"], [0.1111111111111111, \"#46039f\"], [0.2222222222222222, \"#7201a8\"], [0.3333333333333333, \"#9c179e\"], [0.4444444444444444, \"#bd3786\"], [0.5555555555555556, \"#d8576b\"], [0.6666666666666666, \"#ed7953\"], [0.7777777777777778, \"#fb9f3a\"], [0.8888888888888888, \"#fdca26\"], [1.0, \"#f0f921\"]]}, \"colorway\": [\"#636efa\", \"#EF553B\", \"#00cc96\", \"#ab63fa\", \"#FFA15A\", \"#19d3f3\", \"#FF6692\", \"#B6E880\", \"#FF97FF\", \"#FECB52\"], \"font\": {\"color\": \"#2a3f5f\"}, \"geo\": {\"bgcolor\": \"white\", \"lakecolor\": \"white\", \"landcolor\": \"#E5ECF6\", \"showlakes\": true, \"showland\": true, \"subunitcolor\": \"white\"}, \"hoverlabel\": {\"align\": \"left\"}, \"hovermode\": \"closest\", \"mapbox\": {\"style\": \"light\"}, \"paper_bgcolor\": \"white\", \"plot_bgcolor\": \"#E5ECF6\", \"polar\": {\"angularaxis\": {\"gridcolor\": \"white\", \"linecolor\": \"white\", \"ticks\": \"\"}, \"bgcolor\": \"#E5ECF6\", \"radialaxis\": {\"gridcolor\": \"white\", \"linecolor\": \"white\", \"ticks\": \"\"}}, \"scene\": {\"xaxis\": {\"backgroundcolor\": \"#E5ECF6\", \"gridcolor\": \"white\", \"gridwidth\": 2, \"linecolor\": \"white\", \"showbackground\": true, \"ticks\": \"\", \"zerolinecolor\": \"white\"}, \"yaxis\": {\"backgroundcolor\": \"#E5ECF6\", \"gridcolor\": \"white\", \"gridwidth\": 2, \"linecolor\": \"white\", \"showbackground\": true, \"ticks\": \"\", \"zerolinecolor\": \"white\"}, \"zaxis\": {\"backgroundcolor\": \"#E5ECF6\", \"gridcolor\": \"white\", \"gridwidth\": 2, \"linecolor\": \"white\", \"showbackground\": true, \"ticks\": \"\", \"zerolinecolor\": \"white\"}}, \"shapedefaults\": {\"line\": {\"color\": \"#2a3f5f\"}}, \"ternary\": {\"aaxis\": {\"gridcolor\": \"white\", \"linecolor\": \"white\", \"ticks\": \"\"}, \"baxis\": {\"gridcolor\": \"white\", \"linecolor\": \"white\", \"ticks\": \"\"}, \"bgcolor\": \"#E5ECF6\", \"caxis\": {\"gridcolor\": \"white\", \"linecolor\": \"white\", \"ticks\": \"\"}}, \"title\": {\"x\": 0.05}, \"xaxis\": {\"automargin\": true, \"gridcolor\": \"white\", \"linecolor\": \"white\", \"ticks\": \"\", \"title\": {\"standoff\": 15}, \"zerolinecolor\": \"white\", \"zerolinewidth\": 2}, \"yaxis\": {\"automargin\": true, \"gridcolor\": \"white\", \"linecolor\": \"white\", \"ticks\": \"\", \"title\": {\"standoff\": 15}, \"zerolinecolor\": \"white\", \"zerolinewidth\": 2}}}, \"title\": {\"text\": \"Distribution of spread1\"}, \"xaxis\": {\"anchor\": \"y\", \"domain\": [0.0, 1.0], \"title\": {\"text\": \"spread1\"}}, \"xaxis2\": {\"anchor\": \"y2\", \"domain\": [0.0, 1.0], \"matches\": \"x\", \"showgrid\": true, \"showticklabels\": false}, \"yaxis\": {\"anchor\": \"x\", \"domain\": [0.0, 0.7326], \"title\": {\"text\": \"count\"}}, \"yaxis2\": {\"anchor\": \"x2\", \"domain\": [0.7426, 1.0], \"matches\": \"y2\", \"showgrid\": false, \"showline\": false, \"showticklabels\": false, \"ticks\": \"\"}},\n",
              "                        {\"responsive\": true}\n",
              "                    ).then(function(){\n",
              "                            \n",
              "var gd = document.getElementById('c7b6868d-fafc-4640-beb6-2c808b6ba8a6');\n",
              "var x = new MutationObserver(function (mutations, observer) {{\n",
              "        var display = window.getComputedStyle(gd).display;\n",
              "        if (!display || display === 'none') {{\n",
              "            console.log([gd, 'removed!']);\n",
              "            Plotly.purge(gd);\n",
              "            observer.disconnect();\n",
              "        }}\n",
              "}});\n",
              "\n",
              "// Listen for the removal of the full notebook cells\n",
              "var notebookContainer = gd.closest('#notebook-container');\n",
              "if (notebookContainer) {{\n",
              "    x.observe(notebookContainer, {childList: true});\n",
              "}}\n",
              "\n",
              "// Listen for the clearing of the current output cell\n",
              "var outputEl = gd.closest('.output');\n",
              "if (outputEl) {{\n",
              "    x.observe(outputEl, {childList: true});\n",
              "}}\n",
              "\n",
              "                        })\n",
              "                };\n",
              "                \n",
              "            </script>\n",
              "        </div>\n",
              "</body>\n",
              "</html>"
            ]
          },
          "metadata": {
            "tags": []
          }
        }
      ]
    },
    {
      "cell_type": "code",
      "metadata": {
        "colab": {
          "base_uri": "https://localhost:8080/",
          "height": 542
        },
        "id": "GlVY8wM1NGYn",
        "outputId": "58e7e130-ff13-4107-eb31-73b82c1fd201"
      },
      "source": [
        "fig = px.histogram(data, x='spread2', title='Distribution of spread2', marginal='box',color='status' )\n",
        "fig.update_layout(bargap=0.1)\n",
        "fig.show()"
      ],
      "execution_count": 641,
      "outputs": [
        {
          "output_type": "display_data",
          "data": {
            "text/html": [
              "<html>\n",
              "<head><meta charset=\"utf-8\" /></head>\n",
              "<body>\n",
              "    <div>\n",
              "            <script src=\"https://cdnjs.cloudflare.com/ajax/libs/mathjax/2.7.5/MathJax.js?config=TeX-AMS-MML_SVG\"></script><script type=\"text/javascript\">if (window.MathJax) {MathJax.Hub.Config({SVG: {font: \"STIX-Web\"}});}</script>\n",
              "                <script type=\"text/javascript\">window.PlotlyConfig = {MathJaxConfig: 'local'};</script>\n",
              "        <script src=\"https://cdn.plot.ly/plotly-latest.min.js\"></script>    \n",
              "            <div id=\"4345ea60-c226-4d04-a9d6-87c6d1e2cef2\" class=\"plotly-graph-div\" style=\"height:525px; width:100%;\"></div>\n",
              "            <script type=\"text/javascript\">\n",
              "                \n",
              "                    window.PLOTLYENV=window.PLOTLYENV || {};\n",
              "                    \n",
              "                if (document.getElementById(\"4345ea60-c226-4d04-a9d6-87c6d1e2cef2\")) {\n",
              "                    Plotly.newPlot(\n",
              "                        '4345ea60-c226-4d04-a9d6-87c6d1e2cef2',\n",
              "                        [{\"alignmentgroup\": \"True\", \"bingroup\": \"x\", \"hoverlabel\": {\"namelength\": 0}, \"hovertemplate\": \"status=1<br>spread2=%{x}<br>count=%{y}\", \"legendgroup\": \"status=1\", \"marker\": {\"color\": \"#636efa\"}, \"name\": \"status=1\", \"offsetgroup\": \"status=1\", \"orientation\": \"v\", \"showlegend\": true, \"type\": \"histogram\", \"x\": [0.266482, 0.33559, 0.311173, 0.33414699999999997, 0.234513, 0.299111, 0.257682, 0.183721, 0.32776900000000003, 0.325996, 0.391002, 0.363566, 0.152813, 0.25498899999999997, 0.203653, 0.21018499999999998, 0.23976399999999998, 0.43432600000000005, 0.35786999999999997, 0.34017600000000003, 0.26256399999999996, 0.23762199999999997, 0.262384, 0.210279, 0.22089, 0.236853, 0.226278, 0.196102, 0.279789, 0.209866, 0.21803699999999998, 0.196371, 0.212294, 0.266892, 0.201095, 0.063412, 0.205558, 0.221727, 0.238298, 0.290024, 0.262633, 0.22171100000000002, 0.22685, 0.20565999999999998, 0.151814, 0.120956, 0.15883, 0.224852, 0.32906599999999997, 0.306636, 0.20186099999999998, 0.31507399999999997, 0.341169, 0.25057199999999996, 0.249494, 0.26569899999999996, 0.155097, 0.210458, 0.146948, 0.078202, 0.343073, 0.31590300000000004, 0.335753, 0.29954899999999995, 0.299793, 0.375531, 0.389232, 0.207156, 0.08784, 0.17352, 0.188056, 0.180528, 0.194627, 0.265315, 0.202146, 0.24286100000000002, 0.260481, 0.310163, 0.27064099999999996, 0.089267, 0.14478, 0.210279, 0.18455, 0.24917199999999998, 0.160686, 0.278679, 0.256454, 0.184378, 0.212054, 0.250283, 0.181701, 0.261549, 0.27328, 0.372114, 0.393056, 0.389295, 0.279933, 0.281618, 0.16026700000000002, 0.142466, 0.143359, 0.12795, 0.08716499999999999, 0.11569700000000001, 0.15294100000000002, 0.195976, 0.20363, 0.217013, 0.254909, 0.178713, 0.320385, 0.322044, 0.30006700000000003, 0.304107, 0.306014, 0.23306999999999997, 0.39774899999999996, 0.28891700000000003, 0.310746, 0.21335300000000001, 0.220617, 0.345238, 0.414758, 0.355736, 0.335357, 0.262281, 0.340256, 0.45049300000000003, 0.356224, 0.24640399999999998, 0.175691, 0.207914, 0.23053200000000001, 0.303214, 0.280091, 0.23419600000000002, 0.259229, 0.226528, 0.24275, 0.184896, 0.396746, 0.197919, 0.18245899999999998, 0.240875, 0.18321800000000002, 0.216204, 0.10939700000000001], \"xaxis\": \"x\", \"yaxis\": \"y\"}, {\"alignmentgroup\": \"True\", \"hoverlabel\": {\"namelength\": 0}, \"hovertemplate\": \"status=1<br>spread2=%{x}\", \"legendgroup\": \"status=1\", \"marker\": {\"color\": \"#636efa\"}, \"name\": \"status=1\", \"notched\": true, \"offsetgroup\": \"status=1\", \"showlegend\": false, \"type\": \"box\", \"x\": [0.266482, 0.33559, 0.311173, 0.33414699999999997, 0.234513, 0.299111, 0.257682, 0.183721, 0.32776900000000003, 0.325996, 0.391002, 0.363566, 0.152813, 0.25498899999999997, 0.203653, 0.21018499999999998, 0.23976399999999998, 0.43432600000000005, 0.35786999999999997, 0.34017600000000003, 0.26256399999999996, 0.23762199999999997, 0.262384, 0.210279, 0.22089, 0.236853, 0.226278, 0.196102, 0.279789, 0.209866, 0.21803699999999998, 0.196371, 0.212294, 0.266892, 0.201095, 0.063412, 0.205558, 0.221727, 0.238298, 0.290024, 0.262633, 0.22171100000000002, 0.22685, 0.20565999999999998, 0.151814, 0.120956, 0.15883, 0.224852, 0.32906599999999997, 0.306636, 0.20186099999999998, 0.31507399999999997, 0.341169, 0.25057199999999996, 0.249494, 0.26569899999999996, 0.155097, 0.210458, 0.146948, 0.078202, 0.343073, 0.31590300000000004, 0.335753, 0.29954899999999995, 0.299793, 0.375531, 0.389232, 0.207156, 0.08784, 0.17352, 0.188056, 0.180528, 0.194627, 0.265315, 0.202146, 0.24286100000000002, 0.260481, 0.310163, 0.27064099999999996, 0.089267, 0.14478, 0.210279, 0.18455, 0.24917199999999998, 0.160686, 0.278679, 0.256454, 0.184378, 0.212054, 0.250283, 0.181701, 0.261549, 0.27328, 0.372114, 0.393056, 0.389295, 0.279933, 0.281618, 0.16026700000000002, 0.142466, 0.143359, 0.12795, 0.08716499999999999, 0.11569700000000001, 0.15294100000000002, 0.195976, 0.20363, 0.217013, 0.254909, 0.178713, 0.320385, 0.322044, 0.30006700000000003, 0.304107, 0.306014, 0.23306999999999997, 0.39774899999999996, 0.28891700000000003, 0.310746, 0.21335300000000001, 0.220617, 0.345238, 0.414758, 0.355736, 0.335357, 0.262281, 0.340256, 0.45049300000000003, 0.356224, 0.24640399999999998, 0.175691, 0.207914, 0.23053200000000001, 0.303214, 0.280091, 0.23419600000000002, 0.259229, 0.226528, 0.24275, 0.184896, 0.396746, 0.197919, 0.18245899999999998, 0.240875, 0.18321800000000002, 0.216204, 0.10939700000000001], \"xaxis\": \"x2\", \"yaxis\": \"y2\"}, {\"alignmentgroup\": \"True\", \"bingroup\": \"x\", \"hoverlabel\": {\"namelength\": 0}, \"hovertemplate\": \"status=0<br>spread2=%{x}<br>count=%{y}\", \"legendgroup\": \"status=0\", \"marker\": {\"color\": \"#EF553B\"}, \"name\": \"status=0\", \"offsetgroup\": \"status=0\", \"orientation\": \"v\", \"showlegend\": true, \"type\": \"histogram\", \"x\": [0.177551, 0.173319, 0.175181, 0.17854, 0.163519, 0.170183, 0.098648, 0.15826600000000002, 0.09160800000000001, 0.10208300000000001, 0.127642, 0.200873, 0.266392, 0.264967, 0.254498, 0.291954, 0.22043400000000002, 0.269866, 0.06699400000000001, 0.086372, 0.09588200000000001, 0.018688999999999997, 0.056844000000000006, 0.006274, 0.17227, 0.176316, 0.160414, 0.164529, 0.073298, 0.17108800000000002, 0.218885, 0.192375, 0.19215, 0.229298, 0.197938, 0.10925599999999999, 0.191576, 0.20676799999999998, 0.133917, 0.15331, 0.11663599999999999, 0.149694, 0.15989, 0.121952, 0.129303, 0.158453, 0.207454, 0.190667], \"xaxis\": \"x\", \"yaxis\": \"y\"}, {\"alignmentgroup\": \"True\", \"hoverlabel\": {\"namelength\": 0}, \"hovertemplate\": \"status=0<br>spread2=%{x}\", \"legendgroup\": \"status=0\", \"marker\": {\"color\": \"#EF553B\"}, \"name\": \"status=0\", \"notched\": true, \"offsetgroup\": \"status=0\", \"showlegend\": false, \"type\": \"box\", \"x\": [0.177551, 0.173319, 0.175181, 0.17854, 0.163519, 0.170183, 0.098648, 0.15826600000000002, 0.09160800000000001, 0.10208300000000001, 0.127642, 0.200873, 0.266392, 0.264967, 0.254498, 0.291954, 0.22043400000000002, 0.269866, 0.06699400000000001, 0.086372, 0.09588200000000001, 0.018688999999999997, 0.056844000000000006, 0.006274, 0.17227, 0.176316, 0.160414, 0.164529, 0.073298, 0.17108800000000002, 0.218885, 0.192375, 0.19215, 0.229298, 0.197938, 0.10925599999999999, 0.191576, 0.20676799999999998, 0.133917, 0.15331, 0.11663599999999999, 0.149694, 0.15989, 0.121952, 0.129303, 0.158453, 0.207454, 0.190667], \"xaxis\": \"x2\", \"yaxis\": \"y2\"}],\n",
              "                        {\"bargap\": 0.1, \"barmode\": \"relative\", \"legend\": {\"tracegroupgap\": 0}, \"template\": {\"data\": {\"bar\": [{\"error_x\": {\"color\": \"#2a3f5f\"}, \"error_y\": {\"color\": \"#2a3f5f\"}, \"marker\": {\"line\": {\"color\": \"#E5ECF6\", \"width\": 0.5}}, \"type\": \"bar\"}], \"barpolar\": [{\"marker\": {\"line\": {\"color\": \"#E5ECF6\", \"width\": 0.5}}, \"type\": \"barpolar\"}], \"carpet\": [{\"aaxis\": {\"endlinecolor\": \"#2a3f5f\", \"gridcolor\": \"white\", \"linecolor\": \"white\", \"minorgridcolor\": \"white\", \"startlinecolor\": \"#2a3f5f\"}, \"baxis\": {\"endlinecolor\": \"#2a3f5f\", \"gridcolor\": \"white\", \"linecolor\": \"white\", \"minorgridcolor\": \"white\", \"startlinecolor\": \"#2a3f5f\"}, \"type\": \"carpet\"}], \"choropleth\": [{\"colorbar\": {\"outlinewidth\": 0, \"ticks\": \"\"}, \"type\": \"choropleth\"}], \"contour\": [{\"colorbar\": {\"outlinewidth\": 0, \"ticks\": \"\"}, \"colorscale\": [[0.0, \"#0d0887\"], [0.1111111111111111, \"#46039f\"], [0.2222222222222222, \"#7201a8\"], [0.3333333333333333, \"#9c179e\"], [0.4444444444444444, \"#bd3786\"], [0.5555555555555556, \"#d8576b\"], [0.6666666666666666, \"#ed7953\"], [0.7777777777777778, \"#fb9f3a\"], [0.8888888888888888, \"#fdca26\"], [1.0, \"#f0f921\"]], \"type\": \"contour\"}], \"contourcarpet\": [{\"colorbar\": {\"outlinewidth\": 0, \"ticks\": \"\"}, \"type\": \"contourcarpet\"}], \"heatmap\": [{\"colorbar\": {\"outlinewidth\": 0, \"ticks\": \"\"}, \"colorscale\": [[0.0, \"#0d0887\"], [0.1111111111111111, \"#46039f\"], [0.2222222222222222, \"#7201a8\"], [0.3333333333333333, \"#9c179e\"], [0.4444444444444444, \"#bd3786\"], [0.5555555555555556, \"#d8576b\"], [0.6666666666666666, \"#ed7953\"], [0.7777777777777778, \"#fb9f3a\"], [0.8888888888888888, \"#fdca26\"], [1.0, \"#f0f921\"]], \"type\": \"heatmap\"}], \"heatmapgl\": [{\"colorbar\": {\"outlinewidth\": 0, \"ticks\": \"\"}, \"colorscale\": [[0.0, \"#0d0887\"], [0.1111111111111111, \"#46039f\"], [0.2222222222222222, \"#7201a8\"], [0.3333333333333333, \"#9c179e\"], [0.4444444444444444, \"#bd3786\"], [0.5555555555555556, \"#d8576b\"], [0.6666666666666666, \"#ed7953\"], [0.7777777777777778, \"#fb9f3a\"], [0.8888888888888888, \"#fdca26\"], [1.0, \"#f0f921\"]], \"type\": \"heatmapgl\"}], \"histogram\": [{\"marker\": {\"colorbar\": {\"outlinewidth\": 0, \"ticks\": \"\"}}, \"type\": \"histogram\"}], \"histogram2d\": [{\"colorbar\": {\"outlinewidth\": 0, \"ticks\": \"\"}, \"colorscale\": [[0.0, \"#0d0887\"], [0.1111111111111111, \"#46039f\"], [0.2222222222222222, \"#7201a8\"], [0.3333333333333333, \"#9c179e\"], [0.4444444444444444, \"#bd3786\"], [0.5555555555555556, \"#d8576b\"], [0.6666666666666666, \"#ed7953\"], [0.7777777777777778, \"#fb9f3a\"], [0.8888888888888888, \"#fdca26\"], [1.0, \"#f0f921\"]], \"type\": \"histogram2d\"}], \"histogram2dcontour\": [{\"colorbar\": {\"outlinewidth\": 0, \"ticks\": \"\"}, \"colorscale\": [[0.0, \"#0d0887\"], [0.1111111111111111, \"#46039f\"], [0.2222222222222222, \"#7201a8\"], [0.3333333333333333, \"#9c179e\"], [0.4444444444444444, \"#bd3786\"], [0.5555555555555556, \"#d8576b\"], [0.6666666666666666, \"#ed7953\"], [0.7777777777777778, \"#fb9f3a\"], [0.8888888888888888, \"#fdca26\"], [1.0, \"#f0f921\"]], \"type\": \"histogram2dcontour\"}], \"mesh3d\": [{\"colorbar\": {\"outlinewidth\": 0, \"ticks\": \"\"}, \"type\": \"mesh3d\"}], \"parcoords\": [{\"line\": {\"colorbar\": {\"outlinewidth\": 0, \"ticks\": \"\"}}, \"type\": \"parcoords\"}], \"pie\": [{\"automargin\": true, \"type\": \"pie\"}], \"scatter\": [{\"marker\": {\"colorbar\": {\"outlinewidth\": 0, \"ticks\": \"\"}}, \"type\": \"scatter\"}], \"scatter3d\": [{\"line\": {\"colorbar\": {\"outlinewidth\": 0, \"ticks\": \"\"}}, \"marker\": {\"colorbar\": {\"outlinewidth\": 0, \"ticks\": \"\"}}, \"type\": \"scatter3d\"}], \"scattercarpet\": [{\"marker\": {\"colorbar\": {\"outlinewidth\": 0, \"ticks\": \"\"}}, \"type\": \"scattercarpet\"}], \"scattergeo\": [{\"marker\": {\"colorbar\": {\"outlinewidth\": 0, \"ticks\": \"\"}}, \"type\": \"scattergeo\"}], \"scattergl\": [{\"marker\": {\"colorbar\": {\"outlinewidth\": 0, \"ticks\": \"\"}}, \"type\": \"scattergl\"}], \"scattermapbox\": [{\"marker\": {\"colorbar\": {\"outlinewidth\": 0, \"ticks\": \"\"}}, \"type\": \"scattermapbox\"}], \"scatterpolar\": [{\"marker\": {\"colorbar\": {\"outlinewidth\": 0, \"ticks\": \"\"}}, \"type\": \"scatterpolar\"}], \"scatterpolargl\": [{\"marker\": {\"colorbar\": {\"outlinewidth\": 0, \"ticks\": \"\"}}, \"type\": \"scatterpolargl\"}], \"scatterternary\": [{\"marker\": {\"colorbar\": {\"outlinewidth\": 0, \"ticks\": \"\"}}, \"type\": \"scatterternary\"}], \"surface\": [{\"colorbar\": {\"outlinewidth\": 0, \"ticks\": \"\"}, \"colorscale\": [[0.0, \"#0d0887\"], [0.1111111111111111, \"#46039f\"], [0.2222222222222222, \"#7201a8\"], [0.3333333333333333, \"#9c179e\"], [0.4444444444444444, \"#bd3786\"], [0.5555555555555556, \"#d8576b\"], [0.6666666666666666, \"#ed7953\"], [0.7777777777777778, \"#fb9f3a\"], [0.8888888888888888, \"#fdca26\"], [1.0, \"#f0f921\"]], \"type\": \"surface\"}], \"table\": [{\"cells\": {\"fill\": {\"color\": \"#EBF0F8\"}, \"line\": {\"color\": \"white\"}}, \"header\": {\"fill\": {\"color\": \"#C8D4E3\"}, \"line\": {\"color\": \"white\"}}, \"type\": \"table\"}]}, \"layout\": {\"annotationdefaults\": {\"arrowcolor\": \"#2a3f5f\", \"arrowhead\": 0, \"arrowwidth\": 1}, \"coloraxis\": {\"colorbar\": {\"outlinewidth\": 0, \"ticks\": \"\"}}, \"colorscale\": {\"diverging\": [[0, \"#8e0152\"], [0.1, \"#c51b7d\"], [0.2, \"#de77ae\"], [0.3, \"#f1b6da\"], [0.4, \"#fde0ef\"], [0.5, \"#f7f7f7\"], [0.6, \"#e6f5d0\"], [0.7, \"#b8e186\"], [0.8, \"#7fbc41\"], [0.9, \"#4d9221\"], [1, \"#276419\"]], \"sequential\": [[0.0, \"#0d0887\"], [0.1111111111111111, \"#46039f\"], [0.2222222222222222, \"#7201a8\"], [0.3333333333333333, \"#9c179e\"], [0.4444444444444444, \"#bd3786\"], [0.5555555555555556, \"#d8576b\"], [0.6666666666666666, \"#ed7953\"], [0.7777777777777778, \"#fb9f3a\"], [0.8888888888888888, \"#fdca26\"], [1.0, \"#f0f921\"]], \"sequentialminus\": [[0.0, \"#0d0887\"], [0.1111111111111111, \"#46039f\"], [0.2222222222222222, \"#7201a8\"], [0.3333333333333333, \"#9c179e\"], [0.4444444444444444, \"#bd3786\"], [0.5555555555555556, \"#d8576b\"], [0.6666666666666666, \"#ed7953\"], [0.7777777777777778, \"#fb9f3a\"], [0.8888888888888888, \"#fdca26\"], [1.0, \"#f0f921\"]]}, \"colorway\": [\"#636efa\", \"#EF553B\", \"#00cc96\", \"#ab63fa\", \"#FFA15A\", \"#19d3f3\", \"#FF6692\", \"#B6E880\", \"#FF97FF\", \"#FECB52\"], \"font\": {\"color\": \"#2a3f5f\"}, \"geo\": {\"bgcolor\": \"white\", \"lakecolor\": \"white\", \"landcolor\": \"#E5ECF6\", \"showlakes\": true, \"showland\": true, \"subunitcolor\": \"white\"}, \"hoverlabel\": {\"align\": \"left\"}, \"hovermode\": \"closest\", \"mapbox\": {\"style\": \"light\"}, \"paper_bgcolor\": \"white\", \"plot_bgcolor\": \"#E5ECF6\", \"polar\": {\"angularaxis\": {\"gridcolor\": \"white\", \"linecolor\": \"white\", \"ticks\": \"\"}, \"bgcolor\": \"#E5ECF6\", \"radialaxis\": {\"gridcolor\": \"white\", \"linecolor\": \"white\", \"ticks\": \"\"}}, \"scene\": {\"xaxis\": {\"backgroundcolor\": \"#E5ECF6\", \"gridcolor\": \"white\", \"gridwidth\": 2, \"linecolor\": \"white\", \"showbackground\": true, \"ticks\": \"\", \"zerolinecolor\": \"white\"}, \"yaxis\": {\"backgroundcolor\": \"#E5ECF6\", \"gridcolor\": \"white\", \"gridwidth\": 2, \"linecolor\": \"white\", \"showbackground\": true, \"ticks\": \"\", \"zerolinecolor\": \"white\"}, \"zaxis\": {\"backgroundcolor\": \"#E5ECF6\", \"gridcolor\": \"white\", \"gridwidth\": 2, \"linecolor\": \"white\", \"showbackground\": true, \"ticks\": \"\", \"zerolinecolor\": \"white\"}}, \"shapedefaults\": {\"line\": {\"color\": \"#2a3f5f\"}}, \"ternary\": {\"aaxis\": {\"gridcolor\": \"white\", \"linecolor\": \"white\", \"ticks\": \"\"}, \"baxis\": {\"gridcolor\": \"white\", \"linecolor\": \"white\", \"ticks\": \"\"}, \"bgcolor\": \"#E5ECF6\", \"caxis\": {\"gridcolor\": \"white\", \"linecolor\": \"white\", \"ticks\": \"\"}}, \"title\": {\"x\": 0.05}, \"xaxis\": {\"automargin\": true, \"gridcolor\": \"white\", \"linecolor\": \"white\", \"ticks\": \"\", \"title\": {\"standoff\": 15}, \"zerolinecolor\": \"white\", \"zerolinewidth\": 2}, \"yaxis\": {\"automargin\": true, \"gridcolor\": \"white\", \"linecolor\": \"white\", \"ticks\": \"\", \"title\": {\"standoff\": 15}, \"zerolinecolor\": \"white\", \"zerolinewidth\": 2}}}, \"title\": {\"text\": \"Distribution of spread2\"}, \"xaxis\": {\"anchor\": \"y\", \"domain\": [0.0, 1.0], \"title\": {\"text\": \"spread2\"}}, \"xaxis2\": {\"anchor\": \"y2\", \"domain\": [0.0, 1.0], \"matches\": \"x\", \"showgrid\": true, \"showticklabels\": false}, \"yaxis\": {\"anchor\": \"x\", \"domain\": [0.0, 0.7326], \"title\": {\"text\": \"count\"}}, \"yaxis2\": {\"anchor\": \"x2\", \"domain\": [0.7426, 1.0], \"matches\": \"y2\", \"showgrid\": false, \"showline\": false, \"showticklabels\": false, \"ticks\": \"\"}},\n",
              "                        {\"responsive\": true}\n",
              "                    ).then(function(){\n",
              "                            \n",
              "var gd = document.getElementById('4345ea60-c226-4d04-a9d6-87c6d1e2cef2');\n",
              "var x = new MutationObserver(function (mutations, observer) {{\n",
              "        var display = window.getComputedStyle(gd).display;\n",
              "        if (!display || display === 'none') {{\n",
              "            console.log([gd, 'removed!']);\n",
              "            Plotly.purge(gd);\n",
              "            observer.disconnect();\n",
              "        }}\n",
              "}});\n",
              "\n",
              "// Listen for the removal of the full notebook cells\n",
              "var notebookContainer = gd.closest('#notebook-container');\n",
              "if (notebookContainer) {{\n",
              "    x.observe(notebookContainer, {childList: true});\n",
              "}}\n",
              "\n",
              "// Listen for the clearing of the current output cell\n",
              "var outputEl = gd.closest('.output');\n",
              "if (outputEl) {{\n",
              "    x.observe(outputEl, {childList: true});\n",
              "}}\n",
              "\n",
              "                        })\n",
              "                };\n",
              "                \n",
              "            </script>\n",
              "        </div>\n",
              "</body>\n",
              "</html>"
            ]
          },
          "metadata": {
            "tags": []
          }
        }
      ]
    },
    {
      "cell_type": "code",
      "metadata": {
        "colab": {
          "base_uri": "https://localhost:8080/",
          "height": 542
        },
        "id": "EEdfjGa5NJH2",
        "outputId": "67243eb3-2577-43cb-9408-c94e9f852df2"
      },
      "source": [
        "fig = px.histogram(data, x='PPE', title='Distribution of PPE', marginal='box',color='status' )\n",
        "fig.update_layout(bargap=0.1)\n",
        "fig.show()"
      ],
      "execution_count": 642,
      "outputs": [
        {
          "output_type": "display_data",
          "data": {
            "text/html": [
              "<html>\n",
              "<head><meta charset=\"utf-8\" /></head>\n",
              "<body>\n",
              "    <div>\n",
              "            <script src=\"https://cdnjs.cloudflare.com/ajax/libs/mathjax/2.7.5/MathJax.js?config=TeX-AMS-MML_SVG\"></script><script type=\"text/javascript\">if (window.MathJax) {MathJax.Hub.Config({SVG: {font: \"STIX-Web\"}});}</script>\n",
              "                <script type=\"text/javascript\">window.PlotlyConfig = {MathJaxConfig: 'local'};</script>\n",
              "        <script src=\"https://cdn.plot.ly/plotly-latest.min.js\"></script>    \n",
              "            <div id=\"2098f01f-39f8-495b-a745-a8ea356e15ab\" class=\"plotly-graph-div\" style=\"height:525px; width:100%;\"></div>\n",
              "            <script type=\"text/javascript\">\n",
              "                \n",
              "                    window.PLOTLYENV=window.PLOTLYENV || {};\n",
              "                    \n",
              "                if (document.getElementById(\"2098f01f-39f8-495b-a745-a8ea356e15ab\")) {\n",
              "                    Plotly.newPlot(\n",
              "                        '2098f01f-39f8-495b-a745-a8ea356e15ab',\n",
              "                        [{\"alignmentgroup\": \"True\", \"bingroup\": \"x\", \"hoverlabel\": {\"namelength\": 0}, \"hovertemplate\": \"status=1<br>PPE=%{x}<br>count=%{y}\", \"legendgroup\": \"status=1\", \"marker\": {\"color\": \"#636efa\"}, \"name\": \"status=1\", \"offsetgroup\": \"status=1\", \"orientation\": \"v\", \"showlegend\": true, \"type\": \"histogram\", \"x\": [0.284654, 0.368674, 0.33263400000000004, 0.368975, 0.41033500000000006, 0.357775, 0.211756, 0.16375499999999998, 0.231571, 0.271362, 0.24974000000000002, 0.275931, 0.138512, 0.199889, 0.1701, 0.234589, 0.218164, 0.430788, 0.377429, 0.32211100000000004, 0.36539099999999997, 0.259765, 0.285695, 0.253556, 0.21596100000000001, 0.219514, 0.147403, 0.162999, 0.10851400000000001, 0.135242, 0.165827, 0.173218, 0.141929, 0.160691, 0.130554, 0.11573, 0.3167, 0.34483400000000003, 0.335041, 0.31446399999999997, 0.32619699999999996, 0.316395, 0.226156, 0.22624699999999998, 0.18558, 0.141958, 0.180828, 0.242981, 0.18818, 0.22546100000000002, 0.24451199999999998, 0.22862399999999997, 0.193918, 0.232744, 0.260015, 0.27794800000000003, 0.32797800000000005, 0.260633, 0.264666, 0.177275, 0.242119, 0.200423, 0.14461400000000002, 0.22096799999999997, 0.194052, 0.332086, 0.301952, 0.13412000000000002, 0.18648900000000002, 0.16080899999999998, 0.16081199999999998, 0.164916, 0.15170899999999998, 0.340623, 0.260375, 0.378483, 0.370961, 0.356881, 0.444774, 0.113942, 0.093193, 0.11287799999999999, 0.106802, 0.105306, 0.11513, 0.185668, 0.23251999999999998, 0.13639, 0.268144, 0.177807, 0.115515, 0.274407, 0.170106, 0.28278000000000003, 0.251972, 0.22065700000000002, 0.152428, 0.23480900000000002, 0.229892, 0.215558, 0.181988, 0.222716, 0.214075, 0.196535, 0.112856, 0.183572, 0.169923, 0.17063299999999998, 0.23220900000000003, 0.141422, 0.24308000000000002, 0.228319, 0.25945100000000004, 0.274387, 0.209191, 0.18498499999999998, 0.277227, 0.231723, 0.20986300000000002, 0.189032, 0.159777, 0.232861, 0.45753299999999997, 0.33608499999999997, 0.418646, 0.270173, 0.301487, 0.527367, 0.454721, 0.16858099999999998, 0.247455, 0.206256, 0.220546, 0.261305, 0.249703, 0.216638, 0.244948, 0.238281, 0.22052, 0.21238600000000002, 0.367233, 0.132703, 0.160306, 0.19272999999999998, 0.14410499999999998, 0.19771, 0.156368], \"xaxis\": \"x\", \"yaxis\": \"y\"}, {\"alignmentgroup\": \"True\", \"hoverlabel\": {\"namelength\": 0}, \"hovertemplate\": \"status=1<br>PPE=%{x}\", \"legendgroup\": \"status=1\", \"marker\": {\"color\": \"#636efa\"}, \"name\": \"status=1\", \"notched\": true, \"offsetgroup\": \"status=1\", \"showlegend\": false, \"type\": \"box\", \"x\": [0.284654, 0.368674, 0.33263400000000004, 0.368975, 0.41033500000000006, 0.357775, 0.211756, 0.16375499999999998, 0.231571, 0.271362, 0.24974000000000002, 0.275931, 0.138512, 0.199889, 0.1701, 0.234589, 0.218164, 0.430788, 0.377429, 0.32211100000000004, 0.36539099999999997, 0.259765, 0.285695, 0.253556, 0.21596100000000001, 0.219514, 0.147403, 0.162999, 0.10851400000000001, 0.135242, 0.165827, 0.173218, 0.141929, 0.160691, 0.130554, 0.11573, 0.3167, 0.34483400000000003, 0.335041, 0.31446399999999997, 0.32619699999999996, 0.316395, 0.226156, 0.22624699999999998, 0.18558, 0.141958, 0.180828, 0.242981, 0.18818, 0.22546100000000002, 0.24451199999999998, 0.22862399999999997, 0.193918, 0.232744, 0.260015, 0.27794800000000003, 0.32797800000000005, 0.260633, 0.264666, 0.177275, 0.242119, 0.200423, 0.14461400000000002, 0.22096799999999997, 0.194052, 0.332086, 0.301952, 0.13412000000000002, 0.18648900000000002, 0.16080899999999998, 0.16081199999999998, 0.164916, 0.15170899999999998, 0.340623, 0.260375, 0.378483, 0.370961, 0.356881, 0.444774, 0.113942, 0.093193, 0.11287799999999999, 0.106802, 0.105306, 0.11513, 0.185668, 0.23251999999999998, 0.13639, 0.268144, 0.177807, 0.115515, 0.274407, 0.170106, 0.28278000000000003, 0.251972, 0.22065700000000002, 0.152428, 0.23480900000000002, 0.229892, 0.215558, 0.181988, 0.222716, 0.214075, 0.196535, 0.112856, 0.183572, 0.169923, 0.17063299999999998, 0.23220900000000003, 0.141422, 0.24308000000000002, 0.228319, 0.25945100000000004, 0.274387, 0.209191, 0.18498499999999998, 0.277227, 0.231723, 0.20986300000000002, 0.189032, 0.159777, 0.232861, 0.45753299999999997, 0.33608499999999997, 0.418646, 0.270173, 0.301487, 0.527367, 0.454721, 0.16858099999999998, 0.247455, 0.206256, 0.220546, 0.261305, 0.249703, 0.216638, 0.244948, 0.238281, 0.22052, 0.21238600000000002, 0.367233, 0.132703, 0.160306, 0.19272999999999998, 0.14410499999999998, 0.19771, 0.156368], \"xaxis\": \"x2\", \"yaxis\": \"y2\"}, {\"alignmentgroup\": \"True\", \"bingroup\": \"x\", \"hoverlabel\": {\"namelength\": 0}, \"hovertemplate\": \"status=0<br>PPE=%{x}<br>count=%{y}\", \"legendgroup\": \"status=0\", \"marker\": {\"color\": \"#EF553B\"}, \"name\": \"status=0\", \"offsetgroup\": \"status=0\", \"orientation\": \"v\", \"showlegend\": true, \"type\": \"histogram\", \"x\": [0.085569, 0.06850099999999999, 0.09632, 0.056140999999999996, 0.044538999999999995, 0.05761, 0.095032, 0.117399, 0.09147000000000001, 0.10270599999999999, 0.097336, 0.086398, 0.133867, 0.12887200000000001, 0.10356099999999999, 0.105993, 0.119308, 0.147491, 0.101516, 0.09855499999999999, 0.103224, 0.093534, 0.073581, 0.091546, 0.119652, 0.09160399999999999, 0.075587, 0.202879, 0.100881, 0.09622, 0.160376, 0.174152, 0.179677, 0.163118, 0.184067, 0.174429, 0.21572399999999997, 0.252404, 0.214346, 0.12060499999999999, 0.13886800000000002, 0.121777, 0.11283800000000001, 0.13305, 0.16889500000000002, 0.13172799999999998, 0.123306, 0.148569], \"xaxis\": \"x\", \"yaxis\": \"y\"}, {\"alignmentgroup\": \"True\", \"hoverlabel\": {\"namelength\": 0}, \"hovertemplate\": \"status=0<br>PPE=%{x}\", \"legendgroup\": \"status=0\", \"marker\": {\"color\": \"#EF553B\"}, \"name\": \"status=0\", \"notched\": true, \"offsetgroup\": \"status=0\", \"showlegend\": false, \"type\": \"box\", \"x\": [0.085569, 0.06850099999999999, 0.09632, 0.056140999999999996, 0.044538999999999995, 0.05761, 0.095032, 0.117399, 0.09147000000000001, 0.10270599999999999, 0.097336, 0.086398, 0.133867, 0.12887200000000001, 0.10356099999999999, 0.105993, 0.119308, 0.147491, 0.101516, 0.09855499999999999, 0.103224, 0.093534, 0.073581, 0.091546, 0.119652, 0.09160399999999999, 0.075587, 0.202879, 0.100881, 0.09622, 0.160376, 0.174152, 0.179677, 0.163118, 0.184067, 0.174429, 0.21572399999999997, 0.252404, 0.214346, 0.12060499999999999, 0.13886800000000002, 0.121777, 0.11283800000000001, 0.13305, 0.16889500000000002, 0.13172799999999998, 0.123306, 0.148569], \"xaxis\": \"x2\", \"yaxis\": \"y2\"}],\n",
              "                        {\"bargap\": 0.1, \"barmode\": \"relative\", \"legend\": {\"tracegroupgap\": 0}, \"template\": {\"data\": {\"bar\": [{\"error_x\": {\"color\": \"#2a3f5f\"}, \"error_y\": {\"color\": \"#2a3f5f\"}, \"marker\": {\"line\": {\"color\": \"#E5ECF6\", \"width\": 0.5}}, \"type\": \"bar\"}], \"barpolar\": [{\"marker\": {\"line\": {\"color\": \"#E5ECF6\", \"width\": 0.5}}, \"type\": \"barpolar\"}], \"carpet\": [{\"aaxis\": {\"endlinecolor\": \"#2a3f5f\", \"gridcolor\": \"white\", \"linecolor\": \"white\", \"minorgridcolor\": \"white\", \"startlinecolor\": \"#2a3f5f\"}, \"baxis\": {\"endlinecolor\": \"#2a3f5f\", \"gridcolor\": \"white\", \"linecolor\": \"white\", \"minorgridcolor\": \"white\", \"startlinecolor\": \"#2a3f5f\"}, \"type\": \"carpet\"}], \"choropleth\": [{\"colorbar\": {\"outlinewidth\": 0, \"ticks\": \"\"}, \"type\": \"choropleth\"}], \"contour\": [{\"colorbar\": {\"outlinewidth\": 0, \"ticks\": \"\"}, \"colorscale\": [[0.0, \"#0d0887\"], [0.1111111111111111, \"#46039f\"], [0.2222222222222222, \"#7201a8\"], [0.3333333333333333, \"#9c179e\"], [0.4444444444444444, \"#bd3786\"], [0.5555555555555556, \"#d8576b\"], [0.6666666666666666, \"#ed7953\"], [0.7777777777777778, \"#fb9f3a\"], [0.8888888888888888, \"#fdca26\"], [1.0, \"#f0f921\"]], \"type\": \"contour\"}], \"contourcarpet\": [{\"colorbar\": {\"outlinewidth\": 0, \"ticks\": \"\"}, \"type\": \"contourcarpet\"}], \"heatmap\": [{\"colorbar\": {\"outlinewidth\": 0, \"ticks\": \"\"}, \"colorscale\": [[0.0, \"#0d0887\"], [0.1111111111111111, \"#46039f\"], [0.2222222222222222, \"#7201a8\"], [0.3333333333333333, \"#9c179e\"], [0.4444444444444444, \"#bd3786\"], [0.5555555555555556, \"#d8576b\"], [0.6666666666666666, \"#ed7953\"], [0.7777777777777778, \"#fb9f3a\"], [0.8888888888888888, \"#fdca26\"], [1.0, \"#f0f921\"]], \"type\": \"heatmap\"}], \"heatmapgl\": [{\"colorbar\": {\"outlinewidth\": 0, \"ticks\": \"\"}, \"colorscale\": [[0.0, \"#0d0887\"], [0.1111111111111111, \"#46039f\"], [0.2222222222222222, \"#7201a8\"], [0.3333333333333333, \"#9c179e\"], [0.4444444444444444, \"#bd3786\"], [0.5555555555555556, \"#d8576b\"], [0.6666666666666666, \"#ed7953\"], [0.7777777777777778, \"#fb9f3a\"], [0.8888888888888888, \"#fdca26\"], [1.0, \"#f0f921\"]], \"type\": \"heatmapgl\"}], \"histogram\": [{\"marker\": {\"colorbar\": {\"outlinewidth\": 0, \"ticks\": \"\"}}, \"type\": \"histogram\"}], \"histogram2d\": [{\"colorbar\": {\"outlinewidth\": 0, \"ticks\": \"\"}, \"colorscale\": [[0.0, \"#0d0887\"], [0.1111111111111111, \"#46039f\"], [0.2222222222222222, \"#7201a8\"], [0.3333333333333333, \"#9c179e\"], [0.4444444444444444, \"#bd3786\"], [0.5555555555555556, \"#d8576b\"], [0.6666666666666666, \"#ed7953\"], [0.7777777777777778, \"#fb9f3a\"], [0.8888888888888888, \"#fdca26\"], [1.0, \"#f0f921\"]], \"type\": \"histogram2d\"}], \"histogram2dcontour\": [{\"colorbar\": {\"outlinewidth\": 0, \"ticks\": \"\"}, \"colorscale\": [[0.0, \"#0d0887\"], [0.1111111111111111, \"#46039f\"], [0.2222222222222222, \"#7201a8\"], [0.3333333333333333, \"#9c179e\"], [0.4444444444444444, \"#bd3786\"], [0.5555555555555556, \"#d8576b\"], [0.6666666666666666, \"#ed7953\"], [0.7777777777777778, \"#fb9f3a\"], [0.8888888888888888, \"#fdca26\"], [1.0, \"#f0f921\"]], \"type\": \"histogram2dcontour\"}], \"mesh3d\": [{\"colorbar\": {\"outlinewidth\": 0, \"ticks\": \"\"}, \"type\": \"mesh3d\"}], \"parcoords\": [{\"line\": {\"colorbar\": {\"outlinewidth\": 0, \"ticks\": \"\"}}, \"type\": \"parcoords\"}], \"pie\": [{\"automargin\": true, \"type\": \"pie\"}], \"scatter\": [{\"marker\": {\"colorbar\": {\"outlinewidth\": 0, \"ticks\": \"\"}}, \"type\": \"scatter\"}], \"scatter3d\": [{\"line\": {\"colorbar\": {\"outlinewidth\": 0, \"ticks\": \"\"}}, \"marker\": {\"colorbar\": {\"outlinewidth\": 0, \"ticks\": \"\"}}, \"type\": \"scatter3d\"}], \"scattercarpet\": [{\"marker\": {\"colorbar\": {\"outlinewidth\": 0, \"ticks\": \"\"}}, \"type\": \"scattercarpet\"}], \"scattergeo\": [{\"marker\": {\"colorbar\": {\"outlinewidth\": 0, \"ticks\": \"\"}}, \"type\": \"scattergeo\"}], \"scattergl\": [{\"marker\": {\"colorbar\": {\"outlinewidth\": 0, \"ticks\": \"\"}}, \"type\": \"scattergl\"}], \"scattermapbox\": [{\"marker\": {\"colorbar\": {\"outlinewidth\": 0, \"ticks\": \"\"}}, \"type\": \"scattermapbox\"}], \"scatterpolar\": [{\"marker\": {\"colorbar\": {\"outlinewidth\": 0, \"ticks\": \"\"}}, \"type\": \"scatterpolar\"}], \"scatterpolargl\": [{\"marker\": {\"colorbar\": {\"outlinewidth\": 0, \"ticks\": \"\"}}, \"type\": \"scatterpolargl\"}], \"scatterternary\": [{\"marker\": {\"colorbar\": {\"outlinewidth\": 0, \"ticks\": \"\"}}, \"type\": \"scatterternary\"}], \"surface\": [{\"colorbar\": {\"outlinewidth\": 0, \"ticks\": \"\"}, \"colorscale\": [[0.0, \"#0d0887\"], [0.1111111111111111, \"#46039f\"], [0.2222222222222222, \"#7201a8\"], [0.3333333333333333, \"#9c179e\"], [0.4444444444444444, \"#bd3786\"], [0.5555555555555556, \"#d8576b\"], [0.6666666666666666, \"#ed7953\"], [0.7777777777777778, \"#fb9f3a\"], [0.8888888888888888, \"#fdca26\"], [1.0, \"#f0f921\"]], \"type\": \"surface\"}], \"table\": [{\"cells\": {\"fill\": {\"color\": \"#EBF0F8\"}, \"line\": {\"color\": \"white\"}}, \"header\": {\"fill\": {\"color\": \"#C8D4E3\"}, \"line\": {\"color\": \"white\"}}, \"type\": \"table\"}]}, \"layout\": {\"annotationdefaults\": {\"arrowcolor\": \"#2a3f5f\", \"arrowhead\": 0, \"arrowwidth\": 1}, \"coloraxis\": {\"colorbar\": {\"outlinewidth\": 0, \"ticks\": \"\"}}, \"colorscale\": {\"diverging\": [[0, \"#8e0152\"], [0.1, \"#c51b7d\"], [0.2, \"#de77ae\"], [0.3, \"#f1b6da\"], [0.4, \"#fde0ef\"], [0.5, \"#f7f7f7\"], [0.6, \"#e6f5d0\"], [0.7, \"#b8e186\"], [0.8, \"#7fbc41\"], [0.9, \"#4d9221\"], [1, \"#276419\"]], \"sequential\": [[0.0, \"#0d0887\"], [0.1111111111111111, \"#46039f\"], [0.2222222222222222, \"#7201a8\"], [0.3333333333333333, \"#9c179e\"], [0.4444444444444444, \"#bd3786\"], [0.5555555555555556, \"#d8576b\"], [0.6666666666666666, \"#ed7953\"], [0.7777777777777778, \"#fb9f3a\"], [0.8888888888888888, \"#fdca26\"], [1.0, \"#f0f921\"]], \"sequentialminus\": [[0.0, \"#0d0887\"], [0.1111111111111111, \"#46039f\"], [0.2222222222222222, \"#7201a8\"], [0.3333333333333333, \"#9c179e\"], [0.4444444444444444, \"#bd3786\"], [0.5555555555555556, \"#d8576b\"], [0.6666666666666666, \"#ed7953\"], [0.7777777777777778, \"#fb9f3a\"], [0.8888888888888888, \"#fdca26\"], [1.0, \"#f0f921\"]]}, \"colorway\": [\"#636efa\", \"#EF553B\", \"#00cc96\", \"#ab63fa\", \"#FFA15A\", \"#19d3f3\", \"#FF6692\", \"#B6E880\", \"#FF97FF\", \"#FECB52\"], \"font\": {\"color\": \"#2a3f5f\"}, \"geo\": {\"bgcolor\": \"white\", \"lakecolor\": \"white\", \"landcolor\": \"#E5ECF6\", \"showlakes\": true, \"showland\": true, \"subunitcolor\": \"white\"}, \"hoverlabel\": {\"align\": \"left\"}, \"hovermode\": \"closest\", \"mapbox\": {\"style\": \"light\"}, \"paper_bgcolor\": \"white\", \"plot_bgcolor\": \"#E5ECF6\", \"polar\": {\"angularaxis\": {\"gridcolor\": \"white\", \"linecolor\": \"white\", \"ticks\": \"\"}, \"bgcolor\": \"#E5ECF6\", \"radialaxis\": {\"gridcolor\": \"white\", \"linecolor\": \"white\", \"ticks\": \"\"}}, \"scene\": {\"xaxis\": {\"backgroundcolor\": \"#E5ECF6\", \"gridcolor\": \"white\", \"gridwidth\": 2, \"linecolor\": \"white\", \"showbackground\": true, \"ticks\": \"\", \"zerolinecolor\": \"white\"}, \"yaxis\": {\"backgroundcolor\": \"#E5ECF6\", \"gridcolor\": \"white\", \"gridwidth\": 2, \"linecolor\": \"white\", \"showbackground\": true, \"ticks\": \"\", \"zerolinecolor\": \"white\"}, \"zaxis\": {\"backgroundcolor\": \"#E5ECF6\", \"gridcolor\": \"white\", \"gridwidth\": 2, \"linecolor\": \"white\", \"showbackground\": true, \"ticks\": \"\", \"zerolinecolor\": \"white\"}}, \"shapedefaults\": {\"line\": {\"color\": \"#2a3f5f\"}}, \"ternary\": {\"aaxis\": {\"gridcolor\": \"white\", \"linecolor\": \"white\", \"ticks\": \"\"}, \"baxis\": {\"gridcolor\": \"white\", \"linecolor\": \"white\", \"ticks\": \"\"}, \"bgcolor\": \"#E5ECF6\", \"caxis\": {\"gridcolor\": \"white\", \"linecolor\": \"white\", \"ticks\": \"\"}}, \"title\": {\"x\": 0.05}, \"xaxis\": {\"automargin\": true, \"gridcolor\": \"white\", \"linecolor\": \"white\", \"ticks\": \"\", \"title\": {\"standoff\": 15}, \"zerolinecolor\": \"white\", \"zerolinewidth\": 2}, \"yaxis\": {\"automargin\": true, \"gridcolor\": \"white\", \"linecolor\": \"white\", \"ticks\": \"\", \"title\": {\"standoff\": 15}, \"zerolinecolor\": \"white\", \"zerolinewidth\": 2}}}, \"title\": {\"text\": \"Distribution of PPE\"}, \"xaxis\": {\"anchor\": \"y\", \"domain\": [0.0, 1.0], \"title\": {\"text\": \"PPE\"}}, \"xaxis2\": {\"anchor\": \"y2\", \"domain\": [0.0, 1.0], \"matches\": \"x\", \"showgrid\": true, \"showticklabels\": false}, \"yaxis\": {\"anchor\": \"x\", \"domain\": [0.0, 0.7326], \"title\": {\"text\": \"count\"}}, \"yaxis2\": {\"anchor\": \"x2\", \"domain\": [0.7426, 1.0], \"matches\": \"y2\", \"showgrid\": false, \"showline\": false, \"showticklabels\": false, \"ticks\": \"\"}},\n",
              "                        {\"responsive\": true}\n",
              "                    ).then(function(){\n",
              "                            \n",
              "var gd = document.getElementById('2098f01f-39f8-495b-a745-a8ea356e15ab');\n",
              "var x = new MutationObserver(function (mutations, observer) {{\n",
              "        var display = window.getComputedStyle(gd).display;\n",
              "        if (!display || display === 'none') {{\n",
              "            console.log([gd, 'removed!']);\n",
              "            Plotly.purge(gd);\n",
              "            observer.disconnect();\n",
              "        }}\n",
              "}});\n",
              "\n",
              "// Listen for the removal of the full notebook cells\n",
              "var notebookContainer = gd.closest('#notebook-container');\n",
              "if (notebookContainer) {{\n",
              "    x.observe(notebookContainer, {childList: true});\n",
              "}}\n",
              "\n",
              "// Listen for the clearing of the current output cell\n",
              "var outputEl = gd.closest('.output');\n",
              "if (outputEl) {{\n",
              "    x.observe(outputEl, {childList: true});\n",
              "}}\n",
              "\n",
              "                        })\n",
              "                };\n",
              "                \n",
              "            </script>\n",
              "        </div>\n",
              "</body>\n",
              "</html>"
            ]
          },
          "metadata": {
            "tags": []
          }
        }
      ]
    },
    {
      "cell_type": "code",
      "metadata": {
        "colab": {
          "base_uri": "https://localhost:8080/"
        },
        "id": "RlDfoztrOrbg",
        "outputId": "08c80e6a-b806-41b8-9eb0-96fa9b7bca4e"
      },
      "source": [
        "data.status.value_counts()"
      ],
      "execution_count": 643,
      "outputs": [
        {
          "output_type": "execute_result",
          "data": {
            "text/plain": [
              "1    147\n",
              "0     48\n",
              "Name: status, dtype: int64"
            ]
          },
          "metadata": {
            "tags": []
          },
          "execution_count": 643
        }
      ]
    },
    {
      "cell_type": "code",
      "metadata": {
        "colab": {
          "base_uri": "https://localhost:8080/",
          "height": 334
        },
        "id": "Zem_NsUYRJm0",
        "outputId": "da696613-2513-468e-8e88-14edb37967d4"
      },
      "source": [
        "fig , ax = plt.subplots(figsize = (6,5))\n",
        "ax = sns.countplot(y= 'status', data = data)"
      ],
      "execution_count": 644,
      "outputs": [
        {
          "output_type": "display_data",
          "data": {
            "image/png": "[encoded data removed]",
            "text/plain": [
              "<Figure size 432x360 with 1 Axes>"
            ]
          },
          "metadata": {
            "tags": [],
            "needs_background": "light"
          }
        }
      ]
    },
    {
      "cell_type": "code",
      "metadata": {
        "id": "NZst7lMRANnC"
      },
      "source": [
        "# MinMaxScaler\n",
        "scaler= MinMaxScaler((-1,1))\n",
        "x=scaler.fit_transform(features)\n",
        "y=labels"
      ],
      "execution_count": 645,
      "outputs": []
    },
    {
      "cell_type": "code",
      "metadata": {
        "id": "MV4aCl0Yay16"
      },
      "source": [
        "enc = OrdinalEncoder()"
      ],
      "execution_count": 646,
      "outputs": []
    },
    {
      "cell_type": "code",
      "metadata": {
        "colab": {
          "base_uri": "https://localhost:8080/"
        },
        "id": "_8CwuSV-a0rX",
        "outputId": "96b6d55d-130b-4577-91ca-89150c6ca730"
      },
      "source": [
        "enc.fit(unique_data[['name']])"
      ],
      "execution_count": 647,
      "outputs": [
        {
          "output_type": "execute_result",
          "data": {
            "text/plain": [
              "OrdinalEncoder(categories='auto', dtype=<class 'numpy.float64'>)"
            ]
          },
          "metadata": {
            "tags": []
          },
          "execution_count": 647
        }
      ]
    },
    {
      "cell_type": "code",
      "metadata": {
        "id": "hDucFC_za8Qn"
      },
      "source": [
        "data['name_as_number'] = enc.transform(data[['name']])\n",
        "data = data.drop('name', axis=1)"
      ],
      "execution_count": 648,
      "outputs": []
    },
    {
      "cell_type": "markdown",
      "metadata": {
        "id": "Q7DDQ7U4UlZ_"
      },
      "source": [
        "# Spliting the Data"
      ]
    },
    {
      "cell_type": "code",
      "metadata": {
        "id": "2sqPbYDLAhLR"
      },
      "source": [
        "X = data.drop('status', axis=1)\n",
        "y = data.status\n",
        "\n",
        "X_train,X_test,y_train,y_test=train_test_split(X, y, train_size = trainSize, \\\n",
        "      random_state = randState, stratify = data.status)"
      ],
      "execution_count": 649,
      "outputs": []
    },
    {
      "cell_type": "code",
      "metadata": {
        "colab": {
          "base_uri": "https://localhost:8080/"
        },
        "id": "h1W4wivVUxnr",
        "outputId": "17fe04ba-b6af-4955-dda4-d27b9329749f"
      },
      "source": [
        "print('train_df shape :',X_train.shape)\n",
        "print('X_test shape :',X_test.shape)\n",
        "print('X_train shape :',y_train.shape)\n",
        "print('test_df shape :',y_test.shape)"
      ],
      "execution_count": 650,
      "outputs": [
        {
          "output_type": "stream",
          "text": [
            "train_df shape : (156, 23)\n",
            "X_test shape : (39, 23)\n",
            "X_train shape : (156,)\n",
            "test_df shape : (39,)\n"
          ],
          "name": "stdout"
        }
      ]
    },
    {
      "cell_type": "markdown",
      "metadata": {
        "id": "U_oBOJ3SYcRv"
      },
      "source": [
        "# Different predictions models"
      ]
    },
    {
      "cell_type": "markdown",
      "metadata": {
        "id": "-Tf--9ruY97e"
      },
      "source": [
        "# Model 1 Decision Tree unbalanced Data"
      ]
    },
    {
      "cell_type": "code",
      "metadata": {
        "colab": {
          "base_uri": "https://localhost:8080/"
        },
        "id": "eWfchLgnY_Q6",
        "outputId": "98b4ae66-a7b2-4a06-ff5d-1a3dbd08a8b4"
      },
      "source": [
        "t1 = time()\n",
        "dt_model_1 = DecisionTreeClassifier().fit(X_train, y_train)\n",
        "t2 = time()\n",
        "print(f\"DecisionTree unbalanced took {t2-t1:.2f} seconds\")"
      ],
      "execution_count": 651,
      "outputs": [
        {
          "output_type": "stream",
          "text": [
            "DecisionTree unbalanced took 0.00 seconds\n"
          ],
          "name": "stdout"
        }
      ]
    },
    {
      "cell_type": "code",
      "metadata": {
        "id": "VW3twgc5AlaO"
      },
      "source": [
        "def visualize_tree(model, md=10, width=800):\n",
        "    dot_data = StringIO()  \n",
        "    export_graphviz(model, out_file=dot_data, feature_names=X_train.columns, max_depth=md, label='none')\n",
        "    graph = pydot.graph_from_dot_data(dot_data.getvalue())[0]  \n",
        "    return Image(graph.create_png(), width=width) "
      ],
      "execution_count": 652,
      "outputs": []
    },
    {
      "cell_type": "code",
      "metadata": {
        "id": "XC_AYc9XktcV"
      },
      "source": [
        "def print_dot_text(model, md=5):\n",
        "    \"\"\"The output of this function can be copied to http://www.webgraphviz.com/\"\"\"\n",
        "    dot_data = StringIO()\n",
        "    export_graphviz(model, out_file=dot_data, feature_names=X_train.columns, max_depth=md)\n",
        "    dot_text = dot_data.getvalue()\n",
        "    print(dot_text)"
      ],
      "execution_count": 653,
      "outputs": []
    },
    {
      "cell_type": "code",
      "metadata": {
        "colab": {
          "base_uri": "https://localhost:8080/",
          "height": 754
        },
        "id": "wpSEbckdkx3j",
        "outputId": "88f85a20-dd50-434b-c95a-0a6eec1cbf76"
      },
      "source": [
        "visualize_tree(dt_model_1, md=5, width=600)"
      ],
      "execution_count": 654,
      "outputs": [
        {
          "output_type": "execute_result",
          "data": {
            "image/png": "[encoded data removed]",
            "text/plain": [
              "<IPython.core.display.Image object>"
            ]
          },
          "metadata": {
            "tags": [],
            "image/png": {
              "width": 600
            }
          },
          "execution_count": 654
        }
      ]
    },
    {
      "cell_type": "code",
      "metadata": {
        "colab": {
          "base_uri": "https://localhost:8080/"
        },
        "id": "3wuFo53sk5e2",
        "outputId": "813f38c6-33ac-4d1f-b40f-196427a376a9"
      },
      "source": [
        "pd.Series(dt_model_1.feature_importances_, index=X_train.columns).sort_values(ascending=False)"
      ],
      "execution_count": 655,
      "outputs": [
        {
          "output_type": "execute_result",
          "data": {
            "text/plain": [
              "PPE                 0.450388\n",
              "name_as_number      0.256409\n",
              "MDVP:Flo(Hz)        0.125632\n",
              "Shimmer:DDA         0.057404\n",
              "MDVP:RAP            0.033209\n",
              "MDVP:Fo(Hz)         0.032714\n",
              "Jitter:DDP          0.026093\n",
              "spread1             0.018151\n",
              "RPDE                0.000000\n",
              "MDVP:Fhi(Hz)        0.000000\n",
              "D2                  0.000000\n",
              "MDVP:Jitter(%)      0.000000\n",
              "MDVP:Jitter(Abs)    0.000000\n",
              "spread2             0.000000\n",
              "MDVP:PPQ            0.000000\n",
              "MDVP:Shimmer        0.000000\n",
              "HNR                 0.000000\n",
              "MDVP:Shimmer(dB)    0.000000\n",
              "Shimmer:APQ3        0.000000\n",
              "MDVP:APQ            0.000000\n",
              "DFA                 0.000000\n",
              "NHR                 0.000000\n",
              "Shimmer:APQ5        0.000000\n",
              "dtype: float64"
            ]
          },
          "metadata": {
            "tags": []
          },
          "execution_count": 655
        }
      ]
    },
    {
      "cell_type": "code",
      "metadata": {
        "colab": {
          "base_uri": "https://localhost:8080/"
        },
        "id": "FccOVXqDlBgq",
        "outputId": "6e2cf885-33ee-471d-d05b-5dbeb8debbf4"
      },
      "source": [
        "dt_model_1.tree_.max_depth"
      ],
      "execution_count": 656,
      "outputs": [
        {
          "output_type": "execute_result",
          "data": {
            "text/plain": [
              "6"
            ]
          },
          "metadata": {
            "tags": []
          },
          "execution_count": 656
        }
      ]
    },
    {
      "cell_type": "code",
      "metadata": {
        "colab": {
          "base_uri": "https://localhost:8080/"
        },
        "id": "7jRqQR3DlD1l",
        "outputId": "2c5f769a-ac4b-43c9-f83c-40806ce134e7"
      },
      "source": [
        "dt_model_1.feature_importances_"
      ],
      "execution_count": 657,
      "outputs": [
        {
          "output_type": "execute_result",
          "data": {
            "text/plain": [
              "array([0.03271442, 0.        , 0.12563188, 0.        , 0.        ,\n",
              "       0.03320899, 0.        , 0.02609277, 0.        , 0.        ,\n",
              "       0.        , 0.        , 0.        , 0.0574041 , 0.        ,\n",
              "       0.        , 0.        , 0.        , 0.0181515 , 0.        ,\n",
              "       0.        , 0.45038775, 0.2564086 ])"
            ]
          },
          "metadata": {
            "tags": []
          },
          "execution_count": 657
        }
      ]
    },
    {
      "cell_type": "markdown",
      "metadata": {
        "id": "TZHqBO43lQOJ"
      },
      "source": [
        "### Evaluate the model"
      ]
    },
    {
      "cell_type": "code",
      "metadata": {
        "colab": {
          "base_uri": "https://localhost:8080/",
          "height": 255
        },
        "id": "oiDlFpRClRqr",
        "outputId": "c32147a0-1ff2-4c11-e010-54e4c63e7139"
      },
      "source": [
        "X_test_pred = X_test.copy()\n",
        "\n",
        "X_test_pred['y_pred'] = dt_model_1.predict(X_test)\n",
        "X_test_pred['y_train'] = y_test\n",
        "X_test_pred.sample(6)"
      ],
      "execution_count": 658,
      "outputs": [
        {
          "output_type": "execute_result",
          "data": {
            "text/html": [
              "<div>\n",
              "<style scoped>\n",
              "    .dataframe tbody tr th:only-of-type {\n",
              "        vertical-align: middle;\n",
              "    }\n",
              "\n",
              "    .dataframe tbody tr th {\n",
              "        vertical-align: top;\n",
              "    }\n",
              "\n",
              "    .dataframe thead th {\n",
              "        text-align: right;\n",
              "    }\n",
              "</style>\n",
              "<table border=\"1\" class=\"dataframe\">\n",
              "  <thead>\n",
              "    <tr style=\"text-align: right;\">\n",
              "      <th></th>\n",
              "      <th>MDVP:Fo(Hz)</th>\n",
              "      <th>MDVP:Fhi(Hz)</th>\n",
              "      <th>MDVP:Flo(Hz)</th>\n",
              "      <th>MDVP:Jitter(%)</th>\n",
              "      <th>MDVP:Jitter(Abs)</th>\n",
              "      <th>MDVP:RAP</th>\n",
              "      <th>MDVP:PPQ</th>\n",
              "      <th>Jitter:DDP</th>\n",
              "      <th>MDVP:Shimmer</th>\n",
              "      <th>MDVP:Shimmer(dB)</th>\n",
              "      <th>Shimmer:APQ3</th>\n",
              "      <th>Shimmer:APQ5</th>\n",
              "      <th>MDVP:APQ</th>\n",
              "      <th>Shimmer:DDA</th>\n",
              "      <th>NHR</th>\n",
              "      <th>HNR</th>\n",
              "      <th>RPDE</th>\n",
              "      <th>DFA</th>\n",
              "      <th>spread1</th>\n",
              "      <th>spread2</th>\n",
              "      <th>D2</th>\n",
              "      <th>PPE</th>\n",
              "      <th>name_as_number</th>\n",
              "      <th>y_pred</th>\n",
              "      <th>y_train</th>\n",
              "    </tr>\n",
              "  </thead>\n",
              "  <tbody>\n",
              "    <tr>\n",
              "      <th>183</th>\n",
              "      <td>117.226</td>\n",
              "      <td>123.925</td>\n",
              "      <td>106.656</td>\n",
              "      <td>0.00417</td>\n",
              "      <td>0.00004</td>\n",
              "      <td>0.00186</td>\n",
              "      <td>0.00270</td>\n",
              "      <td>0.00558</td>\n",
              "      <td>0.01909</td>\n",
              "      <td>0.171</td>\n",
              "      <td>0.00864</td>\n",
              "      <td>0.01223</td>\n",
              "      <td>0.01949</td>\n",
              "      <td>0.02592</td>\n",
              "      <td>0.00955</td>\n",
              "      <td>23.079</td>\n",
              "      <td>0.603515</td>\n",
              "      <td>0.669565</td>\n",
              "      <td>-5.619070</td>\n",
              "      <td>0.191576</td>\n",
              "      <td>2.027228</td>\n",
              "      <td>0.215724</td>\n",
              "      <td>183.0</td>\n",
              "      <td>0</td>\n",
              "      <td>0</td>\n",
              "    </tr>\n",
              "    <tr>\n",
              "      <th>122</th>\n",
              "      <td>138.190</td>\n",
              "      <td>203.522</td>\n",
              "      <td>83.340</td>\n",
              "      <td>0.00704</td>\n",
              "      <td>0.00005</td>\n",
              "      <td>0.00406</td>\n",
              "      <td>0.00398</td>\n",
              "      <td>0.01218</td>\n",
              "      <td>0.04479</td>\n",
              "      <td>0.441</td>\n",
              "      <td>0.02587</td>\n",
              "      <td>0.02567</td>\n",
              "      <td>0.03220</td>\n",
              "      <td>0.07761</td>\n",
              "      <td>0.01968</td>\n",
              "      <td>18.305</td>\n",
              "      <td>0.538016</td>\n",
              "      <td>0.741480</td>\n",
              "      <td>-5.418787</td>\n",
              "      <td>0.160267</td>\n",
              "      <td>2.090438</td>\n",
              "      <td>0.229892</td>\n",
              "      <td>122.0</td>\n",
              "      <td>1</td>\n",
              "      <td>1</td>\n",
              "    </tr>\n",
              "    <tr>\n",
              "      <th>73</th>\n",
              "      <td>112.014</td>\n",
              "      <td>588.518</td>\n",
              "      <td>107.024</td>\n",
              "      <td>0.00533</td>\n",
              "      <td>0.00005</td>\n",
              "      <td>0.00268</td>\n",
              "      <td>0.00329</td>\n",
              "      <td>0.00805</td>\n",
              "      <td>0.02448</td>\n",
              "      <td>0.226</td>\n",
              "      <td>0.01373</td>\n",
              "      <td>0.01375</td>\n",
              "      <td>0.01956</td>\n",
              "      <td>0.04120</td>\n",
              "      <td>0.00623</td>\n",
              "      <td>24.178</td>\n",
              "      <td>0.509127</td>\n",
              "      <td>0.789532</td>\n",
              "      <td>-5.389129</td>\n",
              "      <td>0.306636</td>\n",
              "      <td>1.928708</td>\n",
              "      <td>0.225461</td>\n",
              "      <td>73.0</td>\n",
              "      <td>1</td>\n",
              "      <td>1</td>\n",
              "    </tr>\n",
              "    <tr>\n",
              "      <th>31</th>\n",
              "      <td>199.228</td>\n",
              "      <td>209.512</td>\n",
              "      <td>192.091</td>\n",
              "      <td>0.00241</td>\n",
              "      <td>0.00001</td>\n",
              "      <td>0.00134</td>\n",
              "      <td>0.00138</td>\n",
              "      <td>0.00402</td>\n",
              "      <td>0.01015</td>\n",
              "      <td>0.089</td>\n",
              "      <td>0.00504</td>\n",
              "      <td>0.00641</td>\n",
              "      <td>0.00762</td>\n",
              "      <td>0.01513</td>\n",
              "      <td>0.00167</td>\n",
              "      <td>30.940</td>\n",
              "      <td>0.432439</td>\n",
              "      <td>0.742055</td>\n",
              "      <td>-7.682587</td>\n",
              "      <td>0.173319</td>\n",
              "      <td>2.103106</td>\n",
              "      <td>0.068501</td>\n",
              "      <td>31.0</td>\n",
              "      <td>0</td>\n",
              "      <td>0</td>\n",
              "    </tr>\n",
              "    <tr>\n",
              "      <th>137</th>\n",
              "      <td>113.166</td>\n",
              "      <td>130.270</td>\n",
              "      <td>100.673</td>\n",
              "      <td>0.00502</td>\n",
              "      <td>0.00004</td>\n",
              "      <td>0.00257</td>\n",
              "      <td>0.00312</td>\n",
              "      <td>0.00772</td>\n",
              "      <td>0.05279</td>\n",
              "      <td>0.476</td>\n",
              "      <td>0.02896</td>\n",
              "      <td>0.03347</td>\n",
              "      <td>0.04134</td>\n",
              "      <td>0.08689</td>\n",
              "      <td>0.03690</td>\n",
              "      <td>16.747</td>\n",
              "      <td>0.625362</td>\n",
              "      <td>0.708617</td>\n",
              "      <td>-4.654894</td>\n",
              "      <td>0.304107</td>\n",
              "      <td>2.672362</td>\n",
              "      <td>0.274387</td>\n",
              "      <td>137.0</td>\n",
              "      <td>1</td>\n",
              "      <td>1</td>\n",
              "    </tr>\n",
              "    <tr>\n",
              "      <th>173</th>\n",
              "      <td>113.715</td>\n",
              "      <td>116.443</td>\n",
              "      <td>96.913</td>\n",
              "      <td>0.00349</td>\n",
              "      <td>0.00003</td>\n",
              "      <td>0.00171</td>\n",
              "      <td>0.00203</td>\n",
              "      <td>0.00514</td>\n",
              "      <td>0.01472</td>\n",
              "      <td>0.133</td>\n",
              "      <td>0.00748</td>\n",
              "      <td>0.00905</td>\n",
              "      <td>0.01148</td>\n",
              "      <td>0.02245</td>\n",
              "      <td>0.00478</td>\n",
              "      <td>26.547</td>\n",
              "      <td>0.380253</td>\n",
              "      <td>0.766700</td>\n",
              "      <td>-5.943501</td>\n",
              "      <td>0.192150</td>\n",
              "      <td>1.852542</td>\n",
              "      <td>0.179677</td>\n",
              "      <td>173.0</td>\n",
              "      <td>0</td>\n",
              "      <td>0</td>\n",
              "    </tr>\n",
              "  </tbody>\n",
              "</table>\n",
              "</div>"
            ],
            "text/plain": [
              "     MDVP:Fo(Hz)  MDVP:Fhi(Hz)  MDVP:Flo(Hz)  ...  name_as_number  y_pred  y_train\n",
              "183      117.226       123.925       106.656  ...           183.0       0        0\n",
              "122      138.190       203.522        83.340  ...           122.0       1        1\n",
              "73       112.014       588.518       107.024  ...            73.0       1        1\n",
              "31       199.228       209.512       192.091  ...            31.0       0        0\n",
              "137      113.166       130.270       100.673  ...           137.0       1        1\n",
              "173      113.715       116.443        96.913  ...           173.0       0        0\n",
              "\n",
              "[6 rows x 25 columns]"
            ]
          },
          "metadata": {
            "tags": []
          },
          "execution_count": 658
        }
      ]
    },
    {
      "cell_type": "code",
      "metadata": {
        "colab": {
          "base_uri": "https://localhost:8080/"
        },
        "id": "LK6cnC4JlUT3",
        "outputId": "de08a429-c279-457f-c638-2a3c9d2b4d35"
      },
      "source": [
        "X_test_pred['que'] = np.where((X_test_pred['y_pred'] == X_test_pred['y_train'])\\\n",
        "                     , 'yes', 'no')\n",
        "X_test_pred['que'].value_counts()"
      ],
      "execution_count": 659,
      "outputs": [
        {
          "output_type": "execute_result",
          "data": {
            "text/plain": [
              "yes    38\n",
              "no      1\n",
              "Name: que, dtype: int64"
            ]
          },
          "metadata": {
            "tags": []
          },
          "execution_count": 659
        }
      ]
    },
    {
      "cell_type": "code",
      "metadata": {
        "colab": {
          "base_uri": "https://localhost:8080/"
        },
        "id": "JfYNOkURlZTW",
        "outputId": "ca4e4e4e-ebb7-4d03-9aa5-de80028c53cb"
      },
      "source": [
        "preds_1= dt_model_1.predict_proba(X_test)[:,1]\n",
        "\n",
        "roc_auc_score(y_test,preds_1)"
      ],
      "execution_count": 660,
      "outputs": [
        {
          "output_type": "execute_result",
          "data": {
            "text/plain": [
              "0.9827586206896552"
            ]
          },
          "metadata": {
            "tags": []
          },
          "execution_count": 660
        }
      ]
    },
    {
      "cell_type": "code",
      "metadata": {
        "colab": {
          "base_uri": "https://localhost:8080/"
        },
        "id": "NEq99TS3lbSK",
        "outputId": "67d18d3f-e4dd-40dd-d76d-ce147393390a"
      },
      "source": [
        "log_loss(y_test, preds_1)"
      ],
      "execution_count": 661,
      "outputs": [
        {
          "output_type": "execute_result",
          "data": {
            "text/plain": [
              "0.8856096511515568"
            ]
          },
          "metadata": {
            "tags": []
          },
          "execution_count": 661
        }
      ]
    },
    {
      "cell_type": "code",
      "metadata": {
        "colab": {
          "base_uri": "https://localhost:8080/"
        },
        "id": "qROxEOnzldET",
        "outputId": "52b74c0b-4091-4f8e-ea6e-d10f554941f1"
      },
      "source": [
        "accuracy_score(y_true=y_test, y_pred= preds_1)"
      ],
      "execution_count": 662,
      "outputs": [
        {
          "output_type": "execute_result",
          "data": {
            "text/plain": [
              "0.9743589743589743"
            ]
          },
          "metadata": {
            "tags": []
          },
          "execution_count": 662
        }
      ]
    },
    {
      "cell_type": "code",
      "metadata": {
        "colab": {
          "base_uri": "https://localhost:8080/",
          "height": 299
        },
        "id": "G_-DEhWDlfLz",
        "outputId": "9ca02c3c-b5a0-4042-a8aa-fb5ac0e8f751"
      },
      "source": [
        "cm = confusion_matrix(y_true = y_test ,y_pred = X_test_pred.y_pred)\n",
        "DT_model_cm = pd.DataFrame(cm, index=dt_model_1.classes_, columns=dt_model_1.classes_)\n",
        "hmap = sns.heatmap(DT_model_cm, annot=True, fmt=\"d\")\n",
        "hmap.yaxis.set_ticklabels(hmap.yaxis.get_ticklabels(), rotation=0, ha='right')\n",
        "hmap.xaxis.set_ticklabels(hmap.xaxis.get_ticklabels(), rotation=30, ha='right')\n",
        "plt.ylabel('True label')\n",
        "plt.xlabel('Predicted label')"
      ],
      "execution_count": 663,
      "outputs": [
        {
          "output_type": "execute_result",
          "data": {
            "text/plain": [
              "Text(0.5, 15.0, 'Predicted label')"
            ]
          },
          "metadata": {
            "tags": []
          },
          "execution_count": 663
        },
        {
          "output_type": "display_data",
          "data": {
            "image/png": "[encoded data removed]",
            "text/plain": [
              "<Figure size 432x288 with 2 Axes>"
            ]
          },
          "metadata": {
            "tags": [],
            "needs_background": "light"
          }
        }
      ]
    },
    {
      "cell_type": "code",
      "metadata": {
        "colab": {
          "base_uri": "https://localhost:8080/"
        },
        "id": "usueDoA8mOKs",
        "outputId": "e3e453dc-5fb0-4c57-ba71-80115ff67d8c"
      },
      "source": [
        "print(classification_report(y_true=y_test,\n",
        "                            y_pred=X_test_pred.y_pred))"
      ],
      "execution_count": 664,
      "outputs": [
        {
          "output_type": "stream",
          "text": [
            "              precision    recall  f1-score   support\n",
            "\n",
            "           0       0.91      1.00      0.95        10\n",
            "           1       1.00      0.97      0.98        29\n",
            "\n",
            "    accuracy                           0.97        39\n",
            "   macro avg       0.95      0.98      0.97        39\n",
            "weighted avg       0.98      0.97      0.97        39\n",
            "\n"
          ],
          "name": "stdout"
        }
      ]
    },
    {
      "cell_type": "code",
      "metadata": {
        "id": "z0Fr-gWjmbsS"
      },
      "source": [
        "my_cv = StratifiedShuffleSplit(n_splits = 26, train_size = 0.75, random_state = randState) "
      ],
      "execution_count": 665,
      "outputs": []
    },
    {
      "cell_type": "code",
      "metadata": {
        "colab": {
          "base_uri": "https://localhost:8080/"
        },
        "id": "CPDYiM0nmdap",
        "outputId": "9b07fb4a-dab7-456a-a373-af997de7c6b0"
      },
      "source": [
        "-cross_val_score(dt_model_1, X_train, y_train, cv=my_cv, scoring='accuracy') "
      ],
      "execution_count": 666,
      "outputs": [
        {
          "output_type": "execute_result",
          "data": {
            "text/plain": [
              "array([-0.97435897, -0.8974359 , -0.92307692, -0.82051282, -1.        ,\n",
              "       -0.97435897, -0.76923077, -0.8974359 , -1.        , -0.97435897,\n",
              "       -0.79487179, -0.94871795, -0.94871795, -0.87179487, -0.97435897,\n",
              "       -0.94871795, -0.94871795, -0.84615385, -0.94871795, -0.8974359 ,\n",
              "       -0.92307692, -0.92307692, -0.8974359 , -0.94871795, -0.94871795,\n",
              "       -0.8974359 ])"
            ]
          },
          "metadata": {
            "tags": []
          },
          "execution_count": 666
        }
      ]
    },
    {
      "cell_type": "code",
      "metadata": {
        "id": "zpWIlpXL4aGc"
      },
      "source": [
        "dt_model_1_gs = DecisionTreeClassifier(min_samples_leaf=40, min_weight_fraction_leaf=0.01)"
      ],
      "execution_count": 667,
      "outputs": []
    },
    {
      "cell_type": "code",
      "metadata": {
        "colab": {
          "base_uri": "https://localhost:8080/"
        },
        "id": "CcO9x1Le5WUM",
        "outputId": "920e0d4b-1c44-4217-ab0c-33d82d0c220c"
      },
      "source": [
        "# %%timeit\n",
        "-cross_val_score(dt_model_1_gs, X_train, y_train, cv=my_cv, scoring='neg_log_loss')"
      ],
      "execution_count": 668,
      "outputs": [
        {
          "output_type": "execute_result",
          "data": {
            "text/plain": [
              "array([0.42996605, 0.57133617, 0.40475617, 0.64397605, 0.29684353,\n",
              "       0.39508587, 0.50502923, 0.47900036, 0.57133617, 0.35242776,\n",
              "       0.48248536, 0.43597096, 0.34887558, 0.34883355, 0.31528888,\n",
              "       0.30884943, 0.51195759, 0.41218934, 0.53122101, 0.63718731,\n",
              "       0.36338501, 0.45109621, 0.40877909, 0.38400476, 0.33540792,\n",
              "       0.37378547])"
            ]
          },
          "metadata": {
            "tags": []
          },
          "execution_count": 668
        }
      ]
    },
    {
      "cell_type": "code",
      "metadata": {
        "id": "n9VRu_IC57XI"
      },
      "source": [
        "my_param_grid = {'min_samples_leaf': [20, 40, 60],\n",
        "                 'min_weight_fraction_leaf': [0.01, 0.02, 0.05],\n",
        "                 'criterion': ['gini', 'entropy'], \n",
        "                 'min_impurity_decrease': [1e-5, 1e-6, 1e-7]}"
      ],
      "execution_count": 669,
      "outputs": []
    },
    {
      "cell_type": "code",
      "metadata": {
        "id": "ASxGE4KBnHwX"
      },
      "source": [
        "dt_model_gs = GridSearchCV(estimator=dt_model_1_gs, param_grid=my_param_grid,\\\n",
        "                           cv=my_cv, scoring='neg_log_loss')"
      ],
      "execution_count": 670,
      "outputs": []
    },
    {
      "cell_type": "code",
      "metadata": {
        "colab": {
          "base_uri": "https://localhost:8080/"
        },
        "id": "wDnuFfYRnDdl",
        "outputId": "c6ffbd80-56f2-4012-e7ca-2a36d5ca757e"
      },
      "source": [
        "# %%timeit\n",
        "dt_model_gs.fit(X_train, y_train)"
      ],
      "execution_count": 671,
      "outputs": [
        {
          "output_type": "execute_result",
          "data": {
            "text/plain": [
              "GridSearchCV(cv=StratifiedShuffleSplit(n_splits=26, random_state=990, test_size=None,\n",
              "            train_size=0.75),\n",
              "             error_score=nan,\n",
              "             estimator=DecisionTreeClassifier(ccp_alpha=0.0, class_weight=None,\n",
              "                                              criterion='gini', max_depth=None,\n",
              "                                              max_features=None,\n",
              "                                              max_leaf_nodes=None,\n",
              "                                              min_impurity_decrease=0.0,\n",
              "                                              min_impurity_split=None,\n",
              "                                              min_samples_leaf=40,\n",
              "                                              min_samples_split=2,\n",
              "                                              min_weigh...leaf=0.01,\n",
              "                                              presort='deprecated',\n",
              "                                              random_state=None,\n",
              "                                              splitter='best'),\n",
              "             iid='deprecated', n_jobs=None,\n",
              "             param_grid={'criterion': ['gini', 'entropy'],\n",
              "                         'min_impurity_decrease': [1e-05, 1e-06, 1e-07],\n",
              "                         'min_samples_leaf': [20, 40, 60],\n",
              "                         'min_weight_fraction_leaf': [0.01, 0.02, 0.05]},\n",
              "             pre_dispatch='2*n_jobs', refit=True, return_train_score=False,\n",
              "             scoring='neg_log_loss', verbose=0)"
            ]
          },
          "metadata": {
            "tags": []
          },
          "execution_count": 671
        }
      ]
    },
    {
      "cell_type": "code",
      "metadata": {
        "colab": {
          "base_uri": "https://localhost:8080/"
        },
        "id": "TtxtOCcJ6SmE",
        "outputId": "cf6d79c0-2ba5-4118-8a63-d324fae6004c"
      },
      "source": [
        "print(\"Best parameters:\", dt_model_gs.best_params_)"
      ],
      "execution_count": 672,
      "outputs": [
        {
          "output_type": "stream",
          "text": [
            "Best parameters: {'criterion': 'gini', 'min_impurity_decrease': 1e-06, 'min_samples_leaf': 40, 'min_weight_fraction_leaf': 0.02}\n"
          ],
          "name": "stdout"
        }
      ]
    },
    {
      "cell_type": "code",
      "metadata": {
        "id": "BbCxhoqR6W4n"
      },
      "source": [
        "dt_model_gs_2 = dt_model_gs.best_estimator_"
      ],
      "execution_count": 673,
      "outputs": []
    },
    {
      "cell_type": "code",
      "metadata": {
        "id": "g1u4Cf1G6eNS"
      },
      "source": [
        "y_test_pred_gs_2 = pd.DataFrame(dt_model_gs_2.predict_proba(X_test),\\\n",
        "                           columns=dt_model_gs_2.classes_)"
      ],
      "execution_count": 674,
      "outputs": []
    },
    {
      "cell_type": "code",
      "metadata": {
        "colab": {
          "base_uri": "https://localhost:8080/"
        },
        "id": "L92OQKHd7WeB",
        "outputId": "d1f2437f-e277-4ac5-a725-c697257068ad"
      },
      "source": [
        "log_loss(y_true=y_test, y_pred=y_test_pred_gs_2)"
      ],
      "execution_count": 675,
      "outputs": [
        {
          "output_type": "execute_result",
          "data": {
            "text/plain": [
              "1.2536614562802415"
            ]
          },
          "metadata": {
            "tags": []
          },
          "execution_count": 675
        }
      ]
    },
    {
      "cell_type": "code",
      "metadata": {
        "colab": {
          "base_uri": "https://localhost:8080/"
        },
        "id": "cU8rwZyjCfz4",
        "outputId": "d870b5ba-2d17-4960-ab66-7fe08812081f"
      },
      "source": [
        "X_test_pred_2 = X_test.copy()\n",
        "\n",
        "X_test_pred_2['y_pred'] = dt_model_gs_2.predict(X_test)\n",
        "X_test_pred_2['y_train'] = y_test\n",
        "X_test_pred_2.sample(6)\n",
        "\n",
        "roc_auc_score(y_test,preds_gs_2)"
      ],
      "execution_count": 676,
      "outputs": [
        {
          "output_type": "execute_result",
          "data": {
            "text/plain": [
              "0.7137931034482758"
            ]
          },
          "metadata": {
            "tags": []
          },
          "execution_count": 676
        }
      ]
    },
    {
      "cell_type": "code",
      "metadata": {
        "colab": {
          "base_uri": "https://localhost:8080/"
        },
        "id": "1o5ra7IkBLuZ",
        "outputId": "df2c3e95-77c4-45da-c510-c26fd3f67bd4"
      },
      "source": [
        "log_loss(y_test, preds_gs_2)"
      ],
      "execution_count": 677,
      "outputs": [
        {
          "output_type": "execute_result",
          "data": {
            "text/plain": [
              "7.9705688703568445"
            ]
          },
          "metadata": {
            "tags": []
          },
          "execution_count": 677
        }
      ]
    },
    {
      "cell_type": "code",
      "metadata": {
        "colab": {
          "base_uri": "https://localhost:8080/"
        },
        "id": "6PH779rVA4L_",
        "outputId": "ed6265a6-3f76-44d6-e519-6c9ae394889f"
      },
      "source": [
        "accuracy_score(y_true=y_test, y_pred= preds_gs_2)"
      ],
      "execution_count": 678,
      "outputs": [
        {
          "output_type": "execute_result",
          "data": {
            "text/plain": [
              "0.7692307692307693"
            ]
          },
          "metadata": {
            "tags": []
          },
          "execution_count": 678
        }
      ]
    },
    {
      "cell_type": "code",
      "metadata": {
        "colab": {
          "base_uri": "https://localhost:8080/",
          "height": 299
        },
        "id": "n7xqe1fpB2xg",
        "outputId": "b5482c61-3c2c-4120-fdcf-1ef607522c21"
      },
      "source": [
        "cm = confusion_matrix(y_true = y_test ,y_pred = X_test_pred_2.y_pred)\n",
        "DT_model_cm = pd.DataFrame(cm, index=dt_model_1.classes_, columns=dt_model_1.classes_)\n",
        "hmap = sns.heatmap(DT_model_cm, annot=True, fmt=\"d\")\n",
        "hmap.yaxis.set_ticklabels(hmap.yaxis.get_ticklabels(), rotation=0, ha='right')\n",
        "hmap.xaxis.set_ticklabels(hmap.xaxis.get_ticklabels(), rotation=30, ha='right')\n",
        "plt.ylabel('True label')\n",
        "plt.xlabel('Predicted label')"
      ],
      "execution_count": 679,
      "outputs": [
        {
          "output_type": "execute_result",
          "data": {
            "text/plain": [
              "Text(0.5, 15.0, 'Predicted label')"
            ]
          },
          "metadata": {
            "tags": []
          },
          "execution_count": 679
        },
        {
          "output_type": "display_data",
          "data": {
            "image/png": "[encoded data removed]",
            "text/plain": [
              "<Figure size 432x288 with 2 Axes>"
            ]
          },
          "metadata": {
            "tags": [],
            "needs_background": "light"
          }
        }
      ]
    },
    {
      "cell_type": "code",
      "metadata": {
        "colab": {
          "base_uri": "https://localhost:8080/"
        },
        "id": "9n4sHMH-DBtL",
        "outputId": "e93c359a-05f3-46bb-b5bd-5f1c472cbf1a"
      },
      "source": [
        "print(classification_report(y_true=y_test,\n",
        "                            y_pred=X_test_pred_2.y_pred))"
      ],
      "execution_count": 680,
      "outputs": [
        {
          "output_type": "stream",
          "text": [
            "              precision    recall  f1-score   support\n",
            "\n",
            "           0       0.55      0.60      0.57        10\n",
            "           1       0.86      0.83      0.84        29\n",
            "\n",
            "    accuracy                           0.77        39\n",
            "   macro avg       0.70      0.71      0.71        39\n",
            "weighted avg       0.78      0.77      0.77        39\n",
            "\n"
          ],
          "name": "stdout"
        }
      ]
    },
    {
      "cell_type": "markdown",
      "metadata": {
        "id": "I150Ec5jLucW"
      },
      "source": [
        "# Model 2 Decision Tree balanced Data"
      ]
    },
    {
      "cell_type": "code",
      "metadata": {
        "colab": {
          "base_uri": "https://localhost:8080/"
        },
        "id": "mBS2ea6eLwhH",
        "outputId": "c9866fc2-f2a5-4ab2-b2c9-3f910fb3cdaf"
      },
      "source": [
        "t1 = time()\n",
        "dt_model_bal = DecisionTreeClassifier(class_weight = 'balanced',min_samples_leaf=40,\\\n",
        "                                    min_weight_fraction_leaf=0.01).fit(X_train, y_train)\n",
        "t2 = time()\n",
        "print(f\"DecisionTree balanced took {t2-t1:.2f} seconds\")"
      ],
      "execution_count": 681,
      "outputs": [
        {
          "output_type": "stream",
          "text": [
            "DecisionTree balanced took 0.00 seconds\n"
          ],
          "name": "stdout"
        }
      ]
    },
    {
      "cell_type": "code",
      "metadata": {
        "colab": {
          "base_uri": "https://localhost:8080/",
          "height": 491
        },
        "id": "E8MY6zbNM8mw",
        "outputId": "331a4e55-f1bc-4cc2-e814-2fe33f9d7154"
      },
      "source": [
        "visualize_tree(dt_model_bal, md=5, width=600)"
      ],
      "execution_count": 682,
      "outputs": [
        {
          "output_type": "execute_result",
          "data": {
            "image/png": "[encoded data removed]",
            "text/plain": [
              "<IPython.core.display.Image object>"
            ]
          },
          "metadata": {
            "tags": [],
            "image/png": {
              "width": 600
            }
          },
          "execution_count": 682
        }
      ]
    },
    {
      "cell_type": "code",
      "metadata": {
        "colab": {
          "base_uri": "https://localhost:8080/"
        },
        "id": "oSE94YAgNTtK",
        "outputId": "4f4c09f9-736f-4a0c-f122-6b5602238d83"
      },
      "source": [
        "pd.Series(dt_model_bal.feature_importances_,\\\n",
        "          index=X_train.columns).sort_values(ascending=False)"
      ],
      "execution_count": 683,
      "outputs": [
        {
          "output_type": "execute_result",
          "data": {
            "text/plain": [
              "spread1             0.85284\n",
              "name_as_number      0.14716\n",
              "Shimmer:APQ3        0.00000\n",
              "MDVP:Fhi(Hz)        0.00000\n",
              "MDVP:Flo(Hz)        0.00000\n",
              "MDVP:Jitter(%)      0.00000\n",
              "MDVP:Jitter(Abs)    0.00000\n",
              "MDVP:RAP            0.00000\n",
              "MDVP:PPQ            0.00000\n",
              "Jitter:DDP          0.00000\n",
              "MDVP:Shimmer        0.00000\n",
              "MDVP:Shimmer(dB)    0.00000\n",
              "Shimmer:APQ5        0.00000\n",
              "PPE                 0.00000\n",
              "MDVP:APQ            0.00000\n",
              "Shimmer:DDA         0.00000\n",
              "NHR                 0.00000\n",
              "HNR                 0.00000\n",
              "RPDE                0.00000\n",
              "DFA                 0.00000\n",
              "spread2             0.00000\n",
              "D2                  0.00000\n",
              "MDVP:Fo(Hz)         0.00000\n",
              "dtype: float64"
            ]
          },
          "metadata": {
            "tags": []
          },
          "execution_count": 683
        }
      ]
    },
    {
      "cell_type": "markdown",
      "metadata": {
        "id": "EW_EaUdaNidm"
      },
      "source": [
        "### Evaluate the model"
      ]
    },
    {
      "cell_type": "code",
      "metadata": {
        "colab": {
          "base_uri": "https://localhost:8080/",
          "height": 255
        },
        "id": "xe8Ymh6gNfnX",
        "outputId": "2fbf2146-5685-4027-f90e-998bcab246c7"
      },
      "source": [
        "X_test_pred_bal = X_test.copy()\n",
        "\n",
        "X_test_pred_bal['y_pred'] = dt_model_bal.predict(X_test)\n",
        "X_test_pred_bal['y_train'] = y_test\n",
        "X_test_pred_bal.sample(6)"
      ],
      "execution_count": 684,
      "outputs": [
        {
          "output_type": "execute_result",
          "data": {
            "text/html": [
              "<div>\n",
              "<style scoped>\n",
              "    .dataframe tbody tr th:only-of-type {\n",
              "        vertical-align: middle;\n",
              "    }\n",
              "\n",
              "    .dataframe tbody tr th {\n",
              "        vertical-align: top;\n",
              "    }\n",
              "\n",
              "    .dataframe thead th {\n",
              "        text-align: right;\n",
              "    }\n",
              "</style>\n",
              "<table border=\"1\" class=\"dataframe\">\n",
              "  <thead>\n",
              "    <tr style=\"text-align: right;\">\n",
              "      <th></th>\n",
              "      <th>MDVP:Fo(Hz)</th>\n",
              "      <th>MDVP:Fhi(Hz)</th>\n",
              "      <th>MDVP:Flo(Hz)</th>\n",
              "      <th>MDVP:Jitter(%)</th>\n",
              "      <th>MDVP:Jitter(Abs)</th>\n",
              "      <th>MDVP:RAP</th>\n",
              "      <th>MDVP:PPQ</th>\n",
              "      <th>Jitter:DDP</th>\n",
              "      <th>MDVP:Shimmer</th>\n",
              "      <th>MDVP:Shimmer(dB)</th>\n",
              "      <th>Shimmer:APQ3</th>\n",
              "      <th>Shimmer:APQ5</th>\n",
              "      <th>MDVP:APQ</th>\n",
              "      <th>Shimmer:DDA</th>\n",
              "      <th>NHR</th>\n",
              "      <th>HNR</th>\n",
              "      <th>RPDE</th>\n",
              "      <th>DFA</th>\n",
              "      <th>spread1</th>\n",
              "      <th>spread2</th>\n",
              "      <th>D2</th>\n",
              "      <th>PPE</th>\n",
              "      <th>name_as_number</th>\n",
              "      <th>y_pred</th>\n",
              "      <th>y_train</th>\n",
              "    </tr>\n",
              "  </thead>\n",
              "  <tbody>\n",
              "    <tr>\n",
              "      <th>24</th>\n",
              "      <td>163.656</td>\n",
              "      <td>200.841</td>\n",
              "      <td>76.779</td>\n",
              "      <td>0.00742</td>\n",
              "      <td>0.00005</td>\n",
              "      <td>0.00380</td>\n",
              "      <td>0.00390</td>\n",
              "      <td>0.01140</td>\n",
              "      <td>0.01659</td>\n",
              "      <td>0.164</td>\n",
              "      <td>0.00738</td>\n",
              "      <td>0.00948</td>\n",
              "      <td>0.01497</td>\n",
              "      <td>0.02214</td>\n",
              "      <td>0.01778</td>\n",
              "      <td>23.831</td>\n",
              "      <td>0.397937</td>\n",
              "      <td>0.732479</td>\n",
              "      <td>-5.557447</td>\n",
              "      <td>0.220890</td>\n",
              "      <td>2.692176</td>\n",
              "      <td>0.215961</td>\n",
              "      <td>24.0</td>\n",
              "      <td>1</td>\n",
              "      <td>1</td>\n",
              "    </tr>\n",
              "    <tr>\n",
              "      <th>111</th>\n",
              "      <td>208.519</td>\n",
              "      <td>220.315</td>\n",
              "      <td>199.020</td>\n",
              "      <td>0.00609</td>\n",
              "      <td>0.00003</td>\n",
              "      <td>0.00368</td>\n",
              "      <td>0.00339</td>\n",
              "      <td>0.01105</td>\n",
              "      <td>0.01761</td>\n",
              "      <td>0.155</td>\n",
              "      <td>0.00952</td>\n",
              "      <td>0.01058</td>\n",
              "      <td>0.01307</td>\n",
              "      <td>0.02855</td>\n",
              "      <td>0.00830</td>\n",
              "      <td>22.407</td>\n",
              "      <td>0.338097</td>\n",
              "      <td>0.712466</td>\n",
              "      <td>-6.471427</td>\n",
              "      <td>0.184378</td>\n",
              "      <td>2.502336</td>\n",
              "      <td>0.136390</td>\n",
              "      <td>111.0</td>\n",
              "      <td>0</td>\n",
              "      <td>1</td>\n",
              "    </tr>\n",
              "    <tr>\n",
              "      <th>135</th>\n",
              "      <td>110.453</td>\n",
              "      <td>127.611</td>\n",
              "      <td>105.554</td>\n",
              "      <td>0.00494</td>\n",
              "      <td>0.00004</td>\n",
              "      <td>0.00244</td>\n",
              "      <td>0.00315</td>\n",
              "      <td>0.00731</td>\n",
              "      <td>0.04128</td>\n",
              "      <td>0.379</td>\n",
              "      <td>0.02229</td>\n",
              "      <td>0.02592</td>\n",
              "      <td>0.03316</td>\n",
              "      <td>0.06688</td>\n",
              "      <td>0.02529</td>\n",
              "      <td>17.707</td>\n",
              "      <td>0.653427</td>\n",
              "      <td>0.706687</td>\n",
              "      <td>-5.333619</td>\n",
              "      <td>0.322044</td>\n",
              "      <td>2.631793</td>\n",
              "      <td>0.228319</td>\n",
              "      <td>135.0</td>\n",
              "      <td>1</td>\n",
              "      <td>1</td>\n",
              "    </tr>\n",
              "    <tr>\n",
              "      <th>168</th>\n",
              "      <td>197.569</td>\n",
              "      <td>217.627</td>\n",
              "      <td>90.794</td>\n",
              "      <td>0.00803</td>\n",
              "      <td>0.00004</td>\n",
              "      <td>0.00490</td>\n",
              "      <td>0.00448</td>\n",
              "      <td>0.01470</td>\n",
              "      <td>0.02177</td>\n",
              "      <td>0.189</td>\n",
              "      <td>0.01279</td>\n",
              "      <td>0.01272</td>\n",
              "      <td>0.01439</td>\n",
              "      <td>0.03836</td>\n",
              "      <td>0.01337</td>\n",
              "      <td>19.269</td>\n",
              "      <td>0.372222</td>\n",
              "      <td>0.725216</td>\n",
              "      <td>-5.736781</td>\n",
              "      <td>0.164529</td>\n",
              "      <td>2.882450</td>\n",
              "      <td>0.202879</td>\n",
              "      <td>168.0</td>\n",
              "      <td>1</td>\n",
              "      <td>0</td>\n",
              "    </tr>\n",
              "    <tr>\n",
              "      <th>158</th>\n",
              "      <td>126.144</td>\n",
              "      <td>154.284</td>\n",
              "      <td>97.543</td>\n",
              "      <td>0.00975</td>\n",
              "      <td>0.00008</td>\n",
              "      <td>0.00593</td>\n",
              "      <td>0.00454</td>\n",
              "      <td>0.01778</td>\n",
              "      <td>0.02852</td>\n",
              "      <td>0.266</td>\n",
              "      <td>0.01500</td>\n",
              "      <td>0.01581</td>\n",
              "      <td>0.02157</td>\n",
              "      <td>0.04499</td>\n",
              "      <td>0.03828</td>\n",
              "      <td>21.534</td>\n",
              "      <td>0.635015</td>\n",
              "      <td>0.627337</td>\n",
              "      <td>-5.070096</td>\n",
              "      <td>0.280091</td>\n",
              "      <td>2.892300</td>\n",
              "      <td>0.249703</td>\n",
              "      <td>158.0</td>\n",
              "      <td>1</td>\n",
              "      <td>1</td>\n",
              "    </tr>\n",
              "    <tr>\n",
              "      <th>116</th>\n",
              "      <td>158.219</td>\n",
              "      <td>442.557</td>\n",
              "      <td>71.948</td>\n",
              "      <td>0.00476</td>\n",
              "      <td>0.00003</td>\n",
              "      <td>0.00214</td>\n",
              "      <td>0.00207</td>\n",
              "      <td>0.00642</td>\n",
              "      <td>0.01458</td>\n",
              "      <td>0.148</td>\n",
              "      <td>0.00606</td>\n",
              "      <td>0.00747</td>\n",
              "      <td>0.01312</td>\n",
              "      <td>0.01818</td>\n",
              "      <td>0.01554</td>\n",
              "      <td>26.356</td>\n",
              "      <td>0.450798</td>\n",
              "      <td>0.653823</td>\n",
              "      <td>-6.051233</td>\n",
              "      <td>0.273280</td>\n",
              "      <td>2.640798</td>\n",
              "      <td>0.170106</td>\n",
              "      <td>116.0</td>\n",
              "      <td>1</td>\n",
              "      <td>1</td>\n",
              "    </tr>\n",
              "  </tbody>\n",
              "</table>\n",
              "</div>"
            ],
            "text/plain": [
              "     MDVP:Fo(Hz)  MDVP:Fhi(Hz)  MDVP:Flo(Hz)  ...  name_as_number  y_pred  y_train\n",
              "24       163.656       200.841        76.779  ...            24.0       1        1\n",
              "111      208.519       220.315       199.020  ...           111.0       0        1\n",
              "135      110.453       127.611       105.554  ...           135.0       1        1\n",
              "168      197.569       217.627        90.794  ...           168.0       1        0\n",
              "158      126.144       154.284        97.543  ...           158.0       1        1\n",
              "116      158.219       442.557        71.948  ...           116.0       1        1\n",
              "\n",
              "[6 rows x 25 columns]"
            ]
          },
          "metadata": {
            "tags": []
          },
          "execution_count": 684
        }
      ]
    },
    {
      "cell_type": "code",
      "metadata": {
        "colab": {
          "base_uri": "https://localhost:8080/"
        },
        "id": "xCLpX4cuNr4F",
        "outputId": "26299b54-cd04-4cc1-ab70-50b533bbee18"
      },
      "source": [
        "preds_2_bal= dt_model_bal.predict_proba(X_test)[:,1]\n",
        "\n",
        "roc_auc_score(y_test,preds_2_bal)"
      ],
      "execution_count": 685,
      "outputs": [
        {
          "output_type": "execute_result",
          "data": {
            "text/plain": [
              "0.7965517241379311"
            ]
          },
          "metadata": {
            "tags": []
          },
          "execution_count": 685
        }
      ]
    },
    {
      "cell_type": "code",
      "metadata": {
        "colab": {
          "base_uri": "https://localhost:8080/",
          "height": 299
        },
        "id": "p2yVmhccOj-B",
        "outputId": "81990ee0-16dd-4907-aab1-1aa78910ee4f"
      },
      "source": [
        "cm = confusion_matrix(y_true = y_test ,y_pred=X_test_pred_bal.y_pred)\n",
        "DT2_model_cm = pd.DataFrame(cm, index= dt_model_bal.classes_, columns=dt_model_bal.classes_)\n",
        "hmap = sns.heatmap(DT2_model_cm, annot=True, fmt=\"d\")\n",
        "hmap.yaxis.set_ticklabels(hmap.yaxis.get_ticklabels(), rotation=0, ha='right')\n",
        "hmap.xaxis.set_ticklabels(hmap.xaxis.get_ticklabels(), rotation=30, ha='right')\n",
        "plt.ylabel('True label')\n",
        "plt.xlabel('Predicted label')"
      ],
      "execution_count": 686,
      "outputs": [
        {
          "output_type": "execute_result",
          "data": {
            "text/plain": [
              "Text(0.5, 15.0, 'Predicted label')"
            ]
          },
          "metadata": {
            "tags": []
          },
          "execution_count": 686
        },
        {
          "output_type": "display_data",
          "data": {
            "image/png": "[encoded data removed]",
            "text/plain": [
              "<Figure size 432x288 with 2 Axes>"
            ]
          },
          "metadata": {
            "tags": [],
            "needs_background": "light"
          }
        }
      ]
    },
    {
      "cell_type": "code",
      "metadata": {
        "colab": {
          "base_uri": "https://localhost:8080/"
        },
        "id": "agNQKaiUPyIE",
        "outputId": "47306596-62b1-4ead-f4e4-b782c6d13431"
      },
      "source": [
        "print(classification_report(y_true=y_test,\n",
        "                            y_pred=X_test_pred_bal.y_pred))"
      ],
      "execution_count": 687,
      "outputs": [
        {
          "output_type": "stream",
          "text": [
            "              precision    recall  f1-score   support\n",
            "\n",
            "           0       0.55      0.60      0.57        10\n",
            "           1       0.86      0.83      0.84        29\n",
            "\n",
            "    accuracy                           0.77        39\n",
            "   macro avg       0.70      0.71      0.71        39\n",
            "weighted avg       0.78      0.77      0.77        39\n",
            "\n"
          ],
          "name": "stdout"
        }
      ]
    },
    {
      "cell_type": "code",
      "metadata": {
        "colab": {
          "base_uri": "https://localhost:8080/"
        },
        "id": "uWJ5P2tMP3TB",
        "outputId": "33c96b3d-f919-4322-ef56-a8969fa339c9"
      },
      "source": [
        "-cross_val_score(dt_model_bal, X_train, y_train, cv=my_cv, scoring='neg_log_loss')"
      ],
      "execution_count": 688,
      "outputs": [
        {
          "output_type": "execute_result",
          "data": {
            "text/plain": [
              "array([0.5315939 , 0.67520422, 0.44880301, 0.67819815, 0.31249795,\n",
              "       0.45756732, 3.08413216, 0.57288376, 0.67520422, 1.22038108,\n",
              "       0.73590194, 3.0047982 , 1.11544969, 0.52605795, 0.47821439,\n",
              "       0.44040382, 0.57747278, 0.42264618, 3.05147605, 0.5968513 ,\n",
              "       1.29695464, 0.70269207, 0.70851353, 0.34240268, 0.60167861,\n",
              "       1.26694398])"
            ]
          },
          "metadata": {
            "tags": []
          },
          "execution_count": 688
        }
      ]
    },
    {
      "cell_type": "code",
      "metadata": {
        "colab": {
          "base_uri": "https://localhost:8080/"
        },
        "id": "dH4d5mGAP6tu",
        "outputId": "62d1563c-0ecf-4133-ace8-78327a20f4f5"
      },
      "source": [
        "dt_model_bal.get_params()"
      ],
      "execution_count": 689,
      "outputs": [
        {
          "output_type": "execute_result",
          "data": {
            "text/plain": [
              "{'ccp_alpha': 0.0,\n",
              " 'class_weight': 'balanced',\n",
              " 'criterion': 'gini',\n",
              " 'max_depth': None,\n",
              " 'max_features': None,\n",
              " 'max_leaf_nodes': None,\n",
              " 'min_impurity_decrease': 0.0,\n",
              " 'min_impurity_split': None,\n",
              " 'min_samples_leaf': 40,\n",
              " 'min_samples_split': 2,\n",
              " 'min_weight_fraction_leaf': 0.01,\n",
              " 'presort': 'deprecated',\n",
              " 'random_state': None,\n",
              " 'splitter': 'best'}"
            ]
          },
          "metadata": {
            "tags": []
          },
          "execution_count": 689
        }
      ]
    },
    {
      "cell_type": "code",
      "metadata": {
        "id": "UAPcndxoQkWl"
      },
      "source": [
        "my_param_grid = {'min_samples_leaf': [20, 40, 60],\n",
        "                 'min_weight_fraction_leaf': [0.01, 0.02, 0.05],\n",
        "                 'criterion': ['gini', 'entropy'], \n",
        "                 'min_impurity_decrease': [1e-5, 1e-6, 1e-7]}"
      ],
      "execution_count": 690,
      "outputs": []
    },
    {
      "cell_type": "code",
      "metadata": {
        "id": "NPKtKW7jQp0X"
      },
      "source": [
        "dt_model_bal_gs = GridSearchCV(estimator=dt_model_bal,\\\n",
        "                           param_grid=my_param_grid, cv=my_cv, scoring='neg_log_loss')"
      ],
      "execution_count": 691,
      "outputs": []
    },
    {
      "cell_type": "code",
      "metadata": {
        "colab": {
          "base_uri": "https://localhost:8080/"
        },
        "id": "YAEWHSIeRFmQ",
        "outputId": "95725ee8-2468-44f9-91e1-91949ce91344"
      },
      "source": [
        "dt_model_bal_gs.fit(X_train, y_train)"
      ],
      "execution_count": 692,
      "outputs": [
        {
          "output_type": "execute_result",
          "data": {
            "text/plain": [
              "GridSearchCV(cv=StratifiedShuffleSplit(n_splits=26, random_state=990, test_size=None,\n",
              "            train_size=0.75),\n",
              "             error_score=nan,\n",
              "             estimator=DecisionTreeClassifier(ccp_alpha=0.0,\n",
              "                                              class_weight='balanced',\n",
              "                                              criterion='gini', max_depth=None,\n",
              "                                              max_features=None,\n",
              "                                              max_leaf_nodes=None,\n",
              "                                              min_impurity_decrease=0.0,\n",
              "                                              min_impurity_split=None,\n",
              "                                              min_samples_leaf=40,\n",
              "                                              min_samples_split=2,\n",
              "                                              min...leaf=0.01,\n",
              "                                              presort='deprecated',\n",
              "                                              random_state=None,\n",
              "                                              splitter='best'),\n",
              "             iid='deprecated', n_jobs=None,\n",
              "             param_grid={'criterion': ['gini', 'entropy'],\n",
              "                         'min_impurity_decrease': [1e-05, 1e-06, 1e-07],\n",
              "                         'min_samples_leaf': [20, 40, 60],\n",
              "                         'min_weight_fraction_leaf': [0.01, 0.02, 0.05]},\n",
              "             pre_dispatch='2*n_jobs', refit=True, return_train_score=False,\n",
              "             scoring='neg_log_loss', verbose=0)"
            ]
          },
          "metadata": {
            "tags": []
          },
          "execution_count": 692
        }
      ]
    },
    {
      "cell_type": "code",
      "metadata": {
        "colab": {
          "base_uri": "https://localhost:8080/"
        },
        "id": "tL9P0AOZR7rY",
        "outputId": "46f4e63f-febd-4929-9c06-f4de2d8e20d0"
      },
      "source": [
        "print(\"Best parameters:\", dt_model_bal_gs.best_params_)"
      ],
      "execution_count": 693,
      "outputs": [
        {
          "output_type": "stream",
          "text": [
            "Best parameters: {'criterion': 'gini', 'min_impurity_decrease': 1e-05, 'min_samples_leaf': 60, 'min_weight_fraction_leaf': 0.01}\n"
          ],
          "name": "stdout"
        }
      ]
    },
    {
      "cell_type": "code",
      "metadata": {
        "id": "AvHWLjQdSAOU"
      },
      "source": [
        "dt_model_bal_gs_best = dt_model_bal_gs.best_estimator_"
      ],
      "execution_count": 694,
      "outputs": []
    },
    {
      "cell_type": "code",
      "metadata": {
        "id": "YBLIbZ6BSPvI"
      },
      "source": [
        "y_test_pred_bal = pd.DataFrame(dt_model_bal_gs_best.predict_proba(X_test),\\\n",
        "                              columns=dt_model_bal_gs_best.classes_)"
      ],
      "execution_count": 695,
      "outputs": []
    },
    {
      "cell_type": "code",
      "metadata": {
        "colab": {
          "base_uri": "https://localhost:8080/"
        },
        "id": "6X1GC3IKSXMM",
        "outputId": "6cb6c082-d5cb-408a-f347-b2c889cd0911"
      },
      "source": [
        "log_loss(y_true=y_test, y_pred=y_test_pred_bal)"
      ],
      "execution_count": 696,
      "outputs": [
        {
          "output_type": "execute_result",
          "data": {
            "text/plain": [
              "0.6370418292278828"
            ]
          },
          "metadata": {
            "tags": []
          },
          "execution_count": 696
        }
      ]
    },
    {
      "cell_type": "markdown",
      "metadata": {
        "id": "vdYPIvWWShZh"
      },
      "source": [
        "## XGBoost"
      ]
    },
    {
      "cell_type": "code",
      "metadata": {
        "id": "Y3AwFgT2Skdv"
      },
      "source": [
        "numSplits_XGB = 4\n",
        "paramGrid_XGB = {'learning_rate': [ 0.15, 0.2, 0.25], \\\n",
        "             'n_estimators': [10, 50, 100], 'max_depth': [5,10,15]}"
      ],
      "execution_count": 697,
      "outputs": []
    },
    {
      "cell_type": "code",
      "metadata": {
        "colab": {
          "base_uri": "https://localhost:8080/"
        },
        "id": "7_TVqfDqSn_3",
        "outputId": "41539719-509f-446e-91dd-a8433d0e21bc"
      },
      "source": [
        "gsModel_XGB = GridSearchCV(estimator = xgb.XGBClassifier(scale_pos_weight=(48/147),\\\n",
        "      verbosity = 0, random_state = randState), param_grid = paramGrid_XGB, \\\n",
        "    scoring = 'precision', cv = numSplits_XGB) \n",
        "\n",
        "t1 = time()\n",
        "gsModel_XGB.fit(X_train, y_train)\n",
        "t2 = time()\n",
        "print(f\"XGBoost took {t2-t1:.2f} seconds\")"
      ],
      "execution_count": 698,
      "outputs": [
        {
          "output_type": "stream",
          "text": [
            "XGBoost took 2.02 seconds\n"
          ],
          "name": "stdout"
        }
      ]
    },
    {
      "cell_type": "code",
      "metadata": {
        "colab": {
          "base_uri": "https://localhost:8080/"
        },
        "id": "fklBWi7lTW1g",
        "outputId": "a648f088-b933-46cb-d43b-54a52339e1a4"
      },
      "source": [
        "print(\"{:3} classifier:\\n \\\n",
        "    \\ttrain accuracy: {:.2f}\\n \\\n",
        "    \\ttest accuracy: {:.2f}\"\\\n",
        "    .format('DT Gradient Boosting (XGBoost)', \n",
        "            accuracy_score(gsModel_XGB.predict(X_train), y_train), \n",
        "            accuracy_score(gsModel_XGB.predict(X_test), y_test)))"
      ],
      "execution_count": 699,
      "outputs": [
        {
          "output_type": "stream",
          "text": [
            "DT Gradient Boosting (XGBoost) classifier:\n",
            "     \ttrain accuracy: 1.00\n",
            "     \ttest accuracy: 0.97\n"
          ],
          "name": "stdout"
        }
      ]
    },
    {
      "cell_type": "code",
      "metadata": {
        "colab": {
          "base_uri": "https://localhost:8080/",
          "height": 255
        },
        "id": "D0POdtQnTcRF",
        "outputId": "1d2c81eb-fb13-4c62-a3dd-5963db997684"
      },
      "source": [
        "X_test_pred_XGB = X_test.copy()\n",
        "\n",
        "X_test_pred_XGB['y_pred'] = gsModel_XGB.predict(X_test)\n",
        "X_test_pred_XGB['y_train'] = y_test\n",
        "X_test_pred_XGB.sample(6)"
      ],
      "execution_count": 700,
      "outputs": [
        {
          "output_type": "execute_result",
          "data": {
            "text/html": [
              "<div>\n",
              "<style scoped>\n",
              "    .dataframe tbody tr th:only-of-type {\n",
              "        vertical-align: middle;\n",
              "    }\n",
              "\n",
              "    .dataframe tbody tr th {\n",
              "        vertical-align: top;\n",
              "    }\n",
              "\n",
              "    .dataframe thead th {\n",
              "        text-align: right;\n",
              "    }\n",
              "</style>\n",
              "<table border=\"1\" class=\"dataframe\">\n",
              "  <thead>\n",
              "    <tr style=\"text-align: right;\">\n",
              "      <th></th>\n",
              "      <th>MDVP:Fo(Hz)</th>\n",
              "      <th>MDVP:Fhi(Hz)</th>\n",
              "      <th>MDVP:Flo(Hz)</th>\n",
              "      <th>MDVP:Jitter(%)</th>\n",
              "      <th>MDVP:Jitter(Abs)</th>\n",
              "      <th>MDVP:RAP</th>\n",
              "      <th>MDVP:PPQ</th>\n",
              "      <th>Jitter:DDP</th>\n",
              "      <th>MDVP:Shimmer</th>\n",
              "      <th>MDVP:Shimmer(dB)</th>\n",
              "      <th>Shimmer:APQ3</th>\n",
              "      <th>Shimmer:APQ5</th>\n",
              "      <th>MDVP:APQ</th>\n",
              "      <th>Shimmer:DDA</th>\n",
              "      <th>NHR</th>\n",
              "      <th>HNR</th>\n",
              "      <th>RPDE</th>\n",
              "      <th>DFA</th>\n",
              "      <th>spread1</th>\n",
              "      <th>spread2</th>\n",
              "      <th>D2</th>\n",
              "      <th>PPE</th>\n",
              "      <th>name_as_number</th>\n",
              "      <th>y_pred</th>\n",
              "      <th>y_train</th>\n",
              "    </tr>\n",
              "  </thead>\n",
              "  <tbody>\n",
              "    <tr>\n",
              "      <th>173</th>\n",
              "      <td>113.715</td>\n",
              "      <td>116.443</td>\n",
              "      <td>96.913</td>\n",
              "      <td>0.00349</td>\n",
              "      <td>0.00003</td>\n",
              "      <td>0.00171</td>\n",
              "      <td>0.00203</td>\n",
              "      <td>0.00514</td>\n",
              "      <td>0.01472</td>\n",
              "      <td>0.133</td>\n",
              "      <td>0.00748</td>\n",
              "      <td>0.00905</td>\n",
              "      <td>0.01148</td>\n",
              "      <td>0.02245</td>\n",
              "      <td>0.00478</td>\n",
              "      <td>26.547</td>\n",
              "      <td>0.380253</td>\n",
              "      <td>0.766700</td>\n",
              "      <td>-5.943501</td>\n",
              "      <td>0.192150</td>\n",
              "      <td>1.852542</td>\n",
              "      <td>0.179677</td>\n",
              "      <td>173.0</td>\n",
              "      <td>0</td>\n",
              "      <td>0</td>\n",
              "    </tr>\n",
              "    <tr>\n",
              "      <th>145</th>\n",
              "      <td>223.361</td>\n",
              "      <td>263.872</td>\n",
              "      <td>87.638</td>\n",
              "      <td>0.00352</td>\n",
              "      <td>0.00002</td>\n",
              "      <td>0.00169</td>\n",
              "      <td>0.00188</td>\n",
              "      <td>0.00506</td>\n",
              "      <td>0.02536</td>\n",
              "      <td>0.225</td>\n",
              "      <td>0.01379</td>\n",
              "      <td>0.01478</td>\n",
              "      <td>0.01909</td>\n",
              "      <td>0.04137</td>\n",
              "      <td>0.01493</td>\n",
              "      <td>20.366</td>\n",
              "      <td>0.566849</td>\n",
              "      <td>0.574282</td>\n",
              "      <td>-5.456811</td>\n",
              "      <td>0.345238</td>\n",
              "      <td>2.840556</td>\n",
              "      <td>0.232861</td>\n",
              "      <td>145.0</td>\n",
              "      <td>1</td>\n",
              "      <td>1</td>\n",
              "    </tr>\n",
              "    <tr>\n",
              "      <th>122</th>\n",
              "      <td>138.190</td>\n",
              "      <td>203.522</td>\n",
              "      <td>83.340</td>\n",
              "      <td>0.00704</td>\n",
              "      <td>0.00005</td>\n",
              "      <td>0.00406</td>\n",
              "      <td>0.00398</td>\n",
              "      <td>0.01218</td>\n",
              "      <td>0.04479</td>\n",
              "      <td>0.441</td>\n",
              "      <td>0.02587</td>\n",
              "      <td>0.02567</td>\n",
              "      <td>0.03220</td>\n",
              "      <td>0.07761</td>\n",
              "      <td>0.01968</td>\n",
              "      <td>18.305</td>\n",
              "      <td>0.538016</td>\n",
              "      <td>0.741480</td>\n",
              "      <td>-5.418787</td>\n",
              "      <td>0.160267</td>\n",
              "      <td>2.090438</td>\n",
              "      <td>0.229892</td>\n",
              "      <td>122.0</td>\n",
              "      <td>1</td>\n",
              "      <td>1</td>\n",
              "    </tr>\n",
              "    <tr>\n",
              "      <th>86</th>\n",
              "      <td>178.222</td>\n",
              "      <td>202.450</td>\n",
              "      <td>141.047</td>\n",
              "      <td>0.00321</td>\n",
              "      <td>0.00002</td>\n",
              "      <td>0.00163</td>\n",
              "      <td>0.00194</td>\n",
              "      <td>0.00488</td>\n",
              "      <td>0.03759</td>\n",
              "      <td>0.327</td>\n",
              "      <td>0.02073</td>\n",
              "      <td>0.02415</td>\n",
              "      <td>0.02784</td>\n",
              "      <td>0.06219</td>\n",
              "      <td>0.03151</td>\n",
              "      <td>15.924</td>\n",
              "      <td>0.598714</td>\n",
              "      <td>0.712199</td>\n",
              "      <td>-6.366916</td>\n",
              "      <td>0.335753</td>\n",
              "      <td>2.654271</td>\n",
              "      <td>0.144614</td>\n",
              "      <td>86.0</td>\n",
              "      <td>1</td>\n",
              "      <td>1</td>\n",
              "    </tr>\n",
              "    <tr>\n",
              "      <th>165</th>\n",
              "      <td>236.200</td>\n",
              "      <td>244.663</td>\n",
              "      <td>102.137</td>\n",
              "      <td>0.00277</td>\n",
              "      <td>0.00001</td>\n",
              "      <td>0.00154</td>\n",
              "      <td>0.00153</td>\n",
              "      <td>0.00462</td>\n",
              "      <td>0.02448</td>\n",
              "      <td>0.217</td>\n",
              "      <td>0.01410</td>\n",
              "      <td>0.01426</td>\n",
              "      <td>0.01621</td>\n",
              "      <td>0.04231</td>\n",
              "      <td>0.00620</td>\n",
              "      <td>24.078</td>\n",
              "      <td>0.469928</td>\n",
              "      <td>0.628232</td>\n",
              "      <td>-6.816086</td>\n",
              "      <td>0.172270</td>\n",
              "      <td>2.235197</td>\n",
              "      <td>0.119652</td>\n",
              "      <td>165.0</td>\n",
              "      <td>0</td>\n",
              "      <td>0</td>\n",
              "    </tr>\n",
              "    <tr>\n",
              "      <th>190</th>\n",
              "      <td>174.188</td>\n",
              "      <td>230.978</td>\n",
              "      <td>94.261</td>\n",
              "      <td>0.00459</td>\n",
              "      <td>0.00003</td>\n",
              "      <td>0.00263</td>\n",
              "      <td>0.00259</td>\n",
              "      <td>0.00790</td>\n",
              "      <td>0.04087</td>\n",
              "      <td>0.405</td>\n",
              "      <td>0.02336</td>\n",
              "      <td>0.02498</td>\n",
              "      <td>0.02745</td>\n",
              "      <td>0.07008</td>\n",
              "      <td>0.02764</td>\n",
              "      <td>19.517</td>\n",
              "      <td>0.448439</td>\n",
              "      <td>0.657899</td>\n",
              "      <td>-6.538586</td>\n",
              "      <td>0.121952</td>\n",
              "      <td>2.657476</td>\n",
              "      <td>0.133050</td>\n",
              "      <td>190.0</td>\n",
              "      <td>0</td>\n",
              "      <td>0</td>\n",
              "    </tr>\n",
              "  </tbody>\n",
              "</table>\n",
              "</div>"
            ],
            "text/plain": [
              "     MDVP:Fo(Hz)  MDVP:Fhi(Hz)  MDVP:Flo(Hz)  ...  name_as_number  y_pred  y_train\n",
              "173      113.715       116.443        96.913  ...           173.0       0        0\n",
              "145      223.361       263.872        87.638  ...           145.0       1        1\n",
              "122      138.190       203.522        83.340  ...           122.0       1        1\n",
              "86       178.222       202.450       141.047  ...            86.0       1        1\n",
              "165      236.200       244.663       102.137  ...           165.0       0        0\n",
              "190      174.188       230.978        94.261  ...           190.0       0        0\n",
              "\n",
              "[6 rows x 25 columns]"
            ]
          },
          "metadata": {
            "tags": []
          },
          "execution_count": 700
        }
      ]
    },
    {
      "cell_type": "code",
      "metadata": {
        "colab": {
          "base_uri": "https://localhost:8080/"
        },
        "id": "uCkD0iPsTfR3",
        "outputId": "fc883240-5889-4a65-e2c3-217d93760732"
      },
      "source": [
        "preds_XGB= gsModel_XGB.predict_proba(X_test)[:,1]\n",
        "\n",
        "roc_auc_score(y_test,preds_XGB)"
      ],
      "execution_count": 701,
      "outputs": [
        {
          "output_type": "execute_result",
          "data": {
            "text/plain": [
              "1.0"
            ]
          },
          "metadata": {
            "tags": []
          },
          "execution_count": 701
        }
      ]
    },
    {
      "cell_type": "code",
      "metadata": {
        "colab": {
          "base_uri": "https://localhost:8080/",
          "height": 299
        },
        "id": "DOME4JJATjtB",
        "outputId": "353512f0-0fc5-4e3f-ed90-dd02130a3b84"
      },
      "source": [
        "cm = confusion_matrix(y_true = y_test ,y_pred=X_test_pred_XGB.y_pred)\n",
        "XGB_cm = pd.DataFrame(cm, index=gsModel_XGB.classes_, columns=gsModel_XGB.classes_)\n",
        "hmap = sns.heatmap(XGB_cm, annot=True, fmt=\"d\")\n",
        "hmap.yaxis.set_ticklabels(hmap.yaxis.get_ticklabels(), rotation=0, ha='right')\n",
        "hmap.xaxis.set_ticklabels(hmap.xaxis.get_ticklabels(), rotation=30, ha='right')\n",
        "plt.ylabel('True label')\n",
        "plt.xlabel('Predicted label')"
      ],
      "execution_count": 702,
      "outputs": [
        {
          "output_type": "execute_result",
          "data": {
            "text/plain": [
              "Text(0.5, 15.0, 'Predicted label')"
            ]
          },
          "metadata": {
            "tags": []
          },
          "execution_count": 702
        },
        {
          "output_type": "display_data",
          "data": {
            "image/png": "[encoded data removed]",
            "text/plain": [
              "<Figure size 432x288 with 2 Axes>"
            ]
          },
          "metadata": {
            "tags": [],
            "needs_background": "light"
          }
        }
      ]
    },
    {
      "cell_type": "code",
      "metadata": {
        "colab": {
          "base_uri": "https://localhost:8080/"
        },
        "id": "CV0KDGmPTlK5",
        "outputId": "f984f8c7-e7f8-4d60-d3f4-b799c9f5735b"
      },
      "source": [
        "print(classification_report(y_true=y_test,\n",
        "                            y_pred=X_test_pred_XGB.y_pred))"
      ],
      "execution_count": 703,
      "outputs": [
        {
          "output_type": "stream",
          "text": [
            "              precision    recall  f1-score   support\n",
            "\n",
            "           0       0.91      1.00      0.95        10\n",
            "           1       1.00      0.97      0.98        29\n",
            "\n",
            "    accuracy                           0.97        39\n",
            "   macro avg       0.95      0.98      0.97        39\n",
            "weighted avg       0.98      0.97      0.97        39\n",
            "\n"
          ],
          "name": "stdout"
        }
      ]
    },
    {
      "cell_type": "code",
      "metadata": {
        "colab": {
          "base_uri": "https://localhost:8080/"
        },
        "id": "llcxvViVTni1",
        "outputId": "c7289448-89d7-4f59-8017-98dc6c950259"
      },
      "source": [
        "gsModel_XGB.best_params_"
      ],
      "execution_count": 704,
      "outputs": [
        {
          "output_type": "execute_result",
          "data": {
            "text/plain": [
              "{'learning_rate': 0.15, 'max_depth': 5, 'n_estimators': 50}"
            ]
          },
          "metadata": {
            "tags": []
          },
          "execution_count": 704
        }
      ]
    },
    {
      "cell_type": "markdown",
      "metadata": {
        "id": "7AgIkMA9Tvrs"
      },
      "source": [
        "# Model 3 Random Forest"
      ]
    },
    {
      "cell_type": "code",
      "metadata": {
        "colab": {
          "base_uri": "https://localhost:8080/"
        },
        "id": "8MIXLcBYAvGJ",
        "outputId": "8ae9a19e-ca1f-450e-8d26-faacaf8bde3c"
      },
      "source": [
        "rf_model_1 = RandomForestClassifier(class_weight = 'balanced')\n",
        "\n",
        "rf_model_1.fit(X_train,y_train)\n",
        "preds= rf_model_1.predict_proba(X_test)[:,1]\n",
        "\n",
        "roc_auc_score(y_test,preds)"
      ],
      "execution_count": 705,
      "outputs": [
        {
          "output_type": "execute_result",
          "data": {
            "text/plain": [
              "0.9517241379310345"
            ]
          },
          "metadata": {
            "tags": []
          },
          "execution_count": 705
        }
      ]
    },
    {
      "cell_type": "code",
      "metadata": {
        "colab": {
          "base_uri": "https://localhost:8080/"
        },
        "id": "BuJZNDbfT0b-",
        "outputId": "dbac6b17-a014-40e9-9657-4be927231cd3"
      },
      "source": [
        "pd.Series(rf_model_1.feature_importances_, index=X_train.columns).\\\n",
        "sort_values(ascending=False)"
      ],
      "execution_count": 706,
      "outputs": [
        {
          "output_type": "execute_result",
          "data": {
            "text/plain": [
              "spread1             0.119579\n",
              "PPE                 0.103208\n",
              "MDVP:Fo(Hz)         0.082768\n",
              "name_as_number      0.073627\n",
              "Shimmer:APQ5        0.063918\n",
              "MDVP:APQ            0.062771\n",
              "MDVP:Shimmer        0.061472\n",
              "MDVP:PPQ            0.045108\n",
              "spread2             0.041120\n",
              "Shimmer:APQ3        0.038069\n",
              "D2                  0.035362\n",
              "MDVP:RAP            0.035229\n",
              "Jitter:DDP          0.033463\n",
              "Shimmer:DDA         0.029668\n",
              "MDVP:Fhi(Hz)        0.026127\n",
              "MDVP:Jitter(Abs)    0.024286\n",
              "MDVP:Flo(Hz)        0.022395\n",
              "NHR                 0.021844\n",
              "MDVP:Jitter(%)      0.019338\n",
              "DFA                 0.019079\n",
              "MDVP:Shimmer(dB)    0.017244\n",
              "HNR                 0.014862\n",
              "RPDE                0.009464\n",
              "dtype: float64"
            ]
          },
          "metadata": {
            "tags": []
          },
          "execution_count": 706
        }
      ]
    },
    {
      "cell_type": "code",
      "metadata": {
        "colab": {
          "base_uri": "https://localhost:8080/",
          "height": 204
        },
        "id": "Bb2HeQ7TT5Xe",
        "outputId": "11e004f8-443a-4056-99d6-72c07692a5e6"
      },
      "source": [
        "y_train_pred = pd.DataFrame(rf_model_1.predict_proba(X_train), \n",
        "                            columns=rf_model_1.classes_)\n",
        "y_train_pred.head()"
      ],
      "execution_count": 707,
      "outputs": [
        {
          "output_type": "execute_result",
          "data": {
            "text/html": [
              "<div>\n",
              "<style scoped>\n",
              "    .dataframe tbody tr th:only-of-type {\n",
              "        vertical-align: middle;\n",
              "    }\n",
              "\n",
              "    .dataframe tbody tr th {\n",
              "        vertical-align: top;\n",
              "    }\n",
              "\n",
              "    .dataframe thead th {\n",
              "        text-align: right;\n",
              "    }\n",
              "</style>\n",
              "<table border=\"1\" class=\"dataframe\">\n",
              "  <thead>\n",
              "    <tr style=\"text-align: right;\">\n",
              "      <th></th>\n",
              "      <th>0</th>\n",
              "      <th>1</th>\n",
              "    </tr>\n",
              "  </thead>\n",
              "  <tbody>\n",
              "    <tr>\n",
              "      <th>0</th>\n",
              "      <td>0.01</td>\n",
              "      <td>0.99</td>\n",
              "    </tr>\n",
              "    <tr>\n",
              "      <th>1</th>\n",
              "      <td>0.00</td>\n",
              "      <td>1.00</td>\n",
              "    </tr>\n",
              "    <tr>\n",
              "      <th>2</th>\n",
              "      <td>0.00</td>\n",
              "      <td>1.00</td>\n",
              "    </tr>\n",
              "    <tr>\n",
              "      <th>3</th>\n",
              "      <td>0.00</td>\n",
              "      <td>1.00</td>\n",
              "    </tr>\n",
              "    <tr>\n",
              "      <th>4</th>\n",
              "      <td>0.92</td>\n",
              "      <td>0.08</td>\n",
              "    </tr>\n",
              "  </tbody>\n",
              "</table>\n",
              "</div>"
            ],
            "text/plain": [
              "      0     1\n",
              "0  0.01  0.99\n",
              "1  0.00  1.00\n",
              "2  0.00  1.00\n",
              "3  0.00  1.00\n",
              "4  0.92  0.08"
            ]
          },
          "metadata": {
            "tags": []
          },
          "execution_count": 707
        }
      ]
    },
    {
      "cell_type": "markdown",
      "metadata": {
        "id": "px8tLve3UAGd"
      },
      "source": [
        "### Evaluate the model"
      ]
    },
    {
      "cell_type": "code",
      "metadata": {
        "colab": {
          "base_uri": "https://localhost:8080/",
          "height": 255
        },
        "id": "-I9aWLIpT71A",
        "outputId": "b40eb550-013c-4a91-de1f-76d91b314f69"
      },
      "source": [
        "X_test_pred_rf = X_test.copy()\n",
        "\n",
        "X_test_pred_rf['y_pred'] = rf_model_1.predict(X_test)\n",
        "X_test_pred_rf['y_train'] = y_test\n",
        "X_test_pred_rf.sample(6)"
      ],
      "execution_count": 708,
      "outputs": [
        {
          "output_type": "execute_result",
          "data": {
            "text/html": [
              "<div>\n",
              "<style scoped>\n",
              "    .dataframe tbody tr th:only-of-type {\n",
              "        vertical-align: middle;\n",
              "    }\n",
              "\n",
              "    .dataframe tbody tr th {\n",
              "        vertical-align: top;\n",
              "    }\n",
              "\n",
              "    .dataframe thead th {\n",
              "        text-align: right;\n",
              "    }\n",
              "</style>\n",
              "<table border=\"1\" class=\"dataframe\">\n",
              "  <thead>\n",
              "    <tr style=\"text-align: right;\">\n",
              "      <th></th>\n",
              "      <th>MDVP:Fo(Hz)</th>\n",
              "      <th>MDVP:Fhi(Hz)</th>\n",
              "      <th>MDVP:Flo(Hz)</th>\n",
              "      <th>MDVP:Jitter(%)</th>\n",
              "      <th>MDVP:Jitter(Abs)</th>\n",
              "      <th>MDVP:RAP</th>\n",
              "      <th>MDVP:PPQ</th>\n",
              "      <th>Jitter:DDP</th>\n",
              "      <th>MDVP:Shimmer</th>\n",
              "      <th>MDVP:Shimmer(dB)</th>\n",
              "      <th>Shimmer:APQ3</th>\n",
              "      <th>Shimmer:APQ5</th>\n",
              "      <th>MDVP:APQ</th>\n",
              "      <th>Shimmer:DDA</th>\n",
              "      <th>NHR</th>\n",
              "      <th>HNR</th>\n",
              "      <th>RPDE</th>\n",
              "      <th>DFA</th>\n",
              "      <th>spread1</th>\n",
              "      <th>spread2</th>\n",
              "      <th>D2</th>\n",
              "      <th>PPE</th>\n",
              "      <th>name_as_number</th>\n",
              "      <th>y_pred</th>\n",
              "      <th>y_train</th>\n",
              "    </tr>\n",
              "  </thead>\n",
              "  <tbody>\n",
              "    <tr>\n",
              "      <th>126</th>\n",
              "      <td>138.145</td>\n",
              "      <td>197.238</td>\n",
              "      <td>81.114</td>\n",
              "      <td>0.00544</td>\n",
              "      <td>0.00004</td>\n",
              "      <td>0.00294</td>\n",
              "      <td>0.00327</td>\n",
              "      <td>0.00883</td>\n",
              "      <td>0.02791</td>\n",
              "      <td>0.246</td>\n",
              "      <td>0.01484</td>\n",
              "      <td>0.01805</td>\n",
              "      <td>0.02259</td>\n",
              "      <td>0.04451</td>\n",
              "      <td>0.01794</td>\n",
              "      <td>18.178</td>\n",
              "      <td>0.623209</td>\n",
              "      <td>0.738245</td>\n",
              "      <td>-5.540351</td>\n",
              "      <td>0.087165</td>\n",
              "      <td>1.821297</td>\n",
              "      <td>0.214075</td>\n",
              "      <td>126.0</td>\n",
              "      <td>1</td>\n",
              "      <td>1</td>\n",
              "    </tr>\n",
              "    <tr>\n",
              "      <th>135</th>\n",
              "      <td>110.453</td>\n",
              "      <td>127.611</td>\n",
              "      <td>105.554</td>\n",
              "      <td>0.00494</td>\n",
              "      <td>0.00004</td>\n",
              "      <td>0.00244</td>\n",
              "      <td>0.00315</td>\n",
              "      <td>0.00731</td>\n",
              "      <td>0.04128</td>\n",
              "      <td>0.379</td>\n",
              "      <td>0.02229</td>\n",
              "      <td>0.02592</td>\n",
              "      <td>0.03316</td>\n",
              "      <td>0.06688</td>\n",
              "      <td>0.02529</td>\n",
              "      <td>17.707</td>\n",
              "      <td>0.653427</td>\n",
              "      <td>0.706687</td>\n",
              "      <td>-5.333619</td>\n",
              "      <td>0.322044</td>\n",
              "      <td>2.631793</td>\n",
              "      <td>0.228319</td>\n",
              "      <td>135.0</td>\n",
              "      <td>1</td>\n",
              "      <td>1</td>\n",
              "    </tr>\n",
              "    <tr>\n",
              "      <th>24</th>\n",
              "      <td>163.656</td>\n",
              "      <td>200.841</td>\n",
              "      <td>76.779</td>\n",
              "      <td>0.00742</td>\n",
              "      <td>0.00005</td>\n",
              "      <td>0.00380</td>\n",
              "      <td>0.00390</td>\n",
              "      <td>0.01140</td>\n",
              "      <td>0.01659</td>\n",
              "      <td>0.164</td>\n",
              "      <td>0.00738</td>\n",
              "      <td>0.00948</td>\n",
              "      <td>0.01497</td>\n",
              "      <td>0.02214</td>\n",
              "      <td>0.01778</td>\n",
              "      <td>23.831</td>\n",
              "      <td>0.397937</td>\n",
              "      <td>0.732479</td>\n",
              "      <td>-5.557447</td>\n",
              "      <td>0.220890</td>\n",
              "      <td>2.692176</td>\n",
              "      <td>0.215961</td>\n",
              "      <td>24.0</td>\n",
              "      <td>1</td>\n",
              "      <td>1</td>\n",
              "    </tr>\n",
              "    <tr>\n",
              "      <th>107</th>\n",
              "      <td>151.884</td>\n",
              "      <td>157.765</td>\n",
              "      <td>133.751</td>\n",
              "      <td>0.00258</td>\n",
              "      <td>0.00002</td>\n",
              "      <td>0.00115</td>\n",
              "      <td>0.00122</td>\n",
              "      <td>0.00346</td>\n",
              "      <td>0.01450</td>\n",
              "      <td>0.137</td>\n",
              "      <td>0.00633</td>\n",
              "      <td>0.00788</td>\n",
              "      <td>0.01267</td>\n",
              "      <td>0.01898</td>\n",
              "      <td>0.00659</td>\n",
              "      <td>26.833</td>\n",
              "      <td>0.393563</td>\n",
              "      <td>0.700246</td>\n",
              "      <td>-6.600023</td>\n",
              "      <td>0.249172</td>\n",
              "      <td>2.499148</td>\n",
              "      <td>0.105306</td>\n",
              "      <td>107.0</td>\n",
              "      <td>1</td>\n",
              "      <td>1</td>\n",
              "    </tr>\n",
              "    <tr>\n",
              "      <th>193</th>\n",
              "      <td>198.764</td>\n",
              "      <td>396.961</td>\n",
              "      <td>74.904</td>\n",
              "      <td>0.00740</td>\n",
              "      <td>0.00004</td>\n",
              "      <td>0.00370</td>\n",
              "      <td>0.00390</td>\n",
              "      <td>0.01109</td>\n",
              "      <td>0.02296</td>\n",
              "      <td>0.241</td>\n",
              "      <td>0.01265</td>\n",
              "      <td>0.01321</td>\n",
              "      <td>0.01588</td>\n",
              "      <td>0.03794</td>\n",
              "      <td>0.07223</td>\n",
              "      <td>19.020</td>\n",
              "      <td>0.451221</td>\n",
              "      <td>0.643956</td>\n",
              "      <td>-6.744577</td>\n",
              "      <td>0.207454</td>\n",
              "      <td>2.138608</td>\n",
              "      <td>0.123306</td>\n",
              "      <td>193.0</td>\n",
              "      <td>0</td>\n",
              "      <td>0</td>\n",
              "    </tr>\n",
              "    <tr>\n",
              "      <th>113</th>\n",
              "      <td>210.141</td>\n",
              "      <td>232.706</td>\n",
              "      <td>185.258</td>\n",
              "      <td>0.00534</td>\n",
              "      <td>0.00003</td>\n",
              "      <td>0.00321</td>\n",
              "      <td>0.00280</td>\n",
              "      <td>0.00964</td>\n",
              "      <td>0.01680</td>\n",
              "      <td>0.149</td>\n",
              "      <td>0.00861</td>\n",
              "      <td>0.01017</td>\n",
              "      <td>0.01301</td>\n",
              "      <td>0.02583</td>\n",
              "      <td>0.00620</td>\n",
              "      <td>23.671</td>\n",
              "      <td>0.441097</td>\n",
              "      <td>0.722254</td>\n",
              "      <td>-5.963040</td>\n",
              "      <td>0.250283</td>\n",
              "      <td>2.489191</td>\n",
              "      <td>0.177807</td>\n",
              "      <td>113.0</td>\n",
              "      <td>1</td>\n",
              "      <td>1</td>\n",
              "    </tr>\n",
              "  </tbody>\n",
              "</table>\n",
              "</div>"
            ],
            "text/plain": [
              "     MDVP:Fo(Hz)  MDVP:Fhi(Hz)  MDVP:Flo(Hz)  ...  name_as_number  y_pred  y_train\n",
              "126      138.145       197.238        81.114  ...           126.0       1        1\n",
              "135      110.453       127.611       105.554  ...           135.0       1        1\n",
              "24       163.656       200.841        76.779  ...            24.0       1        1\n",
              "107      151.884       157.765       133.751  ...           107.0       1        1\n",
              "193      198.764       396.961        74.904  ...           193.0       0        0\n",
              "113      210.141       232.706       185.258  ...           113.0       1        1\n",
              "\n",
              "[6 rows x 25 columns]"
            ]
          },
          "metadata": {
            "tags": []
          },
          "execution_count": 708
        }
      ]
    },
    {
      "cell_type": "code",
      "metadata": {
        "colab": {
          "base_uri": "https://localhost:8080/",
          "height": 299
        },
        "id": "zRU7QiHaUGhO",
        "outputId": "26b87899-fee9-47ff-cb11-a4b2a98bf30f"
      },
      "source": [
        "cm = confusion_matrix(y_true = y_test ,y_pred = X_test_pred_rf.y_pred)\n",
        "RF_cm = pd.DataFrame(cm, index=rf_model_1.classes_, columns=rf_model_1.classes_)\n",
        "hmap = sns.heatmap(RF_cm, annot=True, fmt=\"d\")\n",
        "hmap.yaxis.set_ticklabels(hmap.yaxis.get_ticklabels(), rotation=0, ha='right')\n",
        "hmap.xaxis.set_ticklabels(hmap.xaxis.get_ticklabels(), rotation=30, ha='right')\n",
        "plt.ylabel('True label')\n",
        "plt.xlabel('Predicted label')"
      ],
      "execution_count": 709,
      "outputs": [
        {
          "output_type": "execute_result",
          "data": {
            "text/plain": [
              "Text(0.5, 15.0, 'Predicted label')"
            ]
          },
          "metadata": {
            "tags": []
          },
          "execution_count": 709
        },
        {
          "output_type": "display_data",
          "data": {
            "image/png": "[encoded data removed]",
            "text/plain": [
              "<Figure size 432x288 with 2 Axes>"
            ]
          },
          "metadata": {
            "tags": [],
            "needs_background": "light"
          }
        }
      ]
    },
    {
      "cell_type": "code",
      "metadata": {
        "colab": {
          "base_uri": "https://localhost:8080/"
        },
        "id": "GyCb7S2pUJgk",
        "outputId": "b2b9081e-1f21-4946-8834-76a96d324745"
      },
      "source": [
        "print(classification_report(y_true=y_test,\n",
        "                            y_pred=X_test_pred_rf.y_pred))"
      ],
      "execution_count": 710,
      "outputs": [
        {
          "output_type": "stream",
          "text": [
            "              precision    recall  f1-score   support\n",
            "\n",
            "           0       1.00      0.60      0.75        10\n",
            "           1       0.88      1.00      0.94        29\n",
            "\n",
            "    accuracy                           0.90        39\n",
            "   macro avg       0.94      0.80      0.84        39\n",
            "weighted avg       0.91      0.90      0.89        39\n",
            "\n"
          ],
          "name": "stdout"
        }
      ]
    },
    {
      "cell_type": "code",
      "metadata": {
        "colab": {
          "base_uri": "https://localhost:8080/"
        },
        "id": "H1hFSZqGUhRH",
        "outputId": "318b6c1e-de56-4713-d18f-cc73634cf560"
      },
      "source": [
        "dt_model_bal_gs.best_params_"
      ],
      "execution_count": 711,
      "outputs": [
        {
          "output_type": "execute_result",
          "data": {
            "text/plain": [
              "{'criterion': 'gini',\n",
              " 'min_impurity_decrease': 1e-05,\n",
              " 'min_samples_leaf': 60,\n",
              " 'min_weight_fraction_leaf': 0.01}"
            ]
          },
          "metadata": {
            "tags": []
          },
          "execution_count": 711
        }
      ]
    },
    {
      "cell_type": "code",
      "metadata": {
        "id": "ZvAhctvTVMwh"
      },
      "source": [
        "rf_model_2 = RandomForestClassifier(**dt_model_bal_gs.best_params_)"
      ],
      "execution_count": 712,
      "outputs": []
    },
    {
      "cell_type": "code",
      "metadata": {
        "id": "jB7pMPBFUjgZ"
      },
      "source": [
        "my_param_grid = {'bootstrap': [True, False], \n",
        "                 'n_estimators': [25, 50], \n",
        "                 'oob_score': [True, False], \n",
        "                 'warm_start': [True, False]}"
      ],
      "execution_count": 713,
      "outputs": []
    },
    {
      "cell_type": "code",
      "metadata": {
        "id": "idgA4JXWVWZ2"
      },
      "source": [
        "rf_model_gs = GridSearchCV(estimator=rf_model_2, param_grid=my_param_grid,\\\n",
        "                           scoring='accuracy', cv=my_cv)"
      ],
      "execution_count": 714,
      "outputs": []
    },
    {
      "cell_type": "code",
      "metadata": {
        "colab": {
          "base_uri": "https://localhost:8080/"
        },
        "id": "UJOY9wT0VgJS",
        "outputId": "58af40bc-20fc-437a-821a-1bac7d8ced70"
      },
      "source": [
        "t1 = time()\n",
        "rf_model_gs.fit(X_train, y_train)\n",
        "t2 = time()\n",
        "print(f\"It took {t2 - t1:.2f} seconds\")"
      ],
      "execution_count": 715,
      "outputs": [
        {
          "output_type": "stream",
          "text": [
            "It took 18.51 seconds\n"
          ],
          "name": "stdout"
        }
      ]
    },
    {
      "cell_type": "code",
      "metadata": {
        "colab": {
          "base_uri": "https://localhost:8080/"
        },
        "id": "QZKmmKrZVjT9",
        "outputId": "292c0b28-94a5-47da-faba-dfd9f1c61434"
      },
      "source": [
        "print(rf_model_gs.score(X_train, y_train))\n",
        "print(rf_model_gs.score(X_test, y_test))"
      ],
      "execution_count": 716,
      "outputs": [
        {
          "output_type": "stream",
          "text": [
            "0.7564102564102564\n",
            "0.7435897435897436\n"
          ],
          "name": "stdout"
        }
      ]
    },
    {
      "cell_type": "code",
      "metadata": {
        "colab": {
          "base_uri": "https://localhost:8080/"
        },
        "id": "W_vBwJ6fVlXN",
        "outputId": "ef2a7038-8e6e-490c-8596-18ad3141a0b2"
      },
      "source": [
        "bestModel = rf_model_gs.best_estimator_\n",
        "bestModel.score(X_test, y_test)"
      ],
      "execution_count": 717,
      "outputs": [
        {
          "output_type": "execute_result",
          "data": {
            "text/plain": [
              "0.7435897435897436"
            ]
          },
          "metadata": {
            "tags": []
          },
          "execution_count": 717
        }
      ]
    },
    {
      "cell_type": "markdown",
      "metadata": {
        "id": "e2upBpfWXCrh"
      },
      "source": [
        "# Model 4 Logistic Regression"
      ]
    },
    {
      "cell_type": "code",
      "metadata": {
        "colab": {
          "base_uri": "https://localhost:8080/"
        },
        "id": "gJhnzv2jVnyv",
        "outputId": "1817a871-cd03-49e8-a59a-953d06cb789a"
      },
      "source": [
        "lr_model = LogisticRegression(class_weight='balanced', random_state = randState)\n",
        "lr_model.get_params()"
      ],
      "execution_count": 718,
      "outputs": [
        {
          "output_type": "execute_result",
          "data": {
            "text/plain": [
              "{'C': 1.0,\n",
              " 'class_weight': 'balanced',\n",
              " 'dual': False,\n",
              " 'fit_intercept': True,\n",
              " 'intercept_scaling': 1,\n",
              " 'l1_ratio': None,\n",
              " 'max_iter': 100,\n",
              " 'multi_class': 'auto',\n",
              " 'n_jobs': None,\n",
              " 'penalty': 'l2',\n",
              " 'random_state': 990,\n",
              " 'solver': 'lbfgs',\n",
              " 'tol': 0.0001,\n",
              " 'verbose': 0,\n",
              " 'warm_start': False}"
            ]
          },
          "metadata": {
            "tags": []
          },
          "execution_count": 718
        }
      ]
    },
    {
      "cell_type": "code",
      "metadata": {
        "colab": {
          "base_uri": "https://localhost:8080/"
        },
        "id": "Yj7rcRwgXHPx",
        "outputId": "8192fff4-a985-4992-de79-75cf4f7591cf"
      },
      "source": [
        "lr_model.fit(X_train, y_train)"
      ],
      "execution_count": 719,
      "outputs": [
        {
          "output_type": "execute_result",
          "data": {
            "text/plain": [
              "LogisticRegression(C=1.0, class_weight='balanced', dual=False,\n",
              "                   fit_intercept=True, intercept_scaling=1, l1_ratio=None,\n",
              "                   max_iter=100, multi_class='auto', n_jobs=None, penalty='l2',\n",
              "                   random_state=990, solver='lbfgs', tol=0.0001, verbose=0,\n",
              "                   warm_start=False)"
            ]
          },
          "metadata": {
            "tags": []
          },
          "execution_count": 719
        }
      ]
    },
    {
      "cell_type": "code",
      "metadata": {
        "colab": {
          "base_uri": "https://localhost:8080/",
          "height": 255
        },
        "id": "byObU55tYa_r",
        "outputId": "29ed061f-0533-4411-cef2-91ba5d97b6e7"
      },
      "source": [
        "X_test_pred_3 = X_test.copy()\n",
        "\n",
        "X_test_pred_3['y_pred'] = lr_model.predict(X_test)\n",
        "X_test_pred_3['y_train'] = y_test\n",
        "X_test_pred_3.sample(6)"
      ],
      "execution_count": 720,
      "outputs": [
        {
          "output_type": "execute_result",
          "data": {
            "text/html": [
              "<div>\n",
              "<style scoped>\n",
              "    .dataframe tbody tr th:only-of-type {\n",
              "        vertical-align: middle;\n",
              "    }\n",
              "\n",
              "    .dataframe tbody tr th {\n",
              "        vertical-align: top;\n",
              "    }\n",
              "\n",
              "    .dataframe thead th {\n",
              "        text-align: right;\n",
              "    }\n",
              "</style>\n",
              "<table border=\"1\" class=\"dataframe\">\n",
              "  <thead>\n",
              "    <tr style=\"text-align: right;\">\n",
              "      <th></th>\n",
              "      <th>MDVP:Fo(Hz)</th>\n",
              "      <th>MDVP:Fhi(Hz)</th>\n",
              "      <th>MDVP:Flo(Hz)</th>\n",
              "      <th>MDVP:Jitter(%)</th>\n",
              "      <th>MDVP:Jitter(Abs)</th>\n",
              "      <th>MDVP:RAP</th>\n",
              "      <th>MDVP:PPQ</th>\n",
              "      <th>Jitter:DDP</th>\n",
              "      <th>MDVP:Shimmer</th>\n",
              "      <th>MDVP:Shimmer(dB)</th>\n",
              "      <th>Shimmer:APQ3</th>\n",
              "      <th>Shimmer:APQ5</th>\n",
              "      <th>MDVP:APQ</th>\n",
              "      <th>Shimmer:DDA</th>\n",
              "      <th>NHR</th>\n",
              "      <th>HNR</th>\n",
              "      <th>RPDE</th>\n",
              "      <th>DFA</th>\n",
              "      <th>spread1</th>\n",
              "      <th>spread2</th>\n",
              "      <th>D2</th>\n",
              "      <th>PPE</th>\n",
              "      <th>name_as_number</th>\n",
              "      <th>y_pred</th>\n",
              "      <th>y_train</th>\n",
              "    </tr>\n",
              "  </thead>\n",
              "  <tbody>\n",
              "    <tr>\n",
              "      <th>168</th>\n",
              "      <td>197.569</td>\n",
              "      <td>217.627</td>\n",
              "      <td>90.794</td>\n",
              "      <td>0.00803</td>\n",
              "      <td>0.00004</td>\n",
              "      <td>0.00490</td>\n",
              "      <td>0.00448</td>\n",
              "      <td>0.01470</td>\n",
              "      <td>0.02177</td>\n",
              "      <td>0.189</td>\n",
              "      <td>0.01279</td>\n",
              "      <td>0.01272</td>\n",
              "      <td>0.01439</td>\n",
              "      <td>0.03836</td>\n",
              "      <td>0.01337</td>\n",
              "      <td>19.269</td>\n",
              "      <td>0.372222</td>\n",
              "      <td>0.725216</td>\n",
              "      <td>-5.736781</td>\n",
              "      <td>0.164529</td>\n",
              "      <td>2.882450</td>\n",
              "      <td>0.202879</td>\n",
              "      <td>168.0</td>\n",
              "      <td>1</td>\n",
              "      <td>0</td>\n",
              "    </tr>\n",
              "    <tr>\n",
              "      <th>31</th>\n",
              "      <td>199.228</td>\n",
              "      <td>209.512</td>\n",
              "      <td>192.091</td>\n",
              "      <td>0.00241</td>\n",
              "      <td>0.00001</td>\n",
              "      <td>0.00134</td>\n",
              "      <td>0.00138</td>\n",
              "      <td>0.00402</td>\n",
              "      <td>0.01015</td>\n",
              "      <td>0.089</td>\n",
              "      <td>0.00504</td>\n",
              "      <td>0.00641</td>\n",
              "      <td>0.00762</td>\n",
              "      <td>0.01513</td>\n",
              "      <td>0.00167</td>\n",
              "      <td>30.940</td>\n",
              "      <td>0.432439</td>\n",
              "      <td>0.742055</td>\n",
              "      <td>-7.682587</td>\n",
              "      <td>0.173319</td>\n",
              "      <td>2.103106</td>\n",
              "      <td>0.068501</td>\n",
              "      <td>31.0</td>\n",
              "      <td>0</td>\n",
              "      <td>0</td>\n",
              "    </tr>\n",
              "    <tr>\n",
              "      <th>190</th>\n",
              "      <td>174.188</td>\n",
              "      <td>230.978</td>\n",
              "      <td>94.261</td>\n",
              "      <td>0.00459</td>\n",
              "      <td>0.00003</td>\n",
              "      <td>0.00263</td>\n",
              "      <td>0.00259</td>\n",
              "      <td>0.00790</td>\n",
              "      <td>0.04087</td>\n",
              "      <td>0.405</td>\n",
              "      <td>0.02336</td>\n",
              "      <td>0.02498</td>\n",
              "      <td>0.02745</td>\n",
              "      <td>0.07008</td>\n",
              "      <td>0.02764</td>\n",
              "      <td>19.517</td>\n",
              "      <td>0.448439</td>\n",
              "      <td>0.657899</td>\n",
              "      <td>-6.538586</td>\n",
              "      <td>0.121952</td>\n",
              "      <td>2.657476</td>\n",
              "      <td>0.133050</td>\n",
              "      <td>190.0</td>\n",
              "      <td>0</td>\n",
              "      <td>0</td>\n",
              "    </tr>\n",
              "    <tr>\n",
              "      <th>24</th>\n",
              "      <td>163.656</td>\n",
              "      <td>200.841</td>\n",
              "      <td>76.779</td>\n",
              "      <td>0.00742</td>\n",
              "      <td>0.00005</td>\n",
              "      <td>0.00380</td>\n",
              "      <td>0.00390</td>\n",
              "      <td>0.01140</td>\n",
              "      <td>0.01659</td>\n",
              "      <td>0.164</td>\n",
              "      <td>0.00738</td>\n",
              "      <td>0.00948</td>\n",
              "      <td>0.01497</td>\n",
              "      <td>0.02214</td>\n",
              "      <td>0.01778</td>\n",
              "      <td>23.831</td>\n",
              "      <td>0.397937</td>\n",
              "      <td>0.732479</td>\n",
              "      <td>-5.557447</td>\n",
              "      <td>0.220890</td>\n",
              "      <td>2.692176</td>\n",
              "      <td>0.215961</td>\n",
              "      <td>24.0</td>\n",
              "      <td>1</td>\n",
              "      <td>1</td>\n",
              "    </tr>\n",
              "    <tr>\n",
              "      <th>155</th>\n",
              "      <td>117.870</td>\n",
              "      <td>127.349</td>\n",
              "      <td>95.654</td>\n",
              "      <td>0.00647</td>\n",
              "      <td>0.00005</td>\n",
              "      <td>0.00356</td>\n",
              "      <td>0.00300</td>\n",
              "      <td>0.01067</td>\n",
              "      <td>0.03087</td>\n",
              "      <td>0.276</td>\n",
              "      <td>0.01659</td>\n",
              "      <td>0.01804</td>\n",
              "      <td>0.02402</td>\n",
              "      <td>0.04977</td>\n",
              "      <td>0.02631</td>\n",
              "      <td>22.431</td>\n",
              "      <td>0.628300</td>\n",
              "      <td>0.652025</td>\n",
              "      <td>-3.583722</td>\n",
              "      <td>0.207914</td>\n",
              "      <td>2.439597</td>\n",
              "      <td>0.206256</td>\n",
              "      <td>155.0</td>\n",
              "      <td>1</td>\n",
              "      <td>1</td>\n",
              "    </tr>\n",
              "    <tr>\n",
              "      <th>158</th>\n",
              "      <td>126.144</td>\n",
              "      <td>154.284</td>\n",
              "      <td>97.543</td>\n",
              "      <td>0.00975</td>\n",
              "      <td>0.00008</td>\n",
              "      <td>0.00593</td>\n",
              "      <td>0.00454</td>\n",
              "      <td>0.01778</td>\n",
              "      <td>0.02852</td>\n",
              "      <td>0.266</td>\n",
              "      <td>0.01500</td>\n",
              "      <td>0.01581</td>\n",
              "      <td>0.02157</td>\n",
              "      <td>0.04499</td>\n",
              "      <td>0.03828</td>\n",
              "      <td>21.534</td>\n",
              "      <td>0.635015</td>\n",
              "      <td>0.627337</td>\n",
              "      <td>-5.070096</td>\n",
              "      <td>0.280091</td>\n",
              "      <td>2.892300</td>\n",
              "      <td>0.249703</td>\n",
              "      <td>158.0</td>\n",
              "      <td>1</td>\n",
              "      <td>1</td>\n",
              "    </tr>\n",
              "  </tbody>\n",
              "</table>\n",
              "</div>"
            ],
            "text/plain": [
              "     MDVP:Fo(Hz)  MDVP:Fhi(Hz)  MDVP:Flo(Hz)  ...  name_as_number  y_pred  y_train\n",
              "168      197.569       217.627        90.794  ...           168.0       1        0\n",
              "31       199.228       209.512       192.091  ...            31.0       0        0\n",
              "190      174.188       230.978        94.261  ...           190.0       0        0\n",
              "24       163.656       200.841        76.779  ...            24.0       1        1\n",
              "155      117.870       127.349        95.654  ...           155.0       1        1\n",
              "158      126.144       154.284        97.543  ...           158.0       1        1\n",
              "\n",
              "[6 rows x 25 columns]"
            ]
          },
          "metadata": {
            "tags": []
          },
          "execution_count": 720
        }
      ]
    },
    {
      "cell_type": "markdown",
      "metadata": {
        "id": "AVEjTrwnYvaE"
      },
      "source": [
        "### Evaluate the model"
      ]
    },
    {
      "cell_type": "code",
      "metadata": {
        "colab": {
          "base_uri": "https://localhost:8080/",
          "height": 299
        },
        "id": "YR37t80BYe1E",
        "outputId": "8f329338-72c9-44c2-96de-84e9672f296a"
      },
      "source": [
        "cm = confusion_matrix(y_true = y_test, y_pred=X_test_pred_3.y_pred)\n",
        "LR_cm = pd.DataFrame(cm, index=lr_model.classes_, columns=lr_model.classes_)\n",
        "hmap = sns.heatmap(LR_cm, annot=True, fmt=\"d\")\n",
        "hmap.yaxis.set_ticklabels(hmap.yaxis.get_ticklabels(), rotation=0, ha='right')\n",
        "hmap.xaxis.set_ticklabels(hmap.xaxis.get_ticklabels(), rotation=30, ha='right')\n",
        "plt.ylabel('True label')\n",
        "plt.xlabel('Predicted label')"
      ],
      "execution_count": 721,
      "outputs": [
        {
          "output_type": "execute_result",
          "data": {
            "text/plain": [
              "Text(0.5, 15.0, 'Predicted label')"
            ]
          },
          "metadata": {
            "tags": []
          },
          "execution_count": 721
        },
        {
          "output_type": "display_data",
          "data": {
            "image/png": "[encoded data removed]",
            "text/plain": [
              "<Figure size 432x288 with 2 Axes>"
            ]
          },
          "metadata": {
            "tags": [],
            "needs_background": "light"
          }
        }
      ]
    },
    {
      "cell_type": "code",
      "metadata": {
        "colab": {
          "base_uri": "https://localhost:8080/"
        },
        "id": "cxPUK3eCZAhI",
        "outputId": "8713a511-67de-4b96-bb34-193ef5a67311"
      },
      "source": [
        "accuracy_score(y_true=y_test, y_pred=X_test_pred_3.y_pred)"
      ],
      "execution_count": 722,
      "outputs": [
        {
          "output_type": "execute_result",
          "data": {
            "text/plain": [
              "0.7948717948717948"
            ]
          },
          "metadata": {
            "tags": []
          },
          "execution_count": 722
        }
      ]
    },
    {
      "cell_type": "code",
      "metadata": {
        "id": "kqAx7nkqZH42"
      },
      "source": [
        "penalty = ['l1', 'l2']\n",
        "C = np.logspace(0, 5, 10)\n",
        "hyperparameters = dict(C=C, penalty=penalty)"
      ],
      "execution_count": 723,
      "outputs": []
    },
    {
      "cell_type": "code",
      "metadata": {
        "id": "TPUCSvOdZK5a"
      },
      "source": [
        "clr = GridSearchCV(lr_model, hyperparameters, cv=20, verbose=2, scoring='accuracy')"
      ],
      "execution_count": 724,
      "outputs": []
    },
    {
      "cell_type": "code",
      "metadata": {
        "colab": {
          "base_uri": "https://localhost:8080/"
        },
        "id": "h5r2VkNWamlI",
        "outputId": "8f0057ec-985a-4247-e065-2d04684d91f3"
      },
      "source": [
        "best_model_clr = clr.fit(X_train, y_train)\n",
        "print('Best Penalty:', best_model_clr.best_estimator_.get_params()['penalty'])\n",
        "print('Best C:', round(best_model_clr.best_estimator_.get_params()['C'],2))"
      ],
      "execution_count": 725,
      "outputs": [
        {
          "output_type": "stream",
          "text": [
            "Fitting 20 folds for each of 20 candidates, totalling 400 fits\n",
            "[CV] C=1.0, penalty=l1 ...............................................\n",
            "[CV] ................................ C=1.0, penalty=l1, total=   0.0s\n",
            "[CV] C=1.0, penalty=l1 ...............................................\n",
            "[CV] ................................ C=1.0, penalty=l1, total=   0.0s\n",
            "[CV] C=1.0, penalty=l1 ...............................................\n",
            "[CV] ................................ C=1.0, penalty=l1, total=   0.0s\n",
            "[CV] C=1.0, penalty=l1 ...............................................\n",
            "[CV] ................................ C=1.0, penalty=l1, total=   0.0s\n",
            "[CV] C=1.0, penalty=l1 ...............................................\n",
            "[CV] ................................ C=1.0, penalty=l1, total=   0.0s\n",
            "[CV] C=1.0, penalty=l1 ...............................................\n",
            "[CV] ................................ C=1.0, penalty=l1, total=   0.0s\n",
            "[CV] C=1.0, penalty=l1 ...............................................\n",
            "[CV] ................................ C=1.0, penalty=l1, total=   0.0s\n",
            "[CV] C=1.0, penalty=l1 ...............................................\n",
            "[CV] ................................ C=1.0, penalty=l1, total=   0.0s\n",
            "[CV] C=1.0, penalty=l1 ...............................................\n",
            "[CV] ................................ C=1.0, penalty=l1, total=   0.0s\n",
            "[CV] C=1.0, penalty=l1 ...............................................\n",
            "[CV] ................................ C=1.0, penalty=l1, total=   0.0s\n",
            "[CV] C=1.0, penalty=l1 ...............................................\n",
            "[CV] ................................ C=1.0, penalty=l1, total=   0.0s\n",
            "[CV] C=1.0, penalty=l1 ...............................................\n",
            "[CV] ................................ C=1.0, penalty=l1, total=   0.0s\n",
            "[CV] C=1.0, penalty=l1 ...............................................\n",
            "[CV] ................................ C=1.0, penalty=l1, total=   0.0s\n",
            "[CV] C=1.0, penalty=l1 ...............................................\n",
            "[CV] ................................ C=1.0, penalty=l1, total=   0.0s\n",
            "[CV] C=1.0, penalty=l1 ...............................................\n",
            "[CV] ................................ C=1.0, penalty=l1, total=   0.0s\n",
            "[CV] C=1.0, penalty=l1 ...............................................\n",
            "[CV] ................................ C=1.0, penalty=l1, total=   0.0s\n",
            "[CV] C=1.0, penalty=l1 ...............................................\n",
            "[CV] ................................ C=1.0, penalty=l1, total=   0.0s\n",
            "[CV] C=1.0, penalty=l1 ...............................................\n",
            "[CV] ................................ C=1.0, penalty=l1, total=   0.0s\n",
            "[CV] C=1.0, penalty=l1 ...............................................\n",
            "[CV] ................................ C=1.0, penalty=l1, total=   0.0s\n",
            "[CV] C=1.0, penalty=l1 ...............................................\n",
            "[CV] ................................ C=1.0, penalty=l1, total=   0.0s\n",
            "[CV] C=1.0, penalty=l2 ...............................................\n",
            "[CV] ................................ C=1.0, penalty=l2, total=   0.0s\n",
            "[CV] C=1.0, penalty=l2 ...............................................\n",
            "[CV] ................................ C=1.0, penalty=l2, total=   0.0s\n",
            "[CV] C=1.0, penalty=l2 ...............................................\n",
            "[CV] ................................ C=1.0, penalty=l2, total=   0.0s\n",
            "[CV] C=1.0, penalty=l2 ...............................................\n"
          ],
          "name": "stdout"
        },
        {
          "output_type": "stream",
          "text": [
            "[Parallel(n_jobs=1)]: Using backend SequentialBackend with 1 concurrent workers.\n",
            "[Parallel(n_jobs=1)]: Done   1 out of   1 | elapsed:    0.0s remaining:    0.0s\n"
          ],
          "name": "stderr"
        },
        {
          "output_type": "stream",
          "text": [
            "[CV] ................................ C=1.0, penalty=l2, total=   0.0s\n",
            "[CV] C=1.0, penalty=l2 ...............................................\n",
            "[CV] ................................ C=1.0, penalty=l2, total=   0.0s\n",
            "[CV] C=1.0, penalty=l2 ...............................................\n",
            "[CV] ................................ C=1.0, penalty=l2, total=   0.0s\n",
            "[CV] C=1.0, penalty=l2 ...............................................\n",
            "[CV] ................................ C=1.0, penalty=l2, total=   0.0s\n",
            "[CV] C=1.0, penalty=l2 ...............................................\n",
            "[CV] ................................ C=1.0, penalty=l2, total=   0.0s\n",
            "[CV] C=1.0, penalty=l2 ...............................................\n",
            "[CV] ................................ C=1.0, penalty=l2, total=   0.0s\n",
            "[CV] C=1.0, penalty=l2 ...............................................\n",
            "[CV] ................................ C=1.0, penalty=l2, total=   0.0s\n",
            "[CV] C=1.0, penalty=l2 ...............................................\n",
            "[CV] ................................ C=1.0, penalty=l2, total=   0.0s\n",
            "[CV] C=1.0, penalty=l2 ...............................................\n",
            "[CV] ................................ C=1.0, penalty=l2, total=   0.0s\n",
            "[CV] C=1.0, penalty=l2 ...............................................\n",
            "[CV] ................................ C=1.0, penalty=l2, total=   0.0s\n",
            "[CV] C=1.0, penalty=l2 ...............................................\n",
            "[CV] ................................ C=1.0, penalty=l2, total=   0.0s\n",
            "[CV] C=1.0, penalty=l2 ...............................................\n",
            "[CV] ................................ C=1.0, penalty=l2, total=   0.0s\n",
            "[CV] C=1.0, penalty=l2 ...............................................\n",
            "[CV] ................................ C=1.0, penalty=l2, total=   0.0s\n",
            "[CV] C=1.0, penalty=l2 ...............................................\n",
            "[CV] ................................ C=1.0, penalty=l2, total=   0.0s\n",
            "[CV] C=1.0, penalty=l2 ...............................................\n",
            "[CV] ................................ C=1.0, penalty=l2, total=   0.0s\n",
            "[CV] C=1.0, penalty=l2 ...............................................\n",
            "[CV] ................................ C=1.0, penalty=l2, total=   0.0s\n",
            "[CV] C=1.0, penalty=l2 ...............................................\n",
            "[CV] ................................ C=1.0, penalty=l2, total=   0.0s\n",
            "[CV] C=3.5938136638046276, penalty=l1 ................................\n",
            "[CV] ................. C=3.5938136638046276, penalty=l1, total=   0.0s\n",
            "[CV] C=3.5938136638046276, penalty=l1 ................................\n",
            "[CV] ................. C=3.5938136638046276, penalty=l1, total=   0.0s\n",
            "[CV] C=3.5938136638046276, penalty=l1 ................................\n",
            "[CV] ................. C=3.5938136638046276, penalty=l1, total=   0.0s\n",
            "[CV] C=3.5938136638046276, penalty=l1 ................................\n",
            "[CV] ................. C=3.5938136638046276, penalty=l1, total=   0.0s\n",
            "[CV] C=3.5938136638046276, penalty=l1 ................................\n",
            "[CV] ................. C=3.5938136638046276, penalty=l1, total=   0.0s\n",
            "[CV] C=3.5938136638046276, penalty=l1 ................................\n",
            "[CV] ................. C=3.5938136638046276, penalty=l1, total=   0.0s\n",
            "[CV] C=3.5938136638046276, penalty=l1 ................................\n",
            "[CV] ................. C=3.5938136638046276, penalty=l1, total=   0.0s\n",
            "[CV] C=3.5938136638046276, penalty=l1 ................................\n",
            "[CV] ................. C=3.5938136638046276, penalty=l1, total=   0.0s\n",
            "[CV] C=3.5938136638046276, penalty=l1 ................................\n",
            "[CV] ................. C=3.5938136638046276, penalty=l1, total=   0.0s\n",
            "[CV] C=3.5938136638046276, penalty=l1 ................................\n",
            "[CV] ................. C=3.5938136638046276, penalty=l1, total=   0.0s\n",
            "[CV] C=3.5938136638046276, penalty=l1 ................................\n",
            "[CV] ................. C=3.5938136638046276, penalty=l1, total=   0.0s\n",
            "[CV] C=3.5938136638046276, penalty=l1 ................................\n",
            "[CV] ................. C=3.5938136638046276, penalty=l1, total=   0.0s\n",
            "[CV] C=3.5938136638046276, penalty=l1 ................................\n",
            "[CV] ................. C=3.5938136638046276, penalty=l1, total=   0.0s\n",
            "[CV] C=3.5938136638046276, penalty=l1 ................................\n",
            "[CV] ................. C=3.5938136638046276, penalty=l1, total=   0.0s\n",
            "[CV] C=3.5938136638046276, penalty=l1 ................................\n",
            "[CV] ................. C=3.5938136638046276, penalty=l1, total=   0.0s\n",
            "[CV] C=3.5938136638046276, penalty=l1 ................................\n",
            "[CV] ................. C=3.5938136638046276, penalty=l1, total=   0.0s\n",
            "[CV] C=3.5938136638046276, penalty=l1 ................................\n",
            "[CV] ................. C=3.5938136638046276, penalty=l1, total=   0.0s\n",
            "[CV] C=3.5938136638046276, penalty=l1 ................................\n",
            "[CV] ................. C=3.5938136638046276, penalty=l1, total=   0.0s\n",
            "[CV] C=3.5938136638046276, penalty=l1 ................................\n",
            "[CV] ................. C=3.5938136638046276, penalty=l1, total=   0.0s\n",
            "[CV] C=3.5938136638046276, penalty=l1 ................................\n",
            "[CV] ................. C=3.5938136638046276, penalty=l1, total=   0.0s\n",
            "[CV] C=3.5938136638046276, penalty=l2 ................................\n",
            "[CV] ................. C=3.5938136638046276, penalty=l2, total=   0.0s\n",
            "[CV] C=3.5938136638046276, penalty=l2 ................................\n",
            "[CV] ................. C=3.5938136638046276, penalty=l2, total=   0.0s\n",
            "[CV] C=3.5938136638046276, penalty=l2 ................................\n",
            "[CV] ................. C=3.5938136638046276, penalty=l2, total=   0.0s\n",
            "[CV] C=3.5938136638046276, penalty=l2 ................................\n",
            "[CV] ................. C=3.5938136638046276, penalty=l2, total=   0.0s\n",
            "[CV] C=3.5938136638046276, penalty=l2 ................................\n",
            "[CV] ................. C=3.5938136638046276, penalty=l2, total=   0.0s\n",
            "[CV] C=3.5938136638046276, penalty=l2 ................................\n",
            "[CV] ................. C=3.5938136638046276, penalty=l2, total=   0.0s\n",
            "[CV] C=3.5938136638046276, penalty=l2 ................................\n",
            "[CV] ................. C=3.5938136638046276, penalty=l2, total=   0.0s\n",
            "[CV] C=3.5938136638046276, penalty=l2 ................................\n",
            "[CV] ................. C=3.5938136638046276, penalty=l2, total=   0.0s\n",
            "[CV] C=3.5938136638046276, penalty=l2 ................................\n",
            "[CV] ................. C=3.5938136638046276, penalty=l2, total=   0.0s\n",
            "[CV] C=3.5938136638046276, penalty=l2 ................................\n",
            "[CV] ................. C=3.5938136638046276, penalty=l2, total=   0.0s\n",
            "[CV] C=3.5938136638046276, penalty=l2 ................................\n",
            "[CV] ................. C=3.5938136638046276, penalty=l2, total=   0.0s\n",
            "[CV] C=3.5938136638046276, penalty=l2 ................................\n",
            "[CV] ................. C=3.5938136638046276, penalty=l2, total=   0.0s\n",
            "[CV] C=3.5938136638046276, penalty=l2 ................................\n",
            "[CV] ................. C=3.5938136638046276, penalty=l2, total=   0.0s\n",
            "[CV] C=3.5938136638046276, penalty=l2 ................................\n",
            "[CV] ................. C=3.5938136638046276, penalty=l2, total=   0.0s\n",
            "[CV] C=3.5938136638046276, penalty=l2 ................................\n",
            "[CV] ................. C=3.5938136638046276, penalty=l2, total=   0.0s\n",
            "[CV] C=3.5938136638046276, penalty=l2 ................................\n",
            "[CV] ................. C=3.5938136638046276, penalty=l2, total=   0.0s\n",
            "[CV] C=3.5938136638046276, penalty=l2 ................................\n",
            "[CV] ................. C=3.5938136638046276, penalty=l2, total=   0.0s\n",
            "[CV] C=3.5938136638046276, penalty=l2 ................................\n",
            "[CV] ................. C=3.5938136638046276, penalty=l2, total=   0.0s\n",
            "[CV] C=3.5938136638046276, penalty=l2 ................................\n",
            "[CV] ................. C=3.5938136638046276, penalty=l2, total=   0.0s\n",
            "[CV] C=3.5938136638046276, penalty=l2 ................................\n",
            "[CV] ................. C=3.5938136638046276, penalty=l2, total=   0.0s\n",
            "[CV] C=12.91549665014884, penalty=l1 .................................\n",
            "[CV] .................. C=12.91549665014884, penalty=l1, total=   0.0s\n",
            "[CV] C=12.91549665014884, penalty=l1 .................................\n",
            "[CV] .................. C=12.91549665014884, penalty=l1, total=   0.0s\n",
            "[CV] C=12.91549665014884, penalty=l1 .................................\n",
            "[CV] .................. C=12.91549665014884, penalty=l1, total=   0.0s\n",
            "[CV] C=12.91549665014884, penalty=l1 .................................\n",
            "[CV] .................. C=12.91549665014884, penalty=l1, total=   0.0s\n",
            "[CV] C=12.91549665014884, penalty=l1 .................................\n",
            "[CV] .................. C=12.91549665014884, penalty=l1, total=   0.0s\n",
            "[CV] C=12.91549665014884, penalty=l1 .................................\n",
            "[CV] .................. C=12.91549665014884, penalty=l1, total=   0.0s\n",
            "[CV] C=12.91549665014884, penalty=l1 .................................\n",
            "[CV] .................. C=12.91549665014884, penalty=l1, total=   0.0s\n",
            "[CV] C=12.91549665014884, penalty=l1 .................................\n",
            "[CV] .................. C=12.91549665014884, penalty=l1, total=   0.0s\n",
            "[CV] C=12.91549665014884, penalty=l1 .................................\n",
            "[CV] .................. C=12.91549665014884, penalty=l1, total=   0.0s\n",
            "[CV] C=12.91549665014884, penalty=l1 .................................\n",
            "[CV] .................. C=12.91549665014884, penalty=l1, total=   0.0s\n",
            "[CV] C=12.91549665014884, penalty=l1 .................................\n",
            "[CV] .................. C=12.91549665014884, penalty=l1, total=   0.0s\n",
            "[CV] C=12.91549665014884, penalty=l1 .................................\n",
            "[CV] .................. C=12.91549665014884, penalty=l1, total=   0.0s\n",
            "[CV] C=12.91549665014884, penalty=l1 .................................\n",
            "[CV] .................. C=12.91549665014884, penalty=l1, total=   0.0s\n",
            "[CV] C=12.91549665014884, penalty=l1 .................................\n",
            "[CV] .................. C=12.91549665014884, penalty=l1, total=   0.0s\n",
            "[CV] C=12.91549665014884, penalty=l1 .................................\n",
            "[CV] .................. C=12.91549665014884, penalty=l1, total=   0.0s\n",
            "[CV] C=12.91549665014884, penalty=l1 .................................\n",
            "[CV] .................. C=12.91549665014884, penalty=l1, total=   0.0s\n",
            "[CV] C=12.91549665014884, penalty=l1 .................................\n",
            "[CV] .................. C=12.91549665014884, penalty=l1, total=   0.0s\n",
            "[CV] C=12.91549665014884, penalty=l1 .................................\n",
            "[CV] .................. C=12.91549665014884, penalty=l1, total=   0.0s\n",
            "[CV] C=12.91549665014884, penalty=l1 .................................\n",
            "[CV] .................. C=12.91549665014884, penalty=l1, total=   0.0s\n",
            "[CV] C=12.91549665014884, penalty=l1 .................................\n",
            "[CV] .................. C=12.91549665014884, penalty=l1, total=   0.0s\n",
            "[CV] C=12.91549665014884, penalty=l2 .................................\n",
            "[CV] .................. C=12.91549665014884, penalty=l2, total=   0.0s\n",
            "[CV] C=12.91549665014884, penalty=l2 .................................\n",
            "[CV] .................. C=12.91549665014884, penalty=l2, total=   0.0s\n",
            "[CV] C=12.91549665014884, penalty=l2 .................................\n",
            "[CV] .................. C=12.91549665014884, penalty=l2, total=   0.0s\n",
            "[CV] C=12.91549665014884, penalty=l2 .................................\n",
            "[CV] .................. C=12.91549665014884, penalty=l2, total=   0.0s\n",
            "[CV] C=12.91549665014884, penalty=l2 .................................\n",
            "[CV] .................. C=12.91549665014884, penalty=l2, total=   0.0s\n",
            "[CV] C=12.91549665014884, penalty=l2 .................................\n",
            "[CV] .................. C=12.91549665014884, penalty=l2, total=   0.0s\n",
            "[CV] C=12.91549665014884, penalty=l2 .................................\n",
            "[CV] .................. C=12.91549665014884, penalty=l2, total=   0.0s\n",
            "[CV] C=12.91549665014884, penalty=l2 .................................\n",
            "[CV] .................. C=12.91549665014884, penalty=l2, total=   0.0s\n",
            "[CV] C=12.91549665014884, penalty=l2 .................................\n",
            "[CV] .................. C=12.91549665014884, penalty=l2, total=   0.0s\n",
            "[CV] C=12.91549665014884, penalty=l2 .................................\n",
            "[CV] .................. C=12.91549665014884, penalty=l2, total=   0.0s\n",
            "[CV] C=12.91549665014884, penalty=l2 .................................\n",
            "[CV] .................. C=12.91549665014884, penalty=l2, total=   0.0s\n",
            "[CV] C=12.91549665014884, penalty=l2 .................................\n",
            "[CV] .................. C=12.91549665014884, penalty=l2, total=   0.0s\n",
            "[CV] C=12.91549665014884, penalty=l2 .................................\n",
            "[CV] .................. C=12.91549665014884, penalty=l2, total=   0.0s\n",
            "[CV] C=12.91549665014884, penalty=l2 .................................\n",
            "[CV] .................. C=12.91549665014884, penalty=l2, total=   0.0s\n",
            "[CV] C=12.91549665014884, penalty=l2 .................................\n",
            "[CV] .................. C=12.91549665014884, penalty=l2, total=   0.0s\n",
            "[CV] C=12.91549665014884, penalty=l2 .................................\n",
            "[CV] .................. C=12.91549665014884, penalty=l2, total=   0.0s\n",
            "[CV] C=12.91549665014884, penalty=l2 .................................\n",
            "[CV] .................. C=12.91549665014884, penalty=l2, total=   0.0s\n",
            "[CV] C=12.91549665014884, penalty=l2 .................................\n",
            "[CV] .................. C=12.91549665014884, penalty=l2, total=   0.0s\n",
            "[CV] C=12.91549665014884, penalty=l2 .................................\n",
            "[CV] .................. C=12.91549665014884, penalty=l2, total=   0.0s\n",
            "[CV] C=12.91549665014884, penalty=l2 .................................\n",
            "[CV] .................. C=12.91549665014884, penalty=l2, total=   0.0s\n",
            "[CV] C=46.4158883361278, penalty=l1 ..................................\n",
            "[CV] ................... C=46.4158883361278, penalty=l1, total=   0.0s\n",
            "[CV] C=46.4158883361278, penalty=l1 ..................................\n",
            "[CV] ................... C=46.4158883361278, penalty=l1, total=   0.0s\n",
            "[CV] C=46.4158883361278, penalty=l1 ..................................\n",
            "[CV] ................... C=46.4158883361278, penalty=l1, total=   0.0s\n",
            "[CV] C=46.4158883361278, penalty=l1 ..................................\n",
            "[CV] ................... C=46.4158883361278, penalty=l1, total=   0.0s\n",
            "[CV] C=46.4158883361278, penalty=l1 ..................................\n",
            "[CV] ................... C=46.4158883361278, penalty=l1, total=   0.0s\n",
            "[CV] C=46.4158883361278, penalty=l1 ..................................\n",
            "[CV] ................... C=46.4158883361278, penalty=l1, total=   0.0s\n",
            "[CV] C=46.4158883361278, penalty=l1 ..................................\n",
            "[CV] ................... C=46.4158883361278, penalty=l1, total=   0.0s\n",
            "[CV] C=46.4158883361278, penalty=l1 ..................................\n",
            "[CV] ................... C=46.4158883361278, penalty=l1, total=   0.0s\n",
            "[CV] C=46.4158883361278, penalty=l1 ..................................\n",
            "[CV] ................... C=46.4158883361278, penalty=l1, total=   0.0s\n",
            "[CV] C=46.4158883361278, penalty=l1 ..................................\n",
            "[CV] ................... C=46.4158883361278, penalty=l1, total=   0.0s\n",
            "[CV] C=46.4158883361278, penalty=l1 ..................................\n",
            "[CV] ................... C=46.4158883361278, penalty=l1, total=   0.0s\n",
            "[CV] C=46.4158883361278, penalty=l1 ..................................\n",
            "[CV] ................... C=46.4158883361278, penalty=l1, total=   0.0s\n",
            "[CV] C=46.4158883361278, penalty=l1 ..................................\n",
            "[CV] ................... C=46.4158883361278, penalty=l1, total=   0.0s\n",
            "[CV] C=46.4158883361278, penalty=l1 ..................................\n",
            "[CV] ................... C=46.4158883361278, penalty=l1, total=   0.0s\n",
            "[CV] C=46.4158883361278, penalty=l1 ..................................\n",
            "[CV] ................... C=46.4158883361278, penalty=l1, total=   0.0s\n",
            "[CV] C=46.4158883361278, penalty=l1 ..................................\n",
            "[CV] ................... C=46.4158883361278, penalty=l1, total=   0.0s\n",
            "[CV] C=46.4158883361278, penalty=l1 ..................................\n",
            "[CV] ................... C=46.4158883361278, penalty=l1, total=   0.0s\n",
            "[CV] C=46.4158883361278, penalty=l1 ..................................\n",
            "[CV] ................... C=46.4158883361278, penalty=l1, total=   0.0s\n",
            "[CV] C=46.4158883361278, penalty=l1 ..................................\n",
            "[CV] ................... C=46.4158883361278, penalty=l1, total=   0.0s\n",
            "[CV] C=46.4158883361278, penalty=l1 ..................................\n",
            "[CV] ................... C=46.4158883361278, penalty=l1, total=   0.0s\n",
            "[CV] C=46.4158883361278, penalty=l2 ..................................\n",
            "[CV] ................... C=46.4158883361278, penalty=l2, total=   0.0s\n",
            "[CV] C=46.4158883361278, penalty=l2 ..................................\n",
            "[CV] ................... C=46.4158883361278, penalty=l2, total=   0.0s\n",
            "[CV] C=46.4158883361278, penalty=l2 ..................................\n",
            "[CV] ................... C=46.4158883361278, penalty=l2, total=   0.0s\n",
            "[CV] C=46.4158883361278, penalty=l2 ..................................\n",
            "[CV] ................... C=46.4158883361278, penalty=l2, total=   0.0s\n",
            "[CV] C=46.4158883361278, penalty=l2 ..................................\n",
            "[CV] ................... C=46.4158883361278, penalty=l2, total=   0.0s\n",
            "[CV] C=46.4158883361278, penalty=l2 ..................................\n",
            "[CV] ................... C=46.4158883361278, penalty=l2, total=   0.0s\n",
            "[CV] C=46.4158883361278, penalty=l2 ..................................\n",
            "[CV] ................... C=46.4158883361278, penalty=l2, total=   0.0s\n",
            "[CV] C=46.4158883361278, penalty=l2 ..................................\n",
            "[CV] ................... C=46.4158883361278, penalty=l2, total=   0.0s\n",
            "[CV] C=46.4158883361278, penalty=l2 ..................................\n",
            "[CV] ................... C=46.4158883361278, penalty=l2, total=   0.0s\n",
            "[CV] C=46.4158883361278, penalty=l2 ..................................\n",
            "[CV] ................... C=46.4158883361278, penalty=l2, total=   0.0s\n",
            "[CV] C=46.4158883361278, penalty=l2 ..................................\n",
            "[CV] ................... C=46.4158883361278, penalty=l2, total=   0.0s\n",
            "[CV] C=46.4158883361278, penalty=l2 ..................................\n",
            "[CV] ................... C=46.4158883361278, penalty=l2, total=   0.0s\n",
            "[CV] C=46.4158883361278, penalty=l2 ..................................\n",
            "[CV] ................... C=46.4158883361278, penalty=l2, total=   0.0s\n",
            "[CV] C=46.4158883361278, penalty=l2 ..................................\n",
            "[CV] ................... C=46.4158883361278, penalty=l2, total=   0.0s\n",
            "[CV] C=46.4158883361278, penalty=l2 ..................................\n",
            "[CV] ................... C=46.4158883361278, penalty=l2, total=   0.0s\n",
            "[CV] C=46.4158883361278, penalty=l2 ..................................\n",
            "[CV] ................... C=46.4158883361278, penalty=l2, total=   0.0s\n",
            "[CV] C=46.4158883361278, penalty=l2 ..................................\n",
            "[CV] ................... C=46.4158883361278, penalty=l2, total=   0.0s\n",
            "[CV] C=46.4158883361278, penalty=l2 ..................................\n",
            "[CV] ................... C=46.4158883361278, penalty=l2, total=   0.0s\n",
            "[CV] C=46.4158883361278, penalty=l2 ..................................\n",
            "[CV] ................... C=46.4158883361278, penalty=l2, total=   0.0s\n",
            "[CV] C=46.4158883361278, penalty=l2 ..................................\n",
            "[CV] ................... C=46.4158883361278, penalty=l2, total=   0.0s\n",
            "[CV] C=166.81005372000593, penalty=l1 ................................\n",
            "[CV] ................. C=166.81005372000593, penalty=l1, total=   0.0s\n",
            "[CV] C=166.81005372000593, penalty=l1 ................................\n",
            "[CV] ................. C=166.81005372000593, penalty=l1, total=   0.0s\n",
            "[CV] C=166.81005372000593, penalty=l1 ................................\n",
            "[CV] ................. C=166.81005372000593, penalty=l1, total=   0.0s\n",
            "[CV] C=166.81005372000593, penalty=l1 ................................\n",
            "[CV] ................. C=166.81005372000593, penalty=l1, total=   0.0s\n",
            "[CV] C=166.81005372000593, penalty=l1 ................................\n",
            "[CV] ................. C=166.81005372000593, penalty=l1, total=   0.0s\n",
            "[CV] C=166.81005372000593, penalty=l1 ................................\n",
            "[CV] ................. C=166.81005372000593, penalty=l1, total=   0.0s\n",
            "[CV] C=166.81005372000593, penalty=l1 ................................\n",
            "[CV] ................. C=166.81005372000593, penalty=l1, total=   0.0s\n",
            "[CV] C=166.81005372000593, penalty=l1 ................................\n",
            "[CV] ................. C=166.81005372000593, penalty=l1, total=   0.0s\n",
            "[CV] C=166.81005372000593, penalty=l1 ................................\n",
            "[CV] ................. C=166.81005372000593, penalty=l1, total=   0.0s\n",
            "[CV] C=166.81005372000593, penalty=l1 ................................\n",
            "[CV] ................. C=166.81005372000593, penalty=l1, total=   0.0s\n",
            "[CV] C=166.81005372000593, penalty=l1 ................................\n",
            "[CV] ................. C=166.81005372000593, penalty=l1, total=   0.0s\n",
            "[CV] C=166.81005372000593, penalty=l1 ................................\n",
            "[CV] ................. C=166.81005372000593, penalty=l1, total=   0.0s\n",
            "[CV] C=166.81005372000593, penalty=l1 ................................\n",
            "[CV] ................. C=166.81005372000593, penalty=l1, total=   0.0s\n",
            "[CV] C=166.81005372000593, penalty=l1 ................................\n",
            "[CV] ................. C=166.81005372000593, penalty=l1, total=   0.0s\n",
            "[CV] C=166.81005372000593, penalty=l1 ................................\n",
            "[CV] ................. C=166.81005372000593, penalty=l1, total=   0.0s\n",
            "[CV] C=166.81005372000593, penalty=l1 ................................\n",
            "[CV] ................. C=166.81005372000593, penalty=l1, total=   0.0s\n",
            "[CV] C=166.81005372000593, penalty=l1 ................................\n",
            "[CV] ................. C=166.81005372000593, penalty=l1, total=   0.0s\n",
            "[CV] C=166.81005372000593, penalty=l1 ................................\n",
            "[CV] ................. C=166.81005372000593, penalty=l1, total=   0.0s\n",
            "[CV] C=166.81005372000593, penalty=l1 ................................\n",
            "[CV] ................. C=166.81005372000593, penalty=l1, total=   0.0s\n",
            "[CV] C=166.81005372000593, penalty=l1 ................................\n",
            "[CV] ................. C=166.81005372000593, penalty=l1, total=   0.0s\n",
            "[CV] C=166.81005372000593, penalty=l2 ................................\n",
            "[CV] ................. C=166.81005372000593, penalty=l2, total=   0.0s\n",
            "[CV] C=166.81005372000593, penalty=l2 ................................\n",
            "[CV] ................. C=166.81005372000593, penalty=l2, total=   0.0s\n",
            "[CV] C=166.81005372000593, penalty=l2 ................................\n",
            "[CV] ................. C=166.81005372000593, penalty=l2, total=   0.0s\n",
            "[CV] C=166.81005372000593, penalty=l2 ................................\n",
            "[CV] ................. C=166.81005372000593, penalty=l2, total=   0.0s\n",
            "[CV] C=166.81005372000593, penalty=l2 ................................\n",
            "[CV] ................. C=166.81005372000593, penalty=l2, total=   0.0s\n",
            "[CV] C=166.81005372000593, penalty=l2 ................................\n",
            "[CV] ................. C=166.81005372000593, penalty=l2, total=   0.0s\n",
            "[CV] C=166.81005372000593, penalty=l2 ................................\n",
            "[CV] ................. C=166.81005372000593, penalty=l2, total=   0.0s\n",
            "[CV] C=166.81005372000593, penalty=l2 ................................\n",
            "[CV] ................. C=166.81005372000593, penalty=l2, total=   0.0s\n",
            "[CV] C=166.81005372000593, penalty=l2 ................................\n",
            "[CV] ................. C=166.81005372000593, penalty=l2, total=   0.0s\n",
            "[CV] C=166.81005372000593, penalty=l2 ................................\n",
            "[CV] ................. C=166.81005372000593, penalty=l2, total=   0.0s\n",
            "[CV] C=166.81005372000593, penalty=l2 ................................\n",
            "[CV] ................. C=166.81005372000593, penalty=l2, total=   0.0s\n",
            "[CV] C=166.81005372000593, penalty=l2 ................................\n",
            "[CV] ................. C=166.81005372000593, penalty=l2, total=   0.0s\n",
            "[CV] C=166.81005372000593, penalty=l2 ................................\n",
            "[CV] ................. C=166.81005372000593, penalty=l2, total=   0.0s\n",
            "[CV] C=166.81005372000593, penalty=l2 ................................\n",
            "[CV] ................. C=166.81005372000593, penalty=l2, total=   0.0s\n",
            "[CV] C=166.81005372000593, penalty=l2 ................................\n",
            "[CV] ................. C=166.81005372000593, penalty=l2, total=   0.0s\n",
            "[CV] C=166.81005372000593, penalty=l2 ................................\n",
            "[CV] ................. C=166.81005372000593, penalty=l2, total=   0.0s\n",
            "[CV] C=166.81005372000593, penalty=l2 ................................\n",
            "[CV] ................. C=166.81005372000593, penalty=l2, total=   0.0s\n",
            "[CV] C=166.81005372000593, penalty=l2 ................................\n",
            "[CV] ................. C=166.81005372000593, penalty=l2, total=   0.0s\n",
            "[CV] C=166.81005372000593, penalty=l2 ................................\n",
            "[CV] ................. C=166.81005372000593, penalty=l2, total=   0.0s\n",
            "[CV] C=166.81005372000593, penalty=l2 ................................\n",
            "[CV] ................. C=166.81005372000593, penalty=l2, total=   0.0s\n",
            "[CV] C=599.4842503189409, penalty=l1 .................................\n",
            "[CV] .................. C=599.4842503189409, penalty=l1, total=   0.0s\n",
            "[CV] C=599.4842503189409, penalty=l1 .................................\n",
            "[CV] .................. C=599.4842503189409, penalty=l1, total=   0.0s\n",
            "[CV] C=599.4842503189409, penalty=l1 .................................\n",
            "[CV] .................. C=599.4842503189409, penalty=l1, total=   0.0s\n",
            "[CV] C=599.4842503189409, penalty=l1 .................................\n",
            "[CV] .................. C=599.4842503189409, penalty=l1, total=   0.0s\n",
            "[CV] C=599.4842503189409, penalty=l1 .................................\n",
            "[CV] .................. C=599.4842503189409, penalty=l1, total=   0.0s\n",
            "[CV] C=599.4842503189409, penalty=l1 .................................\n",
            "[CV] .................. C=599.4842503189409, penalty=l1, total=   0.0s\n",
            "[CV] C=599.4842503189409, penalty=l1 .................................\n",
            "[CV] .................. C=599.4842503189409, penalty=l1, total=   0.0s\n",
            "[CV] C=599.4842503189409, penalty=l1 .................................\n",
            "[CV] .................. C=599.4842503189409, penalty=l1, total=   0.0s\n",
            "[CV] C=599.4842503189409, penalty=l1 .................................\n",
            "[CV] .................. C=599.4842503189409, penalty=l1, total=   0.0s\n",
            "[CV] C=599.4842503189409, penalty=l1 .................................\n",
            "[CV] .................. C=599.4842503189409, penalty=l1, total=   0.0s\n",
            "[CV] C=599.4842503189409, penalty=l1 .................................\n",
            "[CV] .................. C=599.4842503189409, penalty=l1, total=   0.0s\n",
            "[CV] C=599.4842503189409, penalty=l1 .................................\n",
            "[CV] .................. C=599.4842503189409, penalty=l1, total=   0.0s\n",
            "[CV] C=599.4842503189409, penalty=l1 .................................\n",
            "[CV] .................. C=599.4842503189409, penalty=l1, total=   0.0s\n",
            "[CV] C=599.4842503189409, penalty=l1 .................................\n",
            "[CV] .................. C=599.4842503189409, penalty=l1, total=   0.0s\n",
            "[CV] C=599.4842503189409, penalty=l1 .................................\n",
            "[CV] .................. C=599.4842503189409, penalty=l1, total=   0.0s\n",
            "[CV] C=599.4842503189409, penalty=l1 .................................\n",
            "[CV] .................. C=599.4842503189409, penalty=l1, total=   0.0s\n",
            "[CV] C=599.4842503189409, penalty=l1 .................................\n",
            "[CV] .................. C=599.4842503189409, penalty=l1, total=   0.0s\n",
            "[CV] C=599.4842503189409, penalty=l1 .................................\n",
            "[CV] .................. C=599.4842503189409, penalty=l1, total=   0.0s\n",
            "[CV] C=599.4842503189409, penalty=l1 .................................\n",
            "[CV] .................. C=599.4842503189409, penalty=l1, total=   0.0s\n",
            "[CV] C=599.4842503189409, penalty=l1 .................................\n",
            "[CV] .................. C=599.4842503189409, penalty=l1, total=   0.0s\n",
            "[CV] C=599.4842503189409, penalty=l2 .................................\n",
            "[CV] .................. C=599.4842503189409, penalty=l2, total=   0.0s\n",
            "[CV] C=599.4842503189409, penalty=l2 .................................\n",
            "[CV] .................. C=599.4842503189409, penalty=l2, total=   0.0s\n",
            "[CV] C=599.4842503189409, penalty=l2 .................................\n",
            "[CV] .................. C=599.4842503189409, penalty=l2, total=   0.0s\n",
            "[CV] C=599.4842503189409, penalty=l2 .................................\n",
            "[CV] .................. C=599.4842503189409, penalty=l2, total=   0.0s\n",
            "[CV] C=599.4842503189409, penalty=l2 .................................\n",
            "[CV] .................. C=599.4842503189409, penalty=l2, total=   0.0s\n",
            "[CV] C=599.4842503189409, penalty=l2 .................................\n",
            "[CV] .................. C=599.4842503189409, penalty=l2, total=   0.0s\n",
            "[CV] C=599.4842503189409, penalty=l2 .................................\n",
            "[CV] .................. C=599.4842503189409, penalty=l2, total=   0.0s\n",
            "[CV] C=599.4842503189409, penalty=l2 .................................\n",
            "[CV] .................. C=599.4842503189409, penalty=l2, total=   0.0s\n",
            "[CV] C=599.4842503189409, penalty=l2 .................................\n",
            "[CV] .................. C=599.4842503189409, penalty=l2, total=   0.0s\n",
            "[CV] C=599.4842503189409, penalty=l2 .................................\n",
            "[CV] .................. C=599.4842503189409, penalty=l2, total=   0.0s\n",
            "[CV] C=599.4842503189409, penalty=l2 .................................\n",
            "[CV] .................. C=599.4842503189409, penalty=l2, total=   0.0s\n",
            "[CV] C=599.4842503189409, penalty=l2 .................................\n",
            "[CV] .................. C=599.4842503189409, penalty=l2, total=   0.0s\n",
            "[CV] C=599.4842503189409, penalty=l2 .................................\n",
            "[CV] .................. C=599.4842503189409, penalty=l2, total=   0.0s\n",
            "[CV] C=599.4842503189409, penalty=l2 .................................\n",
            "[CV] .................. C=599.4842503189409, penalty=l2, total=   0.0s\n",
            "[CV] C=599.4842503189409, penalty=l2 .................................\n",
            "[CV] .................. C=599.4842503189409, penalty=l2, total=   0.0s\n",
            "[CV] C=599.4842503189409, penalty=l2 .................................\n",
            "[CV] .................. C=599.4842503189409, penalty=l2, total=   0.0s\n",
            "[CV] C=599.4842503189409, penalty=l2 .................................\n",
            "[CV] .................. C=599.4842503189409, penalty=l2, total=   0.0s\n",
            "[CV] C=599.4842503189409, penalty=l2 .................................\n",
            "[CV] .................. C=599.4842503189409, penalty=l2, total=   0.0s\n",
            "[CV] C=599.4842503189409, penalty=l2 .................................\n",
            "[CV] .................. C=599.4842503189409, penalty=l2, total=   0.0s\n",
            "[CV] C=599.4842503189409, penalty=l2 .................................\n",
            "[CV] .................. C=599.4842503189409, penalty=l2, total=   0.0s\n",
            "[CV] C=2154.4346900318847, penalty=l1 ................................\n",
            "[CV] ................. C=2154.4346900318847, penalty=l1, total=   0.0s\n",
            "[CV] C=2154.4346900318847, penalty=l1 ................................\n",
            "[CV] ................. C=2154.4346900318847, penalty=l1, total=   0.0s\n",
            "[CV] C=2154.4346900318847, penalty=l1 ................................\n",
            "[CV] ................. C=2154.4346900318847, penalty=l1, total=   0.0s\n",
            "[CV] C=2154.4346900318847, penalty=l1 ................................\n",
            "[CV] ................. C=2154.4346900318847, penalty=l1, total=   0.0s\n",
            "[CV] C=2154.4346900318847, penalty=l1 ................................\n",
            "[CV] ................. C=2154.4346900318847, penalty=l1, total=   0.0s\n",
            "[CV] C=2154.4346900318847, penalty=l1 ................................\n",
            "[CV] ................. C=2154.4346900318847, penalty=l1, total=   0.0s\n",
            "[CV] C=2154.4346900318847, penalty=l1 ................................\n",
            "[CV] ................. C=2154.4346900318847, penalty=l1, total=   0.0s\n",
            "[CV] C=2154.4346900318847, penalty=l1 ................................\n",
            "[CV] ................. C=2154.4346900318847, penalty=l1, total=   0.0s\n",
            "[CV] C=2154.4346900318847, penalty=l1 ................................\n",
            "[CV] ................. C=2154.4346900318847, penalty=l1, total=   0.0s\n",
            "[CV] C=2154.4346900318847, penalty=l1 ................................\n",
            "[CV] ................. C=2154.4346900318847, penalty=l1, total=   0.0s\n",
            "[CV] C=2154.4346900318847, penalty=l1 ................................\n",
            "[CV] ................. C=2154.4346900318847, penalty=l1, total=   0.0s\n",
            "[CV] C=2154.4346900318847, penalty=l1 ................................\n",
            "[CV] ................. C=2154.4346900318847, penalty=l1, total=   0.0s\n",
            "[CV] C=2154.4346900318847, penalty=l1 ................................\n",
            "[CV] ................. C=2154.4346900318847, penalty=l1, total=   0.0s\n",
            "[CV] C=2154.4346900318847, penalty=l1 ................................\n",
            "[CV] ................. C=2154.4346900318847, penalty=l1, total=   0.0s\n",
            "[CV] C=2154.4346900318847, penalty=l1 ................................\n",
            "[CV] ................. C=2154.4346900318847, penalty=l1, total=   0.0s\n",
            "[CV] C=2154.4346900318847, penalty=l1 ................................\n",
            "[CV] ................. C=2154.4346900318847, penalty=l1, total=   0.0s\n",
            "[CV] C=2154.4346900318847, penalty=l1 ................................\n",
            "[CV] ................. C=2154.4346900318847, penalty=l1, total=   0.0s\n",
            "[CV] C=2154.4346900318847, penalty=l1 ................................\n",
            "[CV] ................. C=2154.4346900318847, penalty=l1, total=   0.0s\n",
            "[CV] C=2154.4346900318847, penalty=l1 ................................\n",
            "[CV] ................. C=2154.4346900318847, penalty=l1, total=   0.0s\n",
            "[CV] C=2154.4346900318847, penalty=l1 ................................\n",
            "[CV] ................. C=2154.4346900318847, penalty=l1, total=   0.0s\n",
            "[CV] C=2154.4346900318847, penalty=l2 ................................\n",
            "[CV] ................. C=2154.4346900318847, penalty=l2, total=   0.0s\n",
            "[CV] C=2154.4346900318847, penalty=l2 ................................\n",
            "[CV] ................. C=2154.4346900318847, penalty=l2, total=   0.0s\n",
            "[CV] C=2154.4346900318847, penalty=l2 ................................\n",
            "[CV] ................. C=2154.4346900318847, penalty=l2, total=   0.0s\n",
            "[CV] C=2154.4346900318847, penalty=l2 ................................\n",
            "[CV] ................. C=2154.4346900318847, penalty=l2, total=   0.0s\n",
            "[CV] C=2154.4346900318847, penalty=l2 ................................\n",
            "[CV] ................. C=2154.4346900318847, penalty=l2, total=   0.0s\n",
            "[CV] C=2154.4346900318847, penalty=l2 ................................\n",
            "[CV] ................. C=2154.4346900318847, penalty=l2, total=   0.0s\n",
            "[CV] C=2154.4346900318847, penalty=l2 ................................\n",
            "[CV] ................. C=2154.4346900318847, penalty=l2, total=   0.0s\n",
            "[CV] C=2154.4346900318847, penalty=l2 ................................\n",
            "[CV] ................. C=2154.4346900318847, penalty=l2, total=   0.0s\n",
            "[CV] C=2154.4346900318847, penalty=l2 ................................\n",
            "[CV] ................. C=2154.4346900318847, penalty=l2, total=   0.0s\n",
            "[CV] C=2154.4346900318847, penalty=l2 ................................\n",
            "[CV] ................. C=2154.4346900318847, penalty=l2, total=   0.0s\n",
            "[CV] C=2154.4346900318847, penalty=l2 ................................\n",
            "[CV] ................. C=2154.4346900318847, penalty=l2, total=   0.0s\n",
            "[CV] C=2154.4346900318847, penalty=l2 ................................\n",
            "[CV] ................. C=2154.4346900318847, penalty=l2, total=   0.0s\n",
            "[CV] C=2154.4346900318847, penalty=l2 ................................\n",
            "[CV] ................. C=2154.4346900318847, penalty=l2, total=   0.0s\n",
            "[CV] C=2154.4346900318847, penalty=l2 ................................\n",
            "[CV] ................. C=2154.4346900318847, penalty=l2, total=   0.0s\n",
            "[CV] C=2154.4346900318847, penalty=l2 ................................\n",
            "[CV] ................. C=2154.4346900318847, penalty=l2, total=   0.0s\n",
            "[CV] C=2154.4346900318847, penalty=l2 ................................\n",
            "[CV] ................. C=2154.4346900318847, penalty=l2, total=   0.0s\n",
            "[CV] C=2154.4346900318847, penalty=l2 ................................\n",
            "[CV] ................. C=2154.4346900318847, penalty=l2, total=   0.0s\n",
            "[CV] C=2154.4346900318847, penalty=l2 ................................\n",
            "[CV] ................. C=2154.4346900318847, penalty=l2, total=   0.0s\n",
            "[CV] C=2154.4346900318847, penalty=l2 ................................\n",
            "[CV] ................. C=2154.4346900318847, penalty=l2, total=   0.0s\n",
            "[CV] C=2154.4346900318847, penalty=l2 ................................\n",
            "[CV] ................. C=2154.4346900318847, penalty=l2, total=   0.0s\n",
            "[CV] C=7742.636826811277, penalty=l1 .................................\n",
            "[CV] .................. C=7742.636826811277, penalty=l1, total=   0.0s\n",
            "[CV] C=7742.636826811277, penalty=l1 .................................\n",
            "[CV] .................. C=7742.636826811277, penalty=l1, total=   0.0s\n",
            "[CV] C=7742.636826811277, penalty=l1 .................................\n",
            "[CV] .................. C=7742.636826811277, penalty=l1, total=   0.0s\n",
            "[CV] C=7742.636826811277, penalty=l1 .................................\n",
            "[CV] .................. C=7742.636826811277, penalty=l1, total=   0.0s\n",
            "[CV] C=7742.636826811277, penalty=l1 .................................\n",
            "[CV] .................. C=7742.636826811277, penalty=l1, total=   0.0s\n",
            "[CV] C=7742.636826811277, penalty=l1 .................................\n",
            "[CV] .................. C=7742.636826811277, penalty=l1, total=   0.0s\n",
            "[CV] C=7742.636826811277, penalty=l1 .................................\n",
            "[CV] .................. C=7742.636826811277, penalty=l1, total=   0.0s\n",
            "[CV] C=7742.636826811277, penalty=l1 .................................\n",
            "[CV] .................. C=7742.636826811277, penalty=l1, total=   0.0s\n",
            "[CV] C=7742.636826811277, penalty=l1 .................................\n",
            "[CV] .................. C=7742.636826811277, penalty=l1, total=   0.0s\n",
            "[CV] C=7742.636826811277, penalty=l1 .................................\n",
            "[CV] .................. C=7742.636826811277, penalty=l1, total=   0.0s\n",
            "[CV] C=7742.636826811277, penalty=l1 .................................\n",
            "[CV] .................. C=7742.636826811277, penalty=l1, total=   0.0s\n",
            "[CV] C=7742.636826811277, penalty=l1 .................................\n",
            "[CV] .................. C=7742.636826811277, penalty=l1, total=   0.0s\n",
            "[CV] C=7742.636826811277, penalty=l1 .................................\n",
            "[CV] .................. C=7742.636826811277, penalty=l1, total=   0.0s\n",
            "[CV] C=7742.636826811277, penalty=l1 .................................\n",
            "[CV] .................. C=7742.636826811277, penalty=l1, total=   0.0s\n",
            "[CV] C=7742.636826811277, penalty=l1 .................................\n",
            "[CV] .................. C=7742.636826811277, penalty=l1, total=   0.0s\n",
            "[CV] C=7742.636826811277, penalty=l1 .................................\n",
            "[CV] .................. C=7742.636826811277, penalty=l1, total=   0.0s\n",
            "[CV] C=7742.636826811277, penalty=l1 .................................\n",
            "[CV] .................. C=7742.636826811277, penalty=l1, total=   0.0s\n",
            "[CV] C=7742.636826811277, penalty=l1 .................................\n",
            "[CV] .................. C=7742.636826811277, penalty=l1, total=   0.0s\n",
            "[CV] C=7742.636826811277, penalty=l1 .................................\n",
            "[CV] .................. C=7742.636826811277, penalty=l1, total=   0.0s\n",
            "[CV] C=7742.636826811277, penalty=l1 .................................\n",
            "[CV] .................. C=7742.636826811277, penalty=l1, total=   0.0s\n",
            "[CV] C=7742.636826811277, penalty=l2 .................................\n",
            "[CV] .................. C=7742.636826811277, penalty=l2, total=   0.0s\n",
            "[CV] C=7742.636826811277, penalty=l2 .................................\n",
            "[CV] .................. C=7742.636826811277, penalty=l2, total=   0.0s\n",
            "[CV] C=7742.636826811277, penalty=l2 .................................\n",
            "[CV] .................. C=7742.636826811277, penalty=l2, total=   0.0s\n",
            "[CV] C=7742.636826811277, penalty=l2 .................................\n",
            "[CV] .................. C=7742.636826811277, penalty=l2, total=   0.0s\n",
            "[CV] C=7742.636826811277, penalty=l2 .................................\n",
            "[CV] .................. C=7742.636826811277, penalty=l2, total=   0.0s\n",
            "[CV] C=7742.636826811277, penalty=l2 .................................\n",
            "[CV] .................. C=7742.636826811277, penalty=l2, total=   0.0s\n",
            "[CV] C=7742.636826811277, penalty=l2 .................................\n",
            "[CV] .................. C=7742.636826811277, penalty=l2, total=   0.0s\n",
            "[CV] C=7742.636826811277, penalty=l2 .................................\n",
            "[CV] .................. C=7742.636826811277, penalty=l2, total=   0.0s\n",
            "[CV] C=7742.636826811277, penalty=l2 .................................\n",
            "[CV] .................. C=7742.636826811277, penalty=l2, total=   0.0s\n",
            "[CV] C=7742.636826811277, penalty=l2 .................................\n",
            "[CV] .................. C=7742.636826811277, penalty=l2, total=   0.0s\n",
            "[CV] C=7742.636826811277, penalty=l2 .................................\n",
            "[CV] .................. C=7742.636826811277, penalty=l2, total=   0.0s\n",
            "[CV] C=7742.636826811277, penalty=l2 .................................\n",
            "[CV] .................. C=7742.636826811277, penalty=l2, total=   0.0s\n",
            "[CV] C=7742.636826811277, penalty=l2 .................................\n",
            "[CV] .................. C=7742.636826811277, penalty=l2, total=   0.0s\n",
            "[CV] C=7742.636826811277, penalty=l2 .................................\n",
            "[CV] .................. C=7742.636826811277, penalty=l2, total=   0.0s\n",
            "[CV] C=7742.636826811277, penalty=l2 .................................\n",
            "[CV] .................. C=7742.636826811277, penalty=l2, total=   0.0s\n",
            "[CV] C=7742.636826811277, penalty=l2 .................................\n",
            "[CV] .................. C=7742.636826811277, penalty=l2, total=   0.0s\n",
            "[CV] C=7742.636826811277, penalty=l2 .................................\n",
            "[CV] .................. C=7742.636826811277, penalty=l2, total=   0.0s\n",
            "[CV] C=7742.636826811277, penalty=l2 .................................\n",
            "[CV] .................. C=7742.636826811277, penalty=l2, total=   0.0s\n",
            "[CV] C=7742.636826811277, penalty=l2 .................................\n",
            "[CV] .................. C=7742.636826811277, penalty=l2, total=   0.0s\n",
            "[CV] C=7742.636826811277, penalty=l2 .................................\n",
            "[CV] .................. C=7742.636826811277, penalty=l2, total=   0.0s\n",
            "[CV] C=27825.59402207126, penalty=l1 .................................\n",
            "[CV] .................. C=27825.59402207126, penalty=l1, total=   0.0s\n",
            "[CV] C=27825.59402207126, penalty=l1 .................................\n",
            "[CV] .................. C=27825.59402207126, penalty=l1, total=   0.0s\n",
            "[CV] C=27825.59402207126, penalty=l1 .................................\n",
            "[CV] .................. C=27825.59402207126, penalty=l1, total=   0.0s\n",
            "[CV] C=27825.59402207126, penalty=l1 .................................\n",
            "[CV] .................. C=27825.59402207126, penalty=l1, total=   0.0s\n",
            "[CV] C=27825.59402207126, penalty=l1 .................................\n",
            "[CV] .................. C=27825.59402207126, penalty=l1, total=   0.0s\n",
            "[CV] C=27825.59402207126, penalty=l1 .................................\n",
            "[CV] .................. C=27825.59402207126, penalty=l1, total=   0.0s\n",
            "[CV] C=27825.59402207126, penalty=l1 .................................\n",
            "[CV] .................. C=27825.59402207126, penalty=l1, total=   0.0s\n",
            "[CV] C=27825.59402207126, penalty=l1 .................................\n",
            "[CV] .................. C=27825.59402207126, penalty=l1, total=   0.0s\n",
            "[CV] C=27825.59402207126, penalty=l1 .................................\n",
            "[CV] .................. C=27825.59402207126, penalty=l1, total=   0.0s\n",
            "[CV] C=27825.59402207126, penalty=l1 .................................\n",
            "[CV] .................. C=27825.59402207126, penalty=l1, total=   0.0s\n",
            "[CV] C=27825.59402207126, penalty=l1 .................................\n",
            "[CV] .................. C=27825.59402207126, penalty=l1, total=   0.0s\n",
            "[CV] C=27825.59402207126, penalty=l1 .................................\n",
            "[CV] .................. C=27825.59402207126, penalty=l1, total=   0.0s\n",
            "[CV] C=27825.59402207126, penalty=l1 .................................\n",
            "[CV] .................. C=27825.59402207126, penalty=l1, total=   0.0s\n",
            "[CV] C=27825.59402207126, penalty=l1 .................................\n",
            "[CV] .................. C=27825.59402207126, penalty=l1, total=   0.0s\n",
            "[CV] C=27825.59402207126, penalty=l1 .................................\n",
            "[CV] .................. C=27825.59402207126, penalty=l1, total=   0.0s\n",
            "[CV] C=27825.59402207126, penalty=l1 .................................\n",
            "[CV] .................. C=27825.59402207126, penalty=l1, total=   0.0s\n",
            "[CV] C=27825.59402207126, penalty=l1 .................................\n",
            "[CV] .................. C=27825.59402207126, penalty=l1, total=   0.0s\n",
            "[CV] C=27825.59402207126, penalty=l1 .................................\n",
            "[CV] .................. C=27825.59402207126, penalty=l1, total=   0.0s\n",
            "[CV] C=27825.59402207126, penalty=l1 .................................\n",
            "[CV] .................. C=27825.59402207126, penalty=l1, total=   0.0s\n",
            "[CV] C=27825.59402207126, penalty=l1 .................................\n",
            "[CV] .................. C=27825.59402207126, penalty=l1, total=   0.0s\n",
            "[CV] C=27825.59402207126, penalty=l2 .................................\n",
            "[CV] .................. C=27825.59402207126, penalty=l2, total=   0.0s\n",
            "[CV] C=27825.59402207126, penalty=l2 .................................\n",
            "[CV] .................. C=27825.59402207126, penalty=l2, total=   0.0s\n",
            "[CV] C=27825.59402207126, penalty=l2 .................................\n",
            "[CV] .................. C=27825.59402207126, penalty=l2, total=   0.0s\n",
            "[CV] C=27825.59402207126, penalty=l2 .................................\n",
            "[CV] .................. C=27825.59402207126, penalty=l2, total=   0.0s\n",
            "[CV] C=27825.59402207126, penalty=l2 .................................\n",
            "[CV] .................. C=27825.59402207126, penalty=l2, total=   0.0s\n",
            "[CV] C=27825.59402207126, penalty=l2 .................................\n",
            "[CV] .................. C=27825.59402207126, penalty=l2, total=   0.0s\n",
            "[CV] C=27825.59402207126, penalty=l2 .................................\n",
            "[CV] .................. C=27825.59402207126, penalty=l2, total=   0.0s\n",
            "[CV] C=27825.59402207126, penalty=l2 .................................\n",
            "[CV] .................. C=27825.59402207126, penalty=l2, total=   0.0s\n",
            "[CV] C=27825.59402207126, penalty=l2 .................................\n",
            "[CV] .................. C=27825.59402207126, penalty=l2, total=   0.0s\n",
            "[CV] C=27825.59402207126, penalty=l2 .................................\n",
            "[CV] .................. C=27825.59402207126, penalty=l2, total=   0.0s\n",
            "[CV] C=27825.59402207126, penalty=l2 .................................\n",
            "[CV] .................. C=27825.59402207126, penalty=l2, total=   0.0s\n",
            "[CV] C=27825.59402207126, penalty=l2 .................................\n",
            "[CV] .................. C=27825.59402207126, penalty=l2, total=   0.0s\n",
            "[CV] C=27825.59402207126, penalty=l2 .................................\n",
            "[CV] .................. C=27825.59402207126, penalty=l2, total=   0.0s\n",
            "[CV] C=27825.59402207126, penalty=l2 .................................\n",
            "[CV] .................. C=27825.59402207126, penalty=l2, total=   0.0s\n",
            "[CV] C=27825.59402207126, penalty=l2 .................................\n",
            "[CV] .................. C=27825.59402207126, penalty=l2, total=   0.0s\n",
            "[CV] C=27825.59402207126, penalty=l2 .................................\n",
            "[CV] .................. C=27825.59402207126, penalty=l2, total=   0.0s\n",
            "[CV] C=27825.59402207126, penalty=l2 .................................\n",
            "[CV] .................. C=27825.59402207126, penalty=l2, total=   0.0s\n",
            "[CV] C=27825.59402207126, penalty=l2 .................................\n",
            "[CV] .................. C=27825.59402207126, penalty=l2, total=   0.0s\n",
            "[CV] C=27825.59402207126, penalty=l2 .................................\n",
            "[CV] .................. C=27825.59402207126, penalty=l2, total=   0.0s\n",
            "[CV] C=27825.59402207126, penalty=l2 .................................\n",
            "[CV] .................. C=27825.59402207126, penalty=l2, total=   0.0s\n",
            "[CV] C=100000.0, penalty=l1 ..........................................\n",
            "[CV] ........................... C=100000.0, penalty=l1, total=   0.0s\n",
            "[CV] C=100000.0, penalty=l1 ..........................................\n",
            "[CV] ........................... C=100000.0, penalty=l1, total=   0.0s\n",
            "[CV] C=100000.0, penalty=l1 ..........................................\n",
            "[CV] ........................... C=100000.0, penalty=l1, total=   0.0s\n",
            "[CV] C=100000.0, penalty=l1 ..........................................\n",
            "[CV] ........................... C=100000.0, penalty=l1, total=   0.0s\n",
            "[CV] C=100000.0, penalty=l1 ..........................................\n",
            "[CV] ........................... C=100000.0, penalty=l1, total=   0.0s\n",
            "[CV] C=100000.0, penalty=l1 ..........................................\n",
            "[CV] ........................... C=100000.0, penalty=l1, total=   0.0s\n",
            "[CV] C=100000.0, penalty=l1 ..........................................\n",
            "[CV] ........................... C=100000.0, penalty=l1, total=   0.0s\n",
            "[CV] C=100000.0, penalty=l1 ..........................................\n",
            "[CV] ........................... C=100000.0, penalty=l1, total=   0.0s\n",
            "[CV] C=100000.0, penalty=l1 ..........................................\n",
            "[CV] ........................... C=100000.0, penalty=l1, total=   0.0s\n",
            "[CV] C=100000.0, penalty=l1 ..........................................\n",
            "[CV] ........................... C=100000.0, penalty=l1, total=   0.0s\n",
            "[CV] C=100000.0, penalty=l1 ..........................................\n",
            "[CV] ........................... C=100000.0, penalty=l1, total=   0.0s\n",
            "[CV] C=100000.0, penalty=l1 ..........................................\n",
            "[CV] ........................... C=100000.0, penalty=l1, total=   0.0s\n",
            "[CV] C=100000.0, penalty=l1 ..........................................\n",
            "[CV] ........................... C=100000.0, penalty=l1, total=   0.0s\n",
            "[CV] C=100000.0, penalty=l1 ..........................................\n",
            "[CV] ........................... C=100000.0, penalty=l1, total=   0.0s\n",
            "[CV] C=100000.0, penalty=l1 ..........................................\n",
            "[CV] ........................... C=100000.0, penalty=l1, total=   0.0s\n",
            "[CV] C=100000.0, penalty=l1 ..........................................\n",
            "[CV] ........................... C=100000.0, penalty=l1, total=   0.0s\n",
            "[CV] C=100000.0, penalty=l1 ..........................................\n",
            "[CV] ........................... C=100000.0, penalty=l1, total=   0.0s\n",
            "[CV] C=100000.0, penalty=l1 ..........................................\n",
            "[CV] ........................... C=100000.0, penalty=l1, total=   0.0s\n",
            "[CV] C=100000.0, penalty=l1 ..........................................\n",
            "[CV] ........................... C=100000.0, penalty=l1, total=   0.0s\n",
            "[CV] C=100000.0, penalty=l1 ..........................................\n",
            "[CV] ........................... C=100000.0, penalty=l1, total=   0.0s\n",
            "[CV] C=100000.0, penalty=l2 ..........................................\n",
            "[CV] ........................... C=100000.0, penalty=l2, total=   0.0s\n",
            "[CV] C=100000.0, penalty=l2 ..........................................\n",
            "[CV] ........................... C=100000.0, penalty=l2, total=   0.0s\n",
            "[CV] C=100000.0, penalty=l2 ..........................................\n",
            "[CV] ........................... C=100000.0, penalty=l2, total=   0.0s\n",
            "[CV] C=100000.0, penalty=l2 ..........................................\n",
            "[CV] ........................... C=100000.0, penalty=l2, total=   0.0s\n",
            "[CV] C=100000.0, penalty=l2 ..........................................\n",
            "[CV] ........................... C=100000.0, penalty=l2, total=   0.0s\n",
            "[CV] C=100000.0, penalty=l2 ..........................................\n",
            "[CV] ........................... C=100000.0, penalty=l2, total=   0.0s\n",
            "[CV] C=100000.0, penalty=l2 ..........................................\n",
            "[CV] ........................... C=100000.0, penalty=l2, total=   0.0s\n",
            "[CV] C=100000.0, penalty=l2 ..........................................\n",
            "[CV] ........................... C=100000.0, penalty=l2, total=   0.0s\n",
            "[CV] C=100000.0, penalty=l2 ..........................................\n",
            "[CV] ........................... C=100000.0, penalty=l2, total=   0.0s\n",
            "[CV] C=100000.0, penalty=l2 ..........................................\n",
            "[CV] ........................... C=100000.0, penalty=l2, total=   0.0s\n",
            "[CV] C=100000.0, penalty=l2 ..........................................\n",
            "[CV] ........................... C=100000.0, penalty=l2, total=   0.0s\n",
            "[CV] C=100000.0, penalty=l2 ..........................................\n",
            "[CV] ........................... C=100000.0, penalty=l2, total=   0.0s\n",
            "[CV] C=100000.0, penalty=l2 ..........................................\n",
            "[CV] ........................... C=100000.0, penalty=l2, total=   0.0s\n",
            "[CV] C=100000.0, penalty=l2 ..........................................\n",
            "[CV] ........................... C=100000.0, penalty=l2, total=   0.0s\n",
            "[CV] C=100000.0, penalty=l2 ..........................................\n",
            "[CV] ........................... C=100000.0, penalty=l2, total=   0.0s\n",
            "[CV] C=100000.0, penalty=l2 ..........................................\n",
            "[CV] ........................... C=100000.0, penalty=l2, total=   0.0s\n",
            "[CV] C=100000.0, penalty=l2 ..........................................\n",
            "[CV] ........................... C=100000.0, penalty=l2, total=   0.0s\n",
            "[CV] C=100000.0, penalty=l2 ..........................................\n",
            "[CV] ........................... C=100000.0, penalty=l2, total=   0.0s\n",
            "[CV] C=100000.0, penalty=l2 ..........................................\n",
            "[CV] ........................... C=100000.0, penalty=l2, total=   0.0s\n",
            "[CV] C=100000.0, penalty=l2 ..........................................\n",
            "[CV] ........................... C=100000.0, penalty=l2, total=   0.0s\n",
            "Best Penalty: l2\n",
            "Best C: 599.48\n"
          ],
          "name": "stdout"
        },
        {
          "output_type": "stream",
          "text": [
            "[Parallel(n_jobs=1)]: Done 400 out of 400 | elapsed:    6.8s finished\n"
          ],
          "name": "stderr"
        }
      ]
    },
    {
      "cell_type": "code",
      "metadata": {
        "id": "AdcLvqs4aojC"
      },
      "source": [
        "y_pred_gs = best_model_clr.predict(X_test)\n",
        "cm_gs = confusion_matrix(y_true = y_test, y_pred=y_pred_gs)"
      ],
      "execution_count": 726,
      "outputs": []
    },
    {
      "cell_type": "code",
      "metadata": {
        "colab": {
          "base_uri": "https://localhost:8080/",
          "height": 111
        },
        "id": "AnQjZ1DxaslX",
        "outputId": "be05cf2b-6957-42f5-9c0b-a959440b287f"
      },
      "source": [
        "pd.DataFrame(cm_gs, index=best_model_clr.classes_, columns=best_model_clr.classes_)"
      ],
      "execution_count": 727,
      "outputs": [
        {
          "output_type": "execute_result",
          "data": {
            "text/html": [
              "<div>\n",
              "<style scoped>\n",
              "    .dataframe tbody tr th:only-of-type {\n",
              "        vertical-align: middle;\n",
              "    }\n",
              "\n",
              "    .dataframe tbody tr th {\n",
              "        vertical-align: top;\n",
              "    }\n",
              "\n",
              "    .dataframe thead th {\n",
              "        text-align: right;\n",
              "    }\n",
              "</style>\n",
              "<table border=\"1\" class=\"dataframe\">\n",
              "  <thead>\n",
              "    <tr style=\"text-align: right;\">\n",
              "      <th></th>\n",
              "      <th>0</th>\n",
              "      <th>1</th>\n",
              "    </tr>\n",
              "  </thead>\n",
              "  <tbody>\n",
              "    <tr>\n",
              "      <th>0</th>\n",
              "      <td>8</td>\n",
              "      <td>2</td>\n",
              "    </tr>\n",
              "    <tr>\n",
              "      <th>1</th>\n",
              "      <td>4</td>\n",
              "      <td>25</td>\n",
              "    </tr>\n",
              "  </tbody>\n",
              "</table>\n",
              "</div>"
            ],
            "text/plain": [
              "   0   1\n",
              "0  8   2\n",
              "1  4  25"
            ]
          },
          "metadata": {
            "tags": []
          },
          "execution_count": 727
        }
      ]
    },
    {
      "cell_type": "code",
      "metadata": {
        "id": "mTQOxzTbau1L"
      },
      "source": [
        "y_pred_lr = lr_model.predict(X_test)\n",
        "cm_gs = confusion_matrix(y_true = y_test, y_pred=y_pred_gs)"
      ],
      "execution_count": 728,
      "outputs": []
    },
    {
      "cell_type": "code",
      "metadata": {
        "colab": {
          "base_uri": "https://localhost:8080/"
        },
        "id": "CkrdcnIPccLk",
        "outputId": "b5587ee6-6dc3-45d2-b06d-05b2b9ca4bf2"
      },
      "source": [
        "print(classification_report(y_true=y_test,\n",
        "                            y_pred=y_pred_gs))"
      ],
      "execution_count": 729,
      "outputs": [
        {
          "output_type": "stream",
          "text": [
            "              precision    recall  f1-score   support\n",
            "\n",
            "           0       0.67      0.80      0.73        10\n",
            "           1       0.93      0.86      0.89        29\n",
            "\n",
            "    accuracy                           0.85        39\n",
            "   macro avg       0.80      0.83      0.81        39\n",
            "weighted avg       0.86      0.85      0.85        39\n",
            "\n"
          ],
          "name": "stdout"
        }
      ]
    },
    {
      "cell_type": "code",
      "metadata": {
        "colab": {
          "base_uri": "https://localhost:8080/"
        },
        "id": "vwZ7JCjMefVa",
        "outputId": "afe18ac2-bb48-4cbe-9c3a-6e47188834da"
      },
      "source": [
        "accuracy_score(y_true=y_test, y_pred= y_pred_gs)"
      ],
      "execution_count": 730,
      "outputs": [
        {
          "output_type": "execute_result",
          "data": {
            "text/plain": [
              "0.8461538461538461"
            ]
          },
          "metadata": {
            "tags": []
          },
          "execution_count": 730
        }
      ]
    },
    {
      "cell_type": "code",
      "metadata": {
        "colab": {
          "base_uri": "https://localhost:8080/",
          "height": 378
        },
        "id": "BlfPnwPnehJM",
        "outputId": "a2c6a3be-efa3-43eb-b700-3486a64aa954"
      },
      "source": [
        "Parkinsons_probs = pd.DataFrame(best_model_clr.predict_proba(X_train), \\\n",
        "                          columns=['P({})'.format(x) for x in best_model_clr.classes_], index=X_train.index)\n",
        "X_train = X_train.join(Parkinsons_probs)\n",
        "X_train.sample(10)"
      ],
      "execution_count": 731,
      "outputs": [
        {
          "output_type": "execute_result",
          "data": {
            "text/html": [
              "<div>\n",
              "<style scoped>\n",
              "    .dataframe tbody tr th:only-of-type {\n",
              "        vertical-align: middle;\n",
              "    }\n",
              "\n",
              "    .dataframe tbody tr th {\n",
              "        vertical-align: top;\n",
              "    }\n",
              "\n",
              "    .dataframe thead th {\n",
              "        text-align: right;\n",
              "    }\n",
              "</style>\n",
              "<table border=\"1\" class=\"dataframe\">\n",
              "  <thead>\n",
              "    <tr style=\"text-align: right;\">\n",
              "      <th></th>\n",
              "      <th>MDVP:Fo(Hz)</th>\n",
              "      <th>MDVP:Fhi(Hz)</th>\n",
              "      <th>MDVP:Flo(Hz)</th>\n",
              "      <th>MDVP:Jitter(%)</th>\n",
              "      <th>MDVP:Jitter(Abs)</th>\n",
              "      <th>MDVP:RAP</th>\n",
              "      <th>MDVP:PPQ</th>\n",
              "      <th>Jitter:DDP</th>\n",
              "      <th>MDVP:Shimmer</th>\n",
              "      <th>MDVP:Shimmer(dB)</th>\n",
              "      <th>Shimmer:APQ3</th>\n",
              "      <th>Shimmer:APQ5</th>\n",
              "      <th>MDVP:APQ</th>\n",
              "      <th>Shimmer:DDA</th>\n",
              "      <th>NHR</th>\n",
              "      <th>HNR</th>\n",
              "      <th>RPDE</th>\n",
              "      <th>DFA</th>\n",
              "      <th>spread1</th>\n",
              "      <th>spread2</th>\n",
              "      <th>D2</th>\n",
              "      <th>PPE</th>\n",
              "      <th>name_as_number</th>\n",
              "      <th>P(0)</th>\n",
              "      <th>P(1)</th>\n",
              "    </tr>\n",
              "  </thead>\n",
              "  <tbody>\n",
              "    <tr>\n",
              "      <th>129</th>\n",
              "      <td>120.078</td>\n",
              "      <td>126.632</td>\n",
              "      <td>105.667</td>\n",
              "      <td>0.00270</td>\n",
              "      <td>0.00002</td>\n",
              "      <td>0.00116</td>\n",
              "      <td>0.00135</td>\n",
              "      <td>0.00349</td>\n",
              "      <td>0.01022</td>\n",
              "      <td>0.090</td>\n",
              "      <td>0.00476</td>\n",
              "      <td>0.00588</td>\n",
              "      <td>0.00903</td>\n",
              "      <td>0.01428</td>\n",
              "      <td>0.00487</td>\n",
              "      <td>26.369</td>\n",
              "      <td>0.491345</td>\n",
              "      <td>0.718839</td>\n",
              "      <td>-5.892061</td>\n",
              "      <td>0.195976</td>\n",
              "      <td>2.108873</td>\n",
              "      <td>0.183572</td>\n",
              "      <td>129.0</td>\n",
              "      <td>0.468289</td>\n",
              "      <td>0.531711</td>\n",
              "    </tr>\n",
              "    <tr>\n",
              "      <th>91</th>\n",
              "      <td>151.955</td>\n",
              "      <td>163.335</td>\n",
              "      <td>147.226</td>\n",
              "      <td>0.00419</td>\n",
              "      <td>0.00003</td>\n",
              "      <td>0.00224</td>\n",
              "      <td>0.00227</td>\n",
              "      <td>0.00672</td>\n",
              "      <td>0.07959</td>\n",
              "      <td>0.772</td>\n",
              "      <td>0.04421</td>\n",
              "      <td>0.04962</td>\n",
              "      <td>0.05690</td>\n",
              "      <td>0.13262</td>\n",
              "      <td>0.01658</td>\n",
              "      <td>19.664</td>\n",
              "      <td>0.501037</td>\n",
              "      <td>0.714360</td>\n",
              "      <td>-6.411497</td>\n",
              "      <td>0.207156</td>\n",
              "      <td>2.344876</td>\n",
              "      <td>0.134120</td>\n",
              "      <td>91.0</td>\n",
              "      <td>0.021948</td>\n",
              "      <td>0.978052</td>\n",
              "    </tr>\n",
              "    <tr>\n",
              "      <th>25</th>\n",
              "      <td>104.400</td>\n",
              "      <td>206.002</td>\n",
              "      <td>77.968</td>\n",
              "      <td>0.00633</td>\n",
              "      <td>0.00006</td>\n",
              "      <td>0.00316</td>\n",
              "      <td>0.00375</td>\n",
              "      <td>0.00948</td>\n",
              "      <td>0.03767</td>\n",
              "      <td>0.381</td>\n",
              "      <td>0.01732</td>\n",
              "      <td>0.02245</td>\n",
              "      <td>0.03780</td>\n",
              "      <td>0.05197</td>\n",
              "      <td>0.02887</td>\n",
              "      <td>22.066</td>\n",
              "      <td>0.522746</td>\n",
              "      <td>0.737948</td>\n",
              "      <td>-5.571843</td>\n",
              "      <td>0.236853</td>\n",
              "      <td>2.846369</td>\n",
              "      <td>0.219514</td>\n",
              "      <td>25.0</td>\n",
              "      <td>0.001209</td>\n",
              "      <td>0.998791</td>\n",
              "    </tr>\n",
              "    <tr>\n",
              "      <th>164</th>\n",
              "      <td>102.273</td>\n",
              "      <td>142.830</td>\n",
              "      <td>85.902</td>\n",
              "      <td>0.00907</td>\n",
              "      <td>0.00009</td>\n",
              "      <td>0.00493</td>\n",
              "      <td>0.00461</td>\n",
              "      <td>0.01480</td>\n",
              "      <td>0.02814</td>\n",
              "      <td>0.272</td>\n",
              "      <td>0.01579</td>\n",
              "      <td>0.01553</td>\n",
              "      <td>0.02073</td>\n",
              "      <td>0.04736</td>\n",
              "      <td>0.03882</td>\n",
              "      <td>18.447</td>\n",
              "      <td>0.671378</td>\n",
              "      <td>0.674562</td>\n",
              "      <td>-2.929379</td>\n",
              "      <td>0.396746</td>\n",
              "      <td>2.560422</td>\n",
              "      <td>0.367233</td>\n",
              "      <td>164.0</td>\n",
              "      <td>0.000087</td>\n",
              "      <td>0.999913</td>\n",
              "    </tr>\n",
              "    <tr>\n",
              "      <th>171</th>\n",
              "      <td>112.547</td>\n",
              "      <td>133.374</td>\n",
              "      <td>105.715</td>\n",
              "      <td>0.00355</td>\n",
              "      <td>0.00003</td>\n",
              "      <td>0.00166</td>\n",
              "      <td>0.00190</td>\n",
              "      <td>0.00499</td>\n",
              "      <td>0.01358</td>\n",
              "      <td>0.129</td>\n",
              "      <td>0.00664</td>\n",
              "      <td>0.00786</td>\n",
              "      <td>0.01140</td>\n",
              "      <td>0.01992</td>\n",
              "      <td>0.00435</td>\n",
              "      <td>26.436</td>\n",
              "      <td>0.413295</td>\n",
              "      <td>0.756700</td>\n",
              "      <td>-6.323531</td>\n",
              "      <td>0.218885</td>\n",
              "      <td>2.193412</td>\n",
              "      <td>0.160376</td>\n",
              "      <td>171.0</td>\n",
              "      <td>0.766856</td>\n",
              "      <td>0.233144</td>\n",
              "    </tr>\n",
              "    <tr>\n",
              "      <th>7</th>\n",
              "      <td>107.332</td>\n",
              "      <td>113.840</td>\n",
              "      <td>104.315</td>\n",
              "      <td>0.00290</td>\n",
              "      <td>0.00003</td>\n",
              "      <td>0.00144</td>\n",
              "      <td>0.00182</td>\n",
              "      <td>0.00431</td>\n",
              "      <td>0.01567</td>\n",
              "      <td>0.134</td>\n",
              "      <td>0.00829</td>\n",
              "      <td>0.00946</td>\n",
              "      <td>0.01256</td>\n",
              "      <td>0.02487</td>\n",
              "      <td>0.00344</td>\n",
              "      <td>26.892</td>\n",
              "      <td>0.637420</td>\n",
              "      <td>0.763262</td>\n",
              "      <td>-6.167603</td>\n",
              "      <td>0.183721</td>\n",
              "      <td>2.064693</td>\n",
              "      <td>0.163755</td>\n",
              "      <td>7.0</td>\n",
              "      <td>0.118614</td>\n",
              "      <td>0.881386</td>\n",
              "    </tr>\n",
              "    <tr>\n",
              "      <th>157</th>\n",
              "      <td>117.963</td>\n",
              "      <td>134.209</td>\n",
              "      <td>100.757</td>\n",
              "      <td>0.01813</td>\n",
              "      <td>0.00015</td>\n",
              "      <td>0.01117</td>\n",
              "      <td>0.00718</td>\n",
              "      <td>0.03351</td>\n",
              "      <td>0.04912</td>\n",
              "      <td>0.438</td>\n",
              "      <td>0.02610</td>\n",
              "      <td>0.02161</td>\n",
              "      <td>0.02916</td>\n",
              "      <td>0.07830</td>\n",
              "      <td>0.10748</td>\n",
              "      <td>19.075</td>\n",
              "      <td>0.630547</td>\n",
              "      <td>0.646786</td>\n",
              "      <td>-3.444478</td>\n",
              "      <td>0.303214</td>\n",
              "      <td>2.964568</td>\n",
              "      <td>0.261305</td>\n",
              "      <td>157.0</td>\n",
              "      <td>0.000033</td>\n",
              "      <td>0.999967</td>\n",
              "    </tr>\n",
              "    <tr>\n",
              "      <th>112</th>\n",
              "      <td>204.664</td>\n",
              "      <td>221.300</td>\n",
              "      <td>189.621</td>\n",
              "      <td>0.00841</td>\n",
              "      <td>0.00004</td>\n",
              "      <td>0.00502</td>\n",
              "      <td>0.00485</td>\n",
              "      <td>0.01506</td>\n",
              "      <td>0.02378</td>\n",
              "      <td>0.210</td>\n",
              "      <td>0.01277</td>\n",
              "      <td>0.01483</td>\n",
              "      <td>0.01767</td>\n",
              "      <td>0.03831</td>\n",
              "      <td>0.01316</td>\n",
              "      <td>21.305</td>\n",
              "      <td>0.498877</td>\n",
              "      <td>0.722085</td>\n",
              "      <td>-4.876336</td>\n",
              "      <td>0.212054</td>\n",
              "      <td>2.376749</td>\n",
              "      <td>0.268144</td>\n",
              "      <td>112.0</td>\n",
              "      <td>0.034147</td>\n",
              "      <td>0.965853</td>\n",
              "    </tr>\n",
              "    <tr>\n",
              "      <th>115</th>\n",
              "      <td>151.872</td>\n",
              "      <td>492.892</td>\n",
              "      <td>69.085</td>\n",
              "      <td>0.00856</td>\n",
              "      <td>0.00006</td>\n",
              "      <td>0.00404</td>\n",
              "      <td>0.00385</td>\n",
              "      <td>0.01211</td>\n",
              "      <td>0.01843</td>\n",
              "      <td>0.235</td>\n",
              "      <td>0.00796</td>\n",
              "      <td>0.00832</td>\n",
              "      <td>0.01271</td>\n",
              "      <td>0.02389</td>\n",
              "      <td>0.06051</td>\n",
              "      <td>23.693</td>\n",
              "      <td>0.407701</td>\n",
              "      <td>0.662668</td>\n",
              "      <td>-4.673241</td>\n",
              "      <td>0.261549</td>\n",
              "      <td>2.702355</td>\n",
              "      <td>0.274407</td>\n",
              "      <td>115.0</td>\n",
              "      <td>0.008969</td>\n",
              "      <td>0.991031</td>\n",
              "    </tr>\n",
              "    <tr>\n",
              "      <th>6</th>\n",
              "      <td>120.267</td>\n",
              "      <td>137.244</td>\n",
              "      <td>114.820</td>\n",
              "      <td>0.00333</td>\n",
              "      <td>0.00003</td>\n",
              "      <td>0.00155</td>\n",
              "      <td>0.00202</td>\n",
              "      <td>0.00466</td>\n",
              "      <td>0.01608</td>\n",
              "      <td>0.140</td>\n",
              "      <td>0.00779</td>\n",
              "      <td>0.00937</td>\n",
              "      <td>0.01351</td>\n",
              "      <td>0.02337</td>\n",
              "      <td>0.00607</td>\n",
              "      <td>24.886</td>\n",
              "      <td>0.596040</td>\n",
              "      <td>0.764112</td>\n",
              "      <td>-5.634322</td>\n",
              "      <td>0.257682</td>\n",
              "      <td>1.854785</td>\n",
              "      <td>0.211756</td>\n",
              "      <td>6.0</td>\n",
              "      <td>0.079701</td>\n",
              "      <td>0.920299</td>\n",
              "    </tr>\n",
              "  </tbody>\n",
              "</table>\n",
              "</div>"
            ],
            "text/plain": [
              "     MDVP:Fo(Hz)  MDVP:Fhi(Hz)  ...      P(0)      P(1)\n",
              "129      120.078       126.632  ...  0.468289  0.531711\n",
              "91       151.955       163.335  ...  0.021948  0.978052\n",
              "25       104.400       206.002  ...  0.001209  0.998791\n",
              "164      102.273       142.830  ...  0.000087  0.999913\n",
              "171      112.547       133.374  ...  0.766856  0.233144\n",
              "7        107.332       113.840  ...  0.118614  0.881386\n",
              "157      117.963       134.209  ...  0.000033  0.999967\n",
              "112      204.664       221.300  ...  0.034147  0.965853\n",
              "115      151.872       492.892  ...  0.008969  0.991031\n",
              "6        120.267       137.244  ...  0.079701  0.920299\n",
              "\n",
              "[10 rows x 25 columns]"
            ]
          },
          "metadata": {
            "tags": []
          },
          "execution_count": 731
        }
      ]
    }
  ]
}